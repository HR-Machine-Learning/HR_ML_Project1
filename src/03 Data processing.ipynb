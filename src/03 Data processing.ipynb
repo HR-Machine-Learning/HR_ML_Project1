{
 "cells": [
  {
   "cell_type": "code",
   "execution_count": 1,
   "id": "dc92f211-fb66-4dcf-ab52-f21c956ed8f0",
   "metadata": {},
   "outputs": [],
   "source": [
    "import pandas as pd\n",
    "import numpy as np\n",
    "import seaborn as sns\n",
    "import matplotlib.pyplot as plt\n",
    "from sklearn.ensemble import RandomForestClassifier\n",
    "from sklearn.model_selection import train_test_split\n",
    "from sklearn.metrics import classification_report\n",
    "from sklearn.metrics import confusion_matrix\n",
    "from sklearn.preprocessing import OrdinalEncoder"
   ]
  },
  {
   "cell_type": "markdown",
   "id": "7846a4c6-d313-4549-a250-b8ea5ebf14ac",
   "metadata": {},
   "source": [
    "# Preprocessing the data and training the model"
   ]
  },
  {
   "cell_type": "code",
   "execution_count": 2,
   "id": "78f4fd59-9f09-4213-b87c-cecd3ee46efb",
   "metadata": {},
   "outputs": [],
   "source": [
    "raw_dataset = pd.read_csv('../data/okcupid.csv') \n",
    "okcupid_profiles = raw_dataset.drop(columns=\"Unnamed: 0\") "
   ]
  },
  {
   "cell_type": "markdown",
   "id": "65d4c467-cc5c-4203-92d8-55d10a361a24",
   "metadata": {},
   "source": [
    "As we can see from the output below, almost every column contains object types, which we can not use to fit the Random Forest. \n",
    "We need to convert the objects into numbers, and we can do that using OrdinalEncoder from sklearn.\n",
    "We also need to manage the missing data"
   ]
  },
  {
   "cell_type": "code",
   "execution_count": 3,
   "id": "073298fb-c6a1-43a0-85e5-59d38733ed11",
   "metadata": {},
   "outputs": [
    {
     "data": {
      "text/plain": [
       "age              int64\n",
       "status          object\n",
       "sex             object\n",
       "orientation     object\n",
       "body_type       object\n",
       "diet            object\n",
       "drinks          object\n",
       "drugs           object\n",
       "education       object\n",
       "ethnicity       object\n",
       "height         float64\n",
       "income           int64\n",
       "job             object\n",
       "last_online     object\n",
       "location        object\n",
       "offspring       object\n",
       "pets            object\n",
       "religion        object\n",
       "sign            object\n",
       "smokes          object\n",
       "speaks          object\n",
       "dtype: object"
      ]
     },
     "execution_count": 3,
     "metadata": {},
     "output_type": "execute_result"
    }
   ],
   "source": [
    "okcupid_profiles.dtypes"
   ]
  },
  {
   "cell_type": "markdown",
   "id": "427cf366-1a4e-4501-bf04-f0acb204a953",
   "metadata": {},
   "source": [
    "## Reworking the dataset\n",
    "### Dropping columns"
   ]
  },
  {
   "cell_type": "markdown",
   "id": "8a5728e7-e98b-4b72-aeba-e27babe040cf",
   "metadata": {},
   "source": [
    "We noticed that for many labels, the value distribution is... a bit unusable. We have like 50000 occurences of a single value, and too few of the others.\n",
    "We decided to solve this by introducing some changes to the dataset."
   ]
  },
  {
   "cell_type": "markdown",
   "id": "55ec1071-e9af-4909-a17d-b6729c18b68e",
   "metadata": {},
   "source": [
    "We are going to drop the following columns:"
   ]
  },
  {
   "cell_type": "code",
   "execution_count": 4,
   "id": "1b65394b-7f9e-479d-a1ca-8391f180c965",
   "metadata": {},
   "outputs": [],
   "source": [
    "okcupid_profiles = okcupid_profiles.drop(columns = ['status', \n",
    "                                                     'orientation',\n",
    "                                                     'diet',\n",
    "                                                     'drinks',\n",
    "                                                     'drugs',\n",
    "                                                     'education',\n",
    "                                                     'ethnicity',\n",
    "                                                     'income',\n",
    "                                                     'last_online',\n",
    "                                                     'offspring',\n",
    "                                                     'pets',\n",
    "                                                     'smokes',\n",
    "                                                     'speaks'])"
   ]
  },
  {
   "cell_type": "markdown",
   "id": "fdc32379-d013-4ce0-8a46-2f8df356798c",
   "metadata": {},
   "source": [
    "Now we are left with:"
   ]
  },
  {
   "cell_type": "code",
   "execution_count": 5,
   "id": "3b9e5de2-107d-4aed-a9c1-94cb5530d834",
   "metadata": {},
   "outputs": [
    {
     "name": "stdout",
     "output_type": "stream",
     "text": [
      "age\n",
      "sex\n",
      "body_type\n",
      "height\n",
      "job\n",
      "location\n",
      "religion\n",
      "sign\n"
     ]
    }
   ],
   "source": [
    "for element in okcupid_profiles.columns:\n",
    "    print(element)"
   ]
  },
  {
   "cell_type": "markdown",
   "id": "d9578481",
   "metadata": {},
   "source": [
    "### Handling 'age'"
   ]
  },
  {
   "cell_type": "code",
   "execution_count": 6,
   "id": "b19066b8",
   "metadata": {},
   "outputs": [
    {
     "name": "stdout",
     "output_type": "stream",
     "text": [
      "25.0     17818\n",
      "30.0     12579\n",
      "20.0     10003\n",
      "35.0      7267\n",
      "40.0      4648\n",
      "45.0      2690\n",
      "50.0      1650\n",
      "55.0      1210\n",
      "15.0       920\n",
      "60.0       789\n",
      "65.0       370\n",
      "110.0        1\n",
      "105.0        1\n",
      "Name: age_grouped, dtype: int64\n"
     ]
    },
    {
     "data": {
      "text/html": [
       "<div>\n",
       "<style scoped>\n",
       "    .dataframe tbody tr th:only-of-type {\n",
       "        vertical-align: middle;\n",
       "    }\n",
       "\n",
       "    .dataframe tbody tr th {\n",
       "        vertical-align: top;\n",
       "    }\n",
       "\n",
       "    .dataframe thead th {\n",
       "        text-align: right;\n",
       "    }\n",
       "</style>\n",
       "<table border=\"1\" class=\"dataframe\">\n",
       "  <thead>\n",
       "    <tr style=\"text-align: right;\">\n",
       "      <th></th>\n",
       "      <th>sex</th>\n",
       "      <th>body_type</th>\n",
       "      <th>height</th>\n",
       "      <th>job</th>\n",
       "      <th>location</th>\n",
       "      <th>religion</th>\n",
       "      <th>sign</th>\n",
       "      <th>age_grouped</th>\n",
       "    </tr>\n",
       "  </thead>\n",
       "  <tbody>\n",
       "    <tr>\n",
       "      <th>0</th>\n",
       "      <td>m</td>\n",
       "      <td>a little extra</td>\n",
       "      <td>75.0</td>\n",
       "      <td>transportation</td>\n",
       "      <td>south san francisco, california</td>\n",
       "      <td>agnosticism and very serious about it</td>\n",
       "      <td>gemini</td>\n",
       "      <td>20.0</td>\n",
       "    </tr>\n",
       "    <tr>\n",
       "      <th>1</th>\n",
       "      <td>m</td>\n",
       "      <td>average</td>\n",
       "      <td>70.0</td>\n",
       "      <td>hospitality / travel</td>\n",
       "      <td>oakland, california</td>\n",
       "      <td>agnosticism but not too serious about it</td>\n",
       "      <td>cancer</td>\n",
       "      <td>35.0</td>\n",
       "    </tr>\n",
       "    <tr>\n",
       "      <th>2</th>\n",
       "      <td>m</td>\n",
       "      <td>thin</td>\n",
       "      <td>68.0</td>\n",
       "      <td>NaN</td>\n",
       "      <td>san francisco, california</td>\n",
       "      <td>NaN</td>\n",
       "      <td>pisces but it doesn&amp;rsquo;t matter</td>\n",
       "      <td>35.0</td>\n",
       "    </tr>\n",
       "    <tr>\n",
       "      <th>3</th>\n",
       "      <td>m</td>\n",
       "      <td>thin</td>\n",
       "      <td>71.0</td>\n",
       "      <td>student</td>\n",
       "      <td>berkeley, california</td>\n",
       "      <td>NaN</td>\n",
       "      <td>pisces</td>\n",
       "      <td>20.0</td>\n",
       "    </tr>\n",
       "    <tr>\n",
       "      <th>4</th>\n",
       "      <td>m</td>\n",
       "      <td>athletic</td>\n",
       "      <td>66.0</td>\n",
       "      <td>artistic / musical / writer</td>\n",
       "      <td>san francisco, california</td>\n",
       "      <td>NaN</td>\n",
       "      <td>aquarius</td>\n",
       "      <td>25.0</td>\n",
       "    </tr>\n",
       "    <tr>\n",
       "      <th>...</th>\n",
       "      <td>...</td>\n",
       "      <td>...</td>\n",
       "      <td>...</td>\n",
       "      <td>...</td>\n",
       "      <td>...</td>\n",
       "      <td>...</td>\n",
       "      <td>...</td>\n",
       "      <td>...</td>\n",
       "    </tr>\n",
       "    <tr>\n",
       "      <th>59941</th>\n",
       "      <td>f</td>\n",
       "      <td>NaN</td>\n",
       "      <td>62.0</td>\n",
       "      <td>sales / marketing / biz dev</td>\n",
       "      <td>oakland, california</td>\n",
       "      <td>catholicism but not too serious about it</td>\n",
       "      <td>cancer and it&amp;rsquo;s fun to think about</td>\n",
       "      <td>55.0</td>\n",
       "    </tr>\n",
       "    <tr>\n",
       "      <th>59942</th>\n",
       "      <td>m</td>\n",
       "      <td>fit</td>\n",
       "      <td>72.0</td>\n",
       "      <td>entertainment / media</td>\n",
       "      <td>san francisco, california</td>\n",
       "      <td>agnosticism</td>\n",
       "      <td>leo but it doesn&amp;rsquo;t matter</td>\n",
       "      <td>20.0</td>\n",
       "    </tr>\n",
       "    <tr>\n",
       "      <th>59943</th>\n",
       "      <td>m</td>\n",
       "      <td>average</td>\n",
       "      <td>71.0</td>\n",
       "      <td>construction / craftsmanship</td>\n",
       "      <td>south san francisco, california</td>\n",
       "      <td>christianity but not too serious about it</td>\n",
       "      <td>sagittarius but it doesn&amp;rsquo;t matter</td>\n",
       "      <td>40.0</td>\n",
       "    </tr>\n",
       "    <tr>\n",
       "      <th>59944</th>\n",
       "      <td>m</td>\n",
       "      <td>athletic</td>\n",
       "      <td>73.0</td>\n",
       "      <td>medicine / health</td>\n",
       "      <td>san francisco, california</td>\n",
       "      <td>agnosticism but not too serious about it</td>\n",
       "      <td>leo and it&amp;rsquo;s fun to think about</td>\n",
       "      <td>25.0</td>\n",
       "    </tr>\n",
       "    <tr>\n",
       "      <th>59945</th>\n",
       "      <td>m</td>\n",
       "      <td>average</td>\n",
       "      <td>68.0</td>\n",
       "      <td>medicine / health</td>\n",
       "      <td>san francisco, california</td>\n",
       "      <td>catholicism and laughing about it</td>\n",
       "      <td>gemini and it&amp;rsquo;s fun to think about</td>\n",
       "      <td>35.0</td>\n",
       "    </tr>\n",
       "  </tbody>\n",
       "</table>\n",
       "<p>59946 rows × 8 columns</p>\n",
       "</div>"
      ],
      "text/plain": [
       "      sex       body_type  height                           job  \\\n",
       "0       m  a little extra    75.0                transportation   \n",
       "1       m         average    70.0          hospitality / travel   \n",
       "2       m            thin    68.0                           NaN   \n",
       "3       m            thin    71.0                       student   \n",
       "4       m        athletic    66.0   artistic / musical / writer   \n",
       "...    ..             ...     ...                           ...   \n",
       "59941   f             NaN    62.0   sales / marketing / biz dev   \n",
       "59942   m             fit    72.0         entertainment / media   \n",
       "59943   m         average    71.0  construction / craftsmanship   \n",
       "59944   m        athletic    73.0             medicine / health   \n",
       "59945   m         average    68.0             medicine / health   \n",
       "\n",
       "                              location  \\\n",
       "0      south san francisco, california   \n",
       "1                  oakland, california   \n",
       "2            san francisco, california   \n",
       "3                 berkeley, california   \n",
       "4            san francisco, california   \n",
       "...                                ...   \n",
       "59941              oakland, california   \n",
       "59942        san francisco, california   \n",
       "59943  south san francisco, california   \n",
       "59944        san francisco, california   \n",
       "59945        san francisco, california   \n",
       "\n",
       "                                        religion  \\\n",
       "0          agnosticism and very serious about it   \n",
       "1       agnosticism but not too serious about it   \n",
       "2                                            NaN   \n",
       "3                                            NaN   \n",
       "4                                            NaN   \n",
       "...                                          ...   \n",
       "59941   catholicism but not too serious about it   \n",
       "59942                                agnosticism   \n",
       "59943  christianity but not too serious about it   \n",
       "59944   agnosticism but not too serious about it   \n",
       "59945          catholicism and laughing about it   \n",
       "\n",
       "                                           sign  age_grouped  \n",
       "0                                        gemini         20.0  \n",
       "1                                        cancer         35.0  \n",
       "2            pisces but it doesn&rsquo;t matter         35.0  \n",
       "3                                        pisces         20.0  \n",
       "4                                      aquarius         25.0  \n",
       "...                                         ...          ...  \n",
       "59941  cancer and it&rsquo;s fun to think about         55.0  \n",
       "59942           leo but it doesn&rsquo;t matter         20.0  \n",
       "59943   sagittarius but it doesn&rsquo;t matter         40.0  \n",
       "59944     leo and it&rsquo;s fun to think about         25.0  \n",
       "59945  gemini and it&rsquo;s fun to think about         35.0  \n",
       "\n",
       "[59946 rows x 8 columns]"
      ]
     },
     "execution_count": 6,
     "metadata": {},
     "output_type": "execute_result"
    }
   ],
   "source": [
    "okcupid_profiles['age_grouped'] = okcupid_profiles['age'].apply(lambda x: 5*np.floor(x/5))\n",
    "print( okcupid_profiles['age_grouped'].value_counts() )\n",
    "okcupid_profiles.drop(columns = 'age')"
   ]
  },
  {
   "cell_type": "markdown",
   "id": "4cf8c6fa-0297-4a8c-b341-46b8ef054a5a",
   "metadata": {},
   "source": [
    "### Handling 'religion'"
   ]
  },
  {
   "cell_type": "code",
   "execution_count": 7,
   "id": "dde0fcc8-0ba1-432e-b04f-6df37331ee52",
   "metadata": {},
   "outputs": [
    {
     "data": {
      "text/plain": [
       "20226"
      ]
     },
     "execution_count": 7,
     "metadata": {},
     "output_type": "execute_result"
    }
   ],
   "source": [
    "pd.isna(okcupid_profiles[\"religion\"]).sum()"
   ]
  },
  {
   "cell_type": "code",
   "execution_count": 8,
   "id": "f4090723-332c-403d-b923-cf3891dc615e",
   "metadata": {},
   "outputs": [
    {
     "data": {
      "text/plain": [
       "agnosticism                                   2724\n",
       "other                                         2691\n",
       "agnosticism but not too serious about it      2636\n",
       "agnosticism and laughing about it             2496\n",
       "catholicism but not too serious about it      2318\n",
       "atheism                                       2175\n",
       "other and laughing about it                   2119\n",
       "atheism and laughing about it                 2074\n",
       "christianity                                  1957\n",
       "christianity but not too serious about it     1952\n",
       "other but not too serious about it            1554\n",
       "judaism but not too serious about it          1517\n",
       "atheism but not too serious about it          1318\n",
       "catholicism                                   1064\n",
       "christianity and somewhat serious about it     927\n",
       "atheism and somewhat serious about it          848\n",
       "other and somewhat serious about it            846\n",
       "catholicism and laughing about it              726\n",
       "judaism and laughing about it                  681\n",
       "buddhism but not too serious about it          650\n",
       "agnosticism and somewhat serious about it      642\n",
       "judaism                                        612\n",
       "christianity and very serious about it         578\n",
       "atheism and very serious about it              570\n",
       "catholicism and somewhat serious about it      548\n",
       "other and very serious about it                533\n",
       "buddhism and laughing about it                 466\n",
       "buddhism                                       403\n",
       "christianity and laughing about it             373\n",
       "buddhism and somewhat serious about it         359\n",
       "agnosticism and very serious about it          314\n",
       "judaism and somewhat serious about it          266\n",
       "hinduism but not too serious about it          227\n",
       "hinduism                                       107\n",
       "catholicism and very serious about it          102\n",
       "buddhism and very serious about it              70\n",
       "hinduism and somewhat serious about it          58\n",
       "islam                                           48\n",
       "hinduism and laughing about it                  44\n",
       "islam but not too serious about it              40\n",
       "judaism and very serious about it               22\n",
       "islam and somewhat serious about it             22\n",
       "islam and laughing about it                     16\n",
       "hinduism and very serious about it              14\n",
       "islam and very serious about it                 13\n",
       "Name: religion, dtype: int64"
      ]
     },
     "execution_count": 8,
     "metadata": {},
     "output_type": "execute_result"
    }
   ],
   "source": [
    "okcupid_profiles['religion'].value_counts()"
   ]
  },
  {
   "cell_type": "markdown",
   "id": "22ab0ee8-f92a-4f85-8d5d-dc7cfe74ca9a",
   "metadata": {},
   "source": [
    "As we can see from the value count, the data is a bit too sparse. We are going to merge all the various religion occurences together."
   ]
  },
  {
   "cell_type": "code",
   "execution_count": 9,
   "id": "367239ed-c393-4c40-a2a4-96803ce89c58",
   "metadata": {},
   "outputs": [],
   "source": [
    "# in the religion column, find values containing the word \"christian\" and replace them with \"christian\"\n",
    "okcupid_profiles['religion'] = okcupid_profiles['religion'].str.replace('christianity but not too serious about it', 'christian')\n",
    "okcupid_profiles['religion'] = okcupid_profiles['religion'].str.replace('christianity and very serious about it', 'christian')\n",
    "okcupid_profiles['religion'] = okcupid_profiles['religion'].str.replace('christianity and somewhat serious about it', 'christian')\n",
    "okcupid_profiles['religion'] = okcupid_profiles['religion'].str.replace('christianity and laughing about it', 'christian')\n",
    "okcupid_profiles['religion'] = okcupid_profiles['religion'].str.replace('christianity and somewhat serious about it', 'christian')\n",
    "okcupid_profiles['religion'] = okcupid_profiles['religion'].str.replace('christianity and very serious about it', 'christian')\n",
    "okcupid_profiles['religion'] = okcupid_profiles['religion'].str.replace('christianity', 'christian')"
   ]
  },
  {
   "cell_type": "code",
   "execution_count": 10,
   "id": "6c9f36fc",
   "metadata": {},
   "outputs": [],
   "source": [
    "# in the religion column, find values containing the word \"agnosticism\" and replace them with \"agnostic\"\n",
    "okcupid_profiles['religion'] = okcupid_profiles['religion'].str.replace('agnosticism but not too serious about it', 'agnostic')\n",
    "okcupid_profiles['religion'] = okcupid_profiles['religion'].str.replace('agnosticism and very serious about it', 'agnostic')\n",
    "okcupid_profiles['religion'] = okcupid_profiles['religion'].str.replace('agnosticism and somewhat serious about it', 'agnostic')\n",
    "okcupid_profiles['religion'] = okcupid_profiles['religion'].str.replace('agnosticism and laughing about it', 'agnostic')\n",
    "okcupid_profiles['religion'] = okcupid_profiles['religion'].str.replace('agnosticism and somewhat serious about it', 'agnostic')\n",
    "okcupid_profiles['religion'] = okcupid_profiles['religion'].str.replace('agnosticism and very serious about it', 'agnostic')\n",
    "okcupid_profiles['religion'] = okcupid_profiles['religion'].str.replace('agnosticism', 'agnostic')"
   ]
  },
  {
   "cell_type": "code",
   "execution_count": 11,
   "id": "58349b35",
   "metadata": {},
   "outputs": [],
   "source": [
    "# in the religion column, find values containing the word \"atheism\" and replace them with \"atheist\"\n",
    "okcupid_profiles['religion'] = okcupid_profiles['religion'].str.replace('atheism but not too serious about it', 'atheist')\n",
    "okcupid_profiles['religion'] = okcupid_profiles['religion'].str.replace('atheism and very serious about it', 'atheist')\n",
    "okcupid_profiles['religion'] = okcupid_profiles['religion'].str.replace('atheism and somewhat serious about it', 'atheist')\n",
    "okcupid_profiles['religion'] = okcupid_profiles['religion'].str.replace('atheism and laughing about it', 'atheist')\n",
    "okcupid_profiles['religion'] = okcupid_profiles['religion'].str.replace('atheism and somewhat serious about it', 'atheist')\n",
    "okcupid_profiles['religion'] = okcupid_profiles['religion'].str.replace('atheism and very serious about it', 'atheist')\n",
    "okcupid_profiles['religion'] = okcupid_profiles['religion'].str.replace('atheism', 'atheist')"
   ]
  },
  {
   "cell_type": "code",
   "execution_count": 12,
   "id": "a40b9f97",
   "metadata": {},
   "outputs": [],
   "source": [
    "# in the religion column, find values containing the word \"catholicism\" and replace them with \"catholic\"\n",
    "okcupid_profiles['religion'] = okcupid_profiles['religion'].str.replace('catholicism but not too serious about it', 'catholic')\n",
    "okcupid_profiles['religion'] = okcupid_profiles['religion'].str.replace('catholicism and very serious about it', 'catholic')\n",
    "okcupid_profiles['religion'] = okcupid_profiles['religion'].str.replace('catholicism and somewhat serious about it', 'catholic')\n",
    "okcupid_profiles['religion'] = okcupid_profiles['religion'].str.replace('catholicism and laughing about it', 'catholic')\n",
    "okcupid_profiles['religion'] = okcupid_profiles['religion'].str.replace('catholicism and somewhat serious about it', 'catholic')\n",
    "okcupid_profiles['religion'] = okcupid_profiles['religion'].str.replace('catholicism and very serious about it', 'catholic')\n",
    "okcupid_profiles['religion'] = okcupid_profiles['religion'].str.replace('catholicism', 'catholic')"
   ]
  },
  {
   "cell_type": "code",
   "execution_count": 13,
   "id": "909ad023",
   "metadata": {},
   "outputs": [],
   "source": [
    "# in the religion column, find values containing the word \"judaism\" and replace them with \"jewish\"\n",
    "okcupid_profiles['religion'] = okcupid_profiles['religion'].str.replace('judaism but not too serious about it', 'jewish')\n",
    "okcupid_profiles['religion'] = okcupid_profiles['religion'].str.replace('judaism and very serious about it', 'jewish')\n",
    "okcupid_profiles['religion'] = okcupid_profiles['religion'].str.replace('judaism and somewhat serious about it', 'jewish')\n",
    "okcupid_profiles['religion'] = okcupid_profiles['religion'].str.replace('judaism and laughing about it', 'jewish')\n",
    "okcupid_profiles['religion'] = okcupid_profiles['religion'].str.replace('judaism and somewhat serious about it', 'jewish')\n",
    "okcupid_profiles['religion'] = okcupid_profiles['religion'].str.replace('judaism and very serious about it', 'jewish')\n",
    "okcupid_profiles['religion'] = okcupid_profiles['religion'].str.replace('judaism', 'jewish')"
   ]
  },
  {
   "cell_type": "code",
   "execution_count": 14,
   "id": "73f11cdb",
   "metadata": {},
   "outputs": [],
   "source": [
    "# in the religion column, find values containing the word \"buddhism\" and replace them with \"buddhist\"\n",
    "okcupid_profiles['religion'] = okcupid_profiles['religion'].str.replace('buddhism but not too serious about it', 'buddhist')\n",
    "okcupid_profiles['religion'] = okcupid_profiles['religion'].str.replace('buddhism and very serious about it', 'buddhist')\n",
    "okcupid_profiles['religion'] = okcupid_profiles['religion'].str.replace('buddhism and somewhat serious about it', 'buddhist')\n",
    "okcupid_profiles['religion'] = okcupid_profiles['religion'].str.replace('buddhism and laughing about it', 'buddhist')\n",
    "okcupid_profiles['religion'] = okcupid_profiles['religion'].str.replace('buddhism and somewhat serious about it', 'buddhist')\n",
    "okcupid_profiles['religion'] = okcupid_profiles['religion'].str.replace('buddhism and very serious about it', 'buddhist')\n",
    "okcupid_profiles['religion'] = okcupid_profiles['religion'].str.replace('buddhism', 'buddhist')"
   ]
  },
  {
   "cell_type": "code",
   "execution_count": 15,
   "id": "b36365bf",
   "metadata": {},
   "outputs": [],
   "source": [
    "# in the religion column, find values containing the word \"hinduism\" and replace them with \"hindu\"\n",
    "okcupid_profiles['religion'] = okcupid_profiles['religion'].str.replace('hinduism but not too serious about it', 'hindu')\n",
    "okcupid_profiles['religion'] = okcupid_profiles['religion'].str.replace('hinduism and very serious about it', 'hindu')\n",
    "okcupid_profiles['religion'] = okcupid_profiles['religion'].str.replace('hinduism and somewhat serious about it', 'hindu')\n",
    "okcupid_profiles['religion'] = okcupid_profiles['religion'].str.replace('hinduism and laughing about it', 'hindu')\n",
    "okcupid_profiles['religion'] = okcupid_profiles['religion'].str.replace('hinduism and somewhat serious about it', 'hindu')\n",
    "okcupid_profiles['religion'] = okcupid_profiles['religion'].str.replace('hinduism and very serious about it', 'hindu')\n",
    "okcupid_profiles['religion'] = okcupid_profiles['religion'].str.replace('hinduism', 'hindu')"
   ]
  },
  {
   "cell_type": "code",
   "execution_count": 16,
   "id": "b1fa68a5",
   "metadata": {},
   "outputs": [],
   "source": [
    "# in the religion column, find values containing the word \"islam\" and replace them with \"muslim\"\n",
    "okcupid_profiles['religion'] = okcupid_profiles['religion'].str.replace('islam but not too serious about it', 'muslim')\n",
    "okcupid_profiles['religion'] = okcupid_profiles['religion'].str.replace('islam and very serious about it', 'muslim')\n",
    "okcupid_profiles['religion'] = okcupid_profiles['religion'].str.replace('islam and somewhat serious about it', 'muslim')\n",
    "okcupid_profiles['religion'] = okcupid_profiles['religion'].str.replace('islam and laughing about it', 'muslim')\n",
    "okcupid_profiles['religion'] = okcupid_profiles['religion'].str.replace('islam and somewhat serious about it', 'muslim')\n",
    "okcupid_profiles['religion'] = okcupid_profiles['religion'].str.replace('islam and very serious about it', 'muslim')\n",
    "okcupid_profiles['religion'] = okcupid_profiles['religion'].str.replace('islam', 'muslim')"
   ]
  },
  {
   "cell_type": "code",
   "execution_count": 17,
   "id": "89bd41df",
   "metadata": {},
   "outputs": [],
   "source": [
    "# in the religion column, find values containing the word \"other\" and replace them with \"other\"\n",
    "okcupid_profiles['religion'] = okcupid_profiles['religion'].str.replace('other but not too serious about it', 'other')\n",
    "okcupid_profiles['religion'] = okcupid_profiles['religion'].str.replace('other and very serious about it', 'other')\n",
    "okcupid_profiles['religion'] = okcupid_profiles['religion'].str.replace('other and somewhat serious about it', 'other')\n",
    "okcupid_profiles['religion'] = okcupid_profiles['religion'].str.replace('other and laughing about it', 'other')\n",
    "okcupid_profiles['religion'] = okcupid_profiles['religion'].str.replace('other and somewhat serious about it', 'other')\n",
    "okcupid_profiles['religion'] = okcupid_profiles['religion'].str.replace('other and very serious about it', 'other')\n",
    "okcupid_profiles['religion'] = okcupid_profiles['religion'].str.replace('other', 'other')"
   ]
  },
  {
   "cell_type": "code",
   "execution_count": 18,
   "id": "9e9a8788",
   "metadata": {},
   "outputs": [
    {
     "name": "stdout",
     "output_type": "stream",
     "text": [
      "agnostic     8812\n",
      "other        7743\n",
      "atheist      6985\n",
      "christian    5787\n",
      "catholic     4758\n",
      "jewish       3098\n",
      "buddhist     1948\n",
      "hindu         450\n",
      "muslim        139\n",
      "Name: religion, dtype: int64\n",
      "Missing values:  20226\n"
     ]
    }
   ],
   "source": [
    "print(okcupid_profiles['religion'].value_counts())\n",
    "print(\"Missing values: \", okcupid_profiles['religion'].isnull().sum())"
   ]
  },
  {
   "cell_type": "markdown",
   "id": "5b4ef039",
   "metadata": {},
   "source": [
    "At this point, we noticed that we have too many missing values, since we are also considering the 'other' as basically missing. So we are just going to have to convert the religion attribute to a boolean."
   ]
  },
  {
   "cell_type": "code",
   "execution_count": 19,
   "id": "ea47207f",
   "metadata": {},
   "outputs": [],
   "source": [
    "\"\"\"for the religion column, convert the missing data into a boolean false, \n",
    "convert the 'other' values into boolean false, and the rest boolean true\n",
    "\"\"\"\n",
    "okcupid_profiles['religion'] = okcupid_profiles['religion'].fillna(False)\n",
    "okcupid_profiles['religion'] = okcupid_profiles['religion'].replace('other', False)\n",
    "okcupid_profiles['religion'] = okcupid_profiles['religion'].replace('agnostic', True)\n",
    "okcupid_profiles['religion'] = okcupid_profiles['religion'].replace('atheist', True)\n",
    "okcupid_profiles['religion'] = okcupid_profiles['religion'].replace('christian', True)\n",
    "okcupid_profiles['religion'] = okcupid_profiles['religion'].replace('catholic', True)\n",
    "okcupid_profiles['religion'] = okcupid_profiles['religion'].replace('jewish', True)\n",
    "okcupid_profiles['religion'] = okcupid_profiles['religion'].replace('buddhist', True)\n",
    "okcupid_profiles['religion'] = okcupid_profiles['religion'].replace('hindu', True)\n",
    "okcupid_profiles['religion'] = okcupid_profiles['religion'].replace('muslim', True)\n"
   ]
  },
  {
   "cell_type": "code",
   "execution_count": 20,
   "id": "085cd96f",
   "metadata": {},
   "outputs": [],
   "source": [
    "okcupid_profiles.rename(columns = {'religion': 'religious'}, inplace = True)"
   ]
  },
  {
   "cell_type": "code",
   "execution_count": 21,
   "id": "2fc92fff",
   "metadata": {},
   "outputs": [
    {
     "data": {
      "text/plain": [
       "True     31977\n",
       "False    27969\n",
       "Name: religious, dtype: int64"
      ]
     },
     "execution_count": 21,
     "metadata": {},
     "output_type": "execute_result"
    }
   ],
   "source": [
    "okcupid_profiles['religious'].value_counts()"
   ]
  },
  {
   "cell_type": "markdown",
   "id": "32b78dbf",
   "metadata": {},
   "source": [
    "### Handling 'sign'"
   ]
  },
  {
   "cell_type": "code",
   "execution_count": 22,
   "id": "4f6719b9",
   "metadata": {},
   "outputs": [
    {
     "data": {
      "text/plain": [
       "11056"
      ]
     },
     "execution_count": 22,
     "metadata": {},
     "output_type": "execute_result"
    }
   ],
   "source": [
    "pd.isna(okcupid_profiles[\"sign\"]).sum()"
   ]
  },
  {
   "cell_type": "code",
   "execution_count": 23,
   "id": "105a3cee",
   "metadata": {},
   "outputs": [
    {
     "data": {
      "text/plain": [
       "gemini and it&rsquo;s fun to think about         1782\n",
       "scorpio and it&rsquo;s fun to think about        1772\n",
       "leo and it&rsquo;s fun to think about            1692\n",
       "libra and it&rsquo;s fun to think about          1649\n",
       "taurus and it&rsquo;s fun to think about         1640\n",
       "cancer and it&rsquo;s fun to think about         1597\n",
       "pisces and it&rsquo;s fun to think about         1592\n",
       "sagittarius and it&rsquo;s fun to think about    1583\n",
       "virgo and it&rsquo;s fun to think about          1574\n",
       "aries and it&rsquo;s fun to think about          1573\n",
       "aquarius and it&rsquo;s fun to think about       1503\n",
       "virgo but it doesn&rsquo;t matter                1497\n",
       "leo but it doesn&rsquo;t matter                  1457\n",
       "cancer but it doesn&rsquo;t matter               1454\n",
       "gemini but it doesn&rsquo;t matter               1453\n",
       "taurus but it doesn&rsquo;t matter               1450\n",
       "libra but it doesn&rsquo;t matter                1408\n",
       "aquarius but it doesn&rsquo;t matter             1408\n",
       "capricorn and it&rsquo;s fun to think about      1376\n",
       "sagittarius but it doesn&rsquo;t matter          1375\n",
       "aries but it doesn&rsquo;t matter                1373\n",
       "capricorn but it doesn&rsquo;t matter            1319\n",
       "pisces but it doesn&rsquo;t matter               1300\n",
       "scorpio but it doesn&rsquo;t matter              1264\n",
       "leo                                              1159\n",
       "libra                                            1098\n",
       "cancer                                           1092\n",
       "virgo                                            1029\n",
       "scorpio                                          1020\n",
       "gemini                                           1013\n",
       "taurus                                           1001\n",
       "aries                                             996\n",
       "pisces                                            992\n",
       "aquarius                                          954\n",
       "sagittarius                                       937\n",
       "capricorn                                         833\n",
       "scorpio and it matters a lot                       78\n",
       "leo and it matters a lot                           66\n",
       "cancer and it matters a lot                        63\n",
       "aquarius and it matters a lot                      63\n",
       "pisces and it matters a lot                        62\n",
       "gemini and it matters a lot                        62\n",
       "libra and it matters a lot                         52\n",
       "taurus and it matters a lot                        49\n",
       "aries and it matters a lot                         47\n",
       "sagittarius and it matters a lot                   47\n",
       "capricorn and it matters a lot                     45\n",
       "virgo and it matters a lot                         41\n",
       "Name: sign, dtype: int64"
      ]
     },
     "execution_count": 23,
     "metadata": {},
     "output_type": "execute_result"
    }
   ],
   "source": [
    "okcupid_profiles['sign'].value_counts()"
   ]
  },
  {
   "cell_type": "code",
   "execution_count": 24,
   "id": "6dc14589-0257-4e6f-98f6-a02353ee950d",
   "metadata": {},
   "outputs": [],
   "source": [
    "okcupid_profiles['sign'] = okcupid_profiles['sign'].str.replace('gemini and it&rsquo;s fun to think about', 'gemini')\n",
    "okcupid_profiles['sign'] = okcupid_profiles['sign'].str.replace('gemini but it doesn&rsquo;t matter', 'gemini')\n",
    "okcupid_profiles['sign'] = okcupid_profiles['sign'].str.replace('gemini and it matters a lot', 'gemini')"
   ]
  },
  {
   "cell_type": "code",
   "execution_count": 25,
   "id": "8b77f576-a2ad-40eb-872f-0336d11ed5d8",
   "metadata": {},
   "outputs": [],
   "source": [
    "okcupid_profiles['sign'] = okcupid_profiles['sign'].str.replace('scorpio and it&rsquo;s fun to think about', 'scorpio')\n",
    "okcupid_profiles['sign'] = okcupid_profiles['sign'].str.replace('scorpio but it doesn&rsquo;t matter', 'scorpio')\n",
    "okcupid_profiles['sign'] = okcupid_profiles['sign'].str.replace('scorpio and it matters a lot', 'scorpio')"
   ]
  },
  {
   "cell_type": "code",
   "execution_count": 26,
   "id": "ba82d159-e0ae-4e96-b3f1-1dec8351ab2d",
   "metadata": {},
   "outputs": [],
   "source": [
    "okcupid_profiles['sign'] = okcupid_profiles['sign'].str.replace('leo and it&rsquo;s fun to think about', 'leo')\n",
    "okcupid_profiles['sign'] = okcupid_profiles['sign'].str.replace('leo but it doesn&rsquo;t matter', 'leo')\n",
    "okcupid_profiles['sign'] = okcupid_profiles['sign'].str.replace('leo and it matters a lot', 'leo')"
   ]
  },
  {
   "cell_type": "code",
   "execution_count": 27,
   "id": "444a7c2a-ed0d-4b9b-9f7e-7b59c96870b1",
   "metadata": {},
   "outputs": [],
   "source": [
    "okcupid_profiles['sign'] = okcupid_profiles['sign'].str.replace('libra and it&rsquo;s fun to think about', 'libra')\n",
    "okcupid_profiles['sign'] = okcupid_profiles['sign'].str.replace('libra but it doesn&rsquo;t matter', 'libra')\n",
    "okcupid_profiles['sign'] = okcupid_profiles['sign'].str.replace('libra and it matters a lot', 'libra')"
   ]
  },
  {
   "cell_type": "code",
   "execution_count": 28,
   "id": "b31a2125-293f-4743-8d29-0ab304f4872c",
   "metadata": {},
   "outputs": [],
   "source": [
    "okcupid_profiles['sign'] = okcupid_profiles['sign'].str.replace('taurus and it&rsquo;s fun to think about', 'taurus')\n",
    "okcupid_profiles['sign'] = okcupid_profiles['sign'].str.replace('taurus but it doesn&rsquo;t matter', 'taurus')\n",
    "okcupid_profiles['sign'] = okcupid_profiles['sign'].str.replace('taurus and it matters a lot', 'taurus')"
   ]
  },
  {
   "cell_type": "code",
   "execution_count": 29,
   "id": "04059535-0054-4e82-bcdd-944e4dc1d956",
   "metadata": {},
   "outputs": [],
   "source": [
    "okcupid_profiles['sign'] = okcupid_profiles['sign'].str.replace('cancer and it&rsquo;s fun to think about', 'cancer')\n",
    "okcupid_profiles['sign'] = okcupid_profiles['sign'].str.replace('cancer but it doesn&rsquo;t matter', 'cancer')\n",
    "okcupid_profiles['sign'] = okcupid_profiles['sign'].str.replace('cancer and it matters a lot', 'cancer')"
   ]
  },
  {
   "cell_type": "code",
   "execution_count": 30,
   "id": "b15cd788-f249-41b4-9c87-1bd3e50087e2",
   "metadata": {},
   "outputs": [],
   "source": [
    "okcupid_profiles['sign'] = okcupid_profiles['sign'].str.replace('pisces and it&rsquo;s fun to think about', 'pisces')\n",
    "okcupid_profiles['sign'] = okcupid_profiles['sign'].str.replace('pisces but it doesn&rsquo;t matter', 'pisces')\n",
    "okcupid_profiles['sign'] = okcupid_profiles['sign'].str.replace('pisces and it matters a lot', 'pisces')"
   ]
  },
  {
   "cell_type": "code",
   "execution_count": 31,
   "id": "aea84b47-3f27-4675-ae21-c06010378316",
   "metadata": {},
   "outputs": [],
   "source": [
    "okcupid_profiles['sign'] = okcupid_profiles['sign'].str.replace('sagittarius and it&rsquo;s fun to think about', 'sagittarius')\n",
    "okcupid_profiles['sign'] = okcupid_profiles['sign'].str.replace('sagittarius but it doesn&rsquo;t matter', 'sagittarius')\n",
    "okcupid_profiles['sign'] = okcupid_profiles['sign'].str.replace('sagittarius and it matters a lot', 'sagittarius')"
   ]
  },
  {
   "cell_type": "code",
   "execution_count": 32,
   "id": "5b2327ab-a299-4765-a4e9-190c1245aab9",
   "metadata": {},
   "outputs": [],
   "source": [
    "okcupid_profiles['sign'] = okcupid_profiles['sign'].str.replace('virgo and it&rsquo;s fun to think about', 'virgo')\n",
    "okcupid_profiles['sign'] = okcupid_profiles['sign'].str.replace('virgo but it doesn&rsquo;t matter', 'virgo')\n",
    "okcupid_profiles['sign'] = okcupid_profiles['sign'].str.replace('virgo and it matters a lot', 'virgo')"
   ]
  },
  {
   "cell_type": "code",
   "execution_count": 33,
   "id": "1e07ed99-4765-4476-ba18-5e51c054e616",
   "metadata": {},
   "outputs": [],
   "source": [
    "okcupid_profiles['sign'] = okcupid_profiles['sign'].str.replace('aries and it&rsquo;s fun to think about', 'aries')\n",
    "okcupid_profiles['sign'] = okcupid_profiles['sign'].str.replace('aries but it doesn&rsquo;t matter', 'aries')\n",
    "okcupid_profiles['sign'] = okcupid_profiles['sign'].str.replace('aries and it matters a lot', 'aries')"
   ]
  },
  {
   "cell_type": "code",
   "execution_count": 34,
   "id": "b7531aa8-881f-4e05-b0d4-e7a048e001e5",
   "metadata": {},
   "outputs": [],
   "source": [
    "okcupid_profiles['sign'] = okcupid_profiles['sign'].str.replace('aquarius and it&rsquo;s fun to think about', 'aquarius')\n",
    "okcupid_profiles['sign'] = okcupid_profiles['sign'].str.replace('aquarius but it doesn&rsquo;t matter', 'aquarius')\n",
    "okcupid_profiles['sign'] = okcupid_profiles['sign'].str.replace('aquarius and it matters a lot', 'aquarius')"
   ]
  },
  {
   "cell_type": "code",
   "execution_count": 35,
   "id": "53a1c428-43f2-43db-b5fe-4d2432a6d827",
   "metadata": {},
   "outputs": [],
   "source": [
    "okcupid_profiles['sign'] = okcupid_profiles['sign'].str.replace('capricorn and it&rsquo;s fun to think about', 'capricorn')\n",
    "okcupid_profiles['sign'] = okcupid_profiles['sign'].str.replace('capricorn but it doesn&rsquo;t matter', 'capricorn')\n",
    "okcupid_profiles['sign'] = okcupid_profiles['sign'].str.replace('capricorn and it matters a lot', 'capricorn')"
   ]
  },
  {
   "cell_type": "code",
   "execution_count": 36,
   "id": "87692795-d212-4f6d-9269-58e35ac48ec1",
   "metadata": {},
   "outputs": [
    {
     "data": {
      "text/plain": [
       "leo            4374\n",
       "gemini         4310\n",
       "libra          4207\n",
       "cancer         4206\n",
       "virgo          4141\n",
       "taurus         4140\n",
       "scorpio        4134\n",
       "aries          3989\n",
       "pisces         3946\n",
       "sagittarius    3942\n",
       "aquarius       3928\n",
       "capricorn      3573\n",
       "Name: sign, dtype: int64"
      ]
     },
     "execution_count": 36,
     "metadata": {},
     "output_type": "execute_result"
    }
   ],
   "source": [
    "okcupid_profiles['sign'].value_counts()"
   ]
  },
  {
   "cell_type": "markdown",
   "id": "7371434c",
   "metadata": {},
   "source": [
    "### Handling 'location'  "
   ]
  },
  {
   "cell_type": "code",
   "execution_count": 37,
   "id": "58efb522",
   "metadata": {},
   "outputs": [
    {
     "data": {
      "text/plain": [
       "san francisco, california         31064\n",
       "oakland, california                7214\n",
       "berkeley, california               4212\n",
       "san mateo, california              1331\n",
       "palo alto, california              1064\n",
       "                                  ...  \n",
       "south wellfleet, massachusetts        1\n",
       "orange, california                    1\n",
       "astoria, new york                     1\n",
       "london, united kingdom                1\n",
       "rochester, michigan                   1\n",
       "Name: location, Length: 199, dtype: int64"
      ]
     },
     "execution_count": 37,
     "metadata": {},
     "output_type": "execute_result"
    }
   ],
   "source": [
    "okcupid_profiles['location'].value_counts()"
   ]
  },
  {
   "cell_type": "code",
   "execution_count": 38,
   "id": "03f7d664",
   "metadata": {},
   "outputs": [],
   "source": [
    "okcupid_profiles['location'] = okcupid_profiles['location'].fillna(False)\n",
    "okcupid_profiles['location'] = (okcupid_profiles['location'] == 'san francisco, california')\n",
    "okcupid_profiles.rename(columns = {'location': 'lives_in_san_francisco'}, inplace=True)"
   ]
  },
  {
   "cell_type": "code",
   "execution_count": 39,
   "id": "d283f570",
   "metadata": {},
   "outputs": [
    {
     "data": {
      "text/plain": [
       "True     31064\n",
       "False    28882\n",
       "Name: lives_in_san_francisco, dtype: int64"
      ]
     },
     "execution_count": 39,
     "metadata": {},
     "output_type": "execute_result"
    }
   ],
   "source": [
    "okcupid_profiles['lives_in_san_francisco'].value_counts()"
   ]
  },
  {
   "cell_type": "markdown",
   "id": "8ee110c9-cab5-4154-9903-85e601ddda60",
   "metadata": {},
   "source": [
    "## Filling the missing data"
   ]
  },
  {
   "cell_type": "markdown",
   "id": "51f29f39-6b52-4a4d-baf6-f4ba67363e7f",
   "metadata": {},
   "source": [
    "The columns containing missing data are the following:"
   ]
  },
  {
   "cell_type": "code",
   "execution_count": 40,
   "id": "458dbf3c-ec1d-4691-9015-fb3936236f16",
   "metadata": {},
   "outputs": [
    {
     "name": "stdout",
     "output_type": "stream",
     "text": [
      "age                           0\n",
      "sex                           0\n",
      "body_type                  5296\n",
      "height                        3\n",
      "job                        8198\n",
      "lives_in_san_francisco        0\n",
      "religious                     0\n",
      "sign                      11056\n",
      "age_grouped                   0\n",
      "dtype: int64\n"
     ]
    }
   ],
   "source": [
    "print(okcupid_profiles.isna().sum())"
   ]
  },
  {
   "cell_type": "markdown",
   "id": "2c41db78-103a-4075-bbe9-3704117302b5",
   "metadata": {},
   "source": [
    "Since there are only three rows with missing values for height, instead of replacing the NaN with something like 0 or -1, or the average height, we think it's better to just drop them, since it is such a small number"
   ]
  },
  {
   "cell_type": "code",
   "execution_count": 41,
   "id": "5be7b146-71d0-4ce9-a6fd-1f455bb3b74d",
   "metadata": {},
   "outputs": [],
   "source": [
    "okcupid_profiles = okcupid_profiles.dropna(how = 'any', subset = 'height') "
   ]
  },
  {
   "cell_type": "markdown",
   "id": "c55366f9-62d4-4ba0-bf7c-4b093818201e",
   "metadata": {},
   "source": [
    "For the following attributes, we are going to replace the missing values with a string"
   ]
  },
  {
   "cell_type": "code",
   "execution_count": 42,
   "id": "ef23a9be-a675-4b6a-977d-297c14404bb8",
   "metadata": {},
   "outputs": [],
   "source": [
    "okcupid_profiles['job'] = okcupid_profiles['job'].fillna(value = 'not specified')\n",
    "okcupid_profiles['body_type'] = okcupid_profiles['body_type'].fillna(value = 'rather not say')\n",
    "okcupid_profiles['sign'] = okcupid_profiles['sign'].fillna(value = 'unknown')"
   ]
  },
  {
   "cell_type": "markdown",
   "id": "6d927cac-64c4-4fd7-a7e5-a7b4bdeb2bde",
   "metadata": {},
   "source": [
    "And now all the columns contain something"
   ]
  },
  {
   "cell_type": "code",
   "execution_count": 43,
   "id": "62280f8e-e9cb-46b0-ad46-46ed11916dce",
   "metadata": {},
   "outputs": [
    {
     "name": "stdout",
     "output_type": "stream",
     "text": [
      "age                       0\n",
      "sex                       0\n",
      "body_type                 0\n",
      "height                    0\n",
      "job                       0\n",
      "lives_in_san_francisco    0\n",
      "religious                 0\n",
      "sign                      0\n",
      "age_grouped               0\n",
      "dtype: int64\n"
     ]
    }
   ],
   "source": [
    "print(okcupid_profiles.isna().sum())"
   ]
  },
  {
   "cell_type": "markdown",
   "id": "7a5ff120",
   "metadata": {},
   "source": [
    "## Saving the processed data"
   ]
  },
  {
   "cell_type": "code",
   "execution_count": null,
   "id": "10c62428",
   "metadata": {},
   "outputs": [],
   "source": [
    "okcupid_profiles.to_csv('../data/okcupid_processed.csv', index=False)"
   ]
  }
 ],
 "metadata": {
  "kernelspec": {
   "display_name": "Python 3.10.7 ('proj1VENV': venv)",
   "language": "python",
   "name": "python3"
  },
  "language_info": {
   "codemirror_mode": {
    "name": "ipython",
    "version": 3
   },
   "file_extension": ".py",
   "mimetype": "text/x-python",
   "name": "python",
   "nbconvert_exporter": "python",
   "pygments_lexer": "ipython3",
   "version": "3.10.7"
  },
  "vscode": {
   "interpreter": {
    "hash": "36256a4fbe7866700fff6f16c1287744c2a9f89f9a869b0e3477ce7104b0a1a7"
   }
  }
 },
 "nbformat": 4,
 "nbformat_minor": 5
}
