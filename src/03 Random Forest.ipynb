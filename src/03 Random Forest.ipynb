{
 "cells": [
  {
   "cell_type": "markdown",
   "id": "4cefa872-b6d6-4dd2-b597-1eace61ee01c",
   "metadata": {},
   "source": [
    "_READ CAREFULLY_\n",
    "\n",
    "So, many things to consider now. I did just some brief tests, and first of all, Random Forests do not accept NaN value, so we have to choose the best way to deal with that on an attribute to attribute basis. Also remember that all the columns need to have the same number of rows.\n",
    "Second, by default it doesnt like strings, which we have in every column expect a few, so we need to check for that. I am pretty confident that we just need to update a few parameters or smth, but now I am tired.\n",
    "(btw: right now the forest is taking as input 2 integer columns and as label a float columns, those are the only numbers we have)"
   ]
  },
  {
   "cell_type": "code",
   "execution_count": 16,
   "id": "dc92f211-fb66-4dcf-ab52-f21c956ed8f0",
   "metadata": {},
   "outputs": [],
   "source": [
    "import pandas as pd\n",
    "import numpy as np\n",
    "from sklearn.ensemble import RandomForestClassifier\n",
    "from sklearn.model_selection import train_test_split\n",
    "from sklearn.metrics import classification_report\n",
    "from sklearn.metrics import confusion_matrix"
   ]
  },
  {
   "cell_type": "markdown",
   "id": "7846a4c6-d313-4549-a250-b8ea5ebf14ac",
   "metadata": {},
   "source": [
    "## Splitting the data into training and test data, maybe also validation"
   ]
  },
  {
   "cell_type": "code",
   "execution_count": 17,
   "id": "78f4fd59-9f09-4213-b87c-cecd3ee46efb",
   "metadata": {},
   "outputs": [],
   "source": [
    "raw_dataset = pd.read_csv('../data/okcupid.csv') \n",
    "okcupid_profiles = raw_dataset.drop(columns=\"Unnamed: 0\") "
   ]
  },
  {
   "cell_type": "code",
   "execution_count": 18,
   "id": "0d8c8569-8047-4463-9bb2-d97a588d07c5",
   "metadata": {},
   "outputs": [
    {
     "data": {
      "text/plain": [
       "Index(['age', 'status', 'sex', 'orientation', 'body_type', 'diet', 'drinks',\n",
       "       'drugs', 'education', 'ethnicity', 'height', 'income', 'job',\n",
       "       'last_online', 'location', 'offspring', 'pets', 'religion', 'sign',\n",
       "       'smokes', 'speaks'],\n",
       "      dtype='object')"
      ]
     },
     "execution_count": 18,
     "metadata": {},
     "output_type": "execute_result"
    }
   ],
   "source": [
    "okcupid_profiles.columns"
   ]
  },
  {
   "cell_type": "code",
   "execution_count": 19,
   "id": "073298fb-c6a1-43a0-85e5-59d38733ed11",
   "metadata": {},
   "outputs": [
    {
     "data": {
      "text/plain": [
       "age              int64\n",
       "status          object\n",
       "sex             object\n",
       "orientation     object\n",
       "body_type       object\n",
       "diet            object\n",
       "drinks          object\n",
       "drugs           object\n",
       "education       object\n",
       "ethnicity       object\n",
       "height         float64\n",
       "income           int64\n",
       "job             object\n",
       "last_online     object\n",
       "location        object\n",
       "offspring       object\n",
       "pets            object\n",
       "religion        object\n",
       "sign            object\n",
       "smokes          object\n",
       "speaks          object\n",
       "dtype: object"
      ]
     },
     "execution_count": 19,
     "metadata": {},
     "output_type": "execute_result"
    }
   ],
   "source": [
    "okcupid_profiles.dtypes"
   ]
  },
  {
   "cell_type": "code",
   "execution_count": 20,
   "id": "53ce18b7-645f-49ab-9c48-5696fdd78131",
   "metadata": {},
   "outputs": [
    {
     "data": {
      "text/plain": [
       "array(['single', 'available', 'seeing someone', 'married', 'unknown'],\n",
       "      dtype=object)"
      ]
     },
     "execution_count": 20,
     "metadata": {},
     "output_type": "execute_result"
    }
   ],
   "source": [
    "okcupid_profiles['status'].unique()"
   ]
  },
  {
   "cell_type": "markdown",
   "id": "e7614a2f-07ab-4355-bf61-6b3d7ae054d0",
   "metadata": {},
   "source": [
    "# Random Forest"
   ]
  },
  {
   "cell_type": "code",
   "execution_count": 38,
   "id": "b2982d5a-75b7-400d-8fb0-4a7021cd6e2d",
   "metadata": {},
   "outputs": [],
   "source": [
    "# X = okcupid_profiles.drop(['income'], axis = 1)\n",
    "# y = okcupid_profiles['income']\n",
    "\n",
    "X = okcupid_profiles.loc[:, ['age', 'height']]\n",
    "X = X.fillna(value = 0)\n",
    "y = okcupid_profiles['income']\n",
    "y = y.fillna(value = 0)\n",
    "\n",
    "# test_size = 0.3   means 70% training set | 30% test set\n",
    "X_train, X_test, y_train, y_test = train_test_split(X, y, test_size = 0.3, random_state = 42)"
   ]
  },
  {
   "cell_type": "code",
   "execution_count": 39,
   "id": "987945c3-2308-433b-adeb-e2aa0c5ba2e0",
   "metadata": {},
   "outputs": [],
   "source": [
    "# n_estimators is the number of trees in the forest\n",
    "rfc = RandomForestClassifier(n_estimators = 50)\n",
    "rfc.fit(X_train, y_train)\n",
    "rfc_prediction = rfc.predict(X_test)"
   ]
  },
  {
   "cell_type": "code",
   "execution_count": 40,
   "id": "9f1c6234-ad81-4abf-8656-7a208476cd69",
   "metadata": {},
   "outputs": [
    {
     "name": "stdout",
     "output_type": "stream",
     "text": [
      "Random Forest Classification report\n",
      "              precision    recall  f1-score   support\n",
      "\n",
      "          -1       0.81      1.00      0.89     14535\n",
      "       20000       0.23      0.00      0.01       907\n",
      "       30000       0.00      0.00      0.00       309\n",
      "       40000       0.00      0.00      0.00       323\n",
      "       50000       0.00      0.00      0.00       283\n",
      "       60000       0.00      0.00      0.00       202\n",
      "       70000       0.00      0.00      0.00       224\n",
      "       80000       0.00      0.00      0.00       319\n",
      "      100000       0.11      0.00      0.00       454\n",
      "      150000       0.00      0.00      0.00       211\n",
      "      250000       0.00      0.00      0.00        43\n",
      "      500000       0.00      0.00      0.00        15\n",
      "     1000000       0.00      0.00      0.00       159\n",
      "\n",
      "    accuracy                           0.81     17984\n",
      "   macro avg       0.09      0.08      0.07     17984\n",
      "weighted avg       0.67      0.81      0.72     17984\n",
      "\n",
      "Random Forest Confusion Matrix\n",
      "[[14510     8     2     1     1     0     1     3     5     3     0     0\n",
      "      1]\n",
      " [  902     3     0     0     0     0     0     0     1     0     0     0\n",
      "      1]\n",
      " [  308     1     0     0     0     0     0     0     0     0     0     0\n",
      "      0]\n",
      " [  323     0     0     0     0     0     0     0     0     0     0     0\n",
      "      0]\n",
      " [  281     0     1     0     0     0     0     0     0     0     0     1\n",
      "      0]\n",
      " [  202     0     0     0     0     0     0     0     0     0     0     0\n",
      "      0]\n",
      " [  224     0     0     0     0     0     0     0     0     0     0     0\n",
      "      0]\n",
      " [  318     0     0     0     0     0     0     0     1     0     0     0\n",
      "      0]\n",
      " [  453     0     0     0     0     0     0     0     1     0     0     0\n",
      "      0]\n",
      " [  208     1     1     0     0     0     0     0     1     0     0     0\n",
      "      0]\n",
      " [   43     0     0     0     0     0     0     0     0     0     0     0\n",
      "      0]\n",
      " [   15     0     0     0     0     0     0     0     0     0     0     0\n",
      "      0]\n",
      " [  159     0     0     0     0     0     0     0     0     0     0     0\n",
      "      0]]\n"
     ]
    },
    {
     "name": "stderr",
     "output_type": "stream",
     "text": [
      "C:\\Users\\matte\\Documents\\python_projects\\HR_ML_Project1\\proj1VENV\\lib\\site-packages\\sklearn\\metrics\\_classification.py:1334: UndefinedMetricWarning: Precision and F-score are ill-defined and being set to 0.0 in labels with no predicted samples. Use `zero_division` parameter to control this behavior.\n",
      "  _warn_prf(average, modifier, msg_start, len(result))\n",
      "C:\\Users\\matte\\Documents\\python_projects\\HR_ML_Project1\\proj1VENV\\lib\\site-packages\\sklearn\\metrics\\_classification.py:1334: UndefinedMetricWarning: Precision and F-score are ill-defined and being set to 0.0 in labels with no predicted samples. Use `zero_division` parameter to control this behavior.\n",
      "  _warn_prf(average, modifier, msg_start, len(result))\n",
      "C:\\Users\\matte\\Documents\\python_projects\\HR_ML_Project1\\proj1VENV\\lib\\site-packages\\sklearn\\metrics\\_classification.py:1334: UndefinedMetricWarning: Precision and F-score are ill-defined and being set to 0.0 in labels with no predicted samples. Use `zero_division` parameter to control this behavior.\n",
      "  _warn_prf(average, modifier, msg_start, len(result))\n"
     ]
    }
   ],
   "source": [
    "print(\"Random Forest Classification report\")\n",
    "print(classification_report(y_test, rfc_prediction))\n",
    "print(\"Random Forest Confusion Matrix\")\n",
    "print(confusion_matrix(y_test, rfc_prediction))"
   ]
  },
  {
   "cell_type": "code",
   "execution_count": null,
   "id": "ba38b70d-f922-47b2-b58c-d5bcf581681f",
   "metadata": {},
   "outputs": [],
   "source": []
  }
 ],
 "metadata": {
  "kernelspec": {
   "display_name": "Python 3 (ipykernel)",
   "language": "python",
   "name": "python3"
  },
  "language_info": {
   "codemirror_mode": {
    "name": "ipython",
    "version": 3
   },
   "file_extension": ".py",
   "mimetype": "text/x-python",
   "name": "python",
   "nbconvert_exporter": "python",
   "pygments_lexer": "ipython3",
   "version": "3.10.4"
  }
 },
 "nbformat": 4,
 "nbformat_minor": 5
}
