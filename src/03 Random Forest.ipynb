{
 "cells": [
  {
   "cell_type": "markdown",
   "id": "ea55942a-50da-4d33-863e-fc5ad7bebd0b",
   "metadata": {},
   "source": [
    "age\n",
    "sex\n",
    "body_type (should combine some values)\n",
    "height (drop too high and too low)\n",
    "job\n",
    "location (transform into a boolean livels_in_sanfrancisco)\n",
    "sign (\"add prefer not to say to missing data\")"
   ]
  },
  {
   "cell_type": "code",
   "execution_count": 37,
   "id": "dc92f211-fb66-4dcf-ab52-f21c956ed8f0",
   "metadata": {},
   "outputs": [],
   "source": [
    "import pandas as pd\n",
    "import numpy as np\n",
    "import seaborn as sns\n",
    "import matplotlib.pyplot as plt\n",
    "from sklearn.ensemble import RandomForestClassifier\n",
    "from sklearn.model_selection import train_test_split\n",
    "from sklearn.metrics import classification_report\n",
    "from sklearn.metrics import confusion_matrix\n",
    "from sklearn.preprocessing import OrdinalEncoder"
   ]
  },
  {
   "cell_type": "markdown",
   "id": "7846a4c6-d313-4549-a250-b8ea5ebf14ac",
   "metadata": {},
   "source": [
    "# Preprocessing the data and training the model"
   ]
  },
  {
   "cell_type": "code",
   "execution_count": 38,
   "id": "78f4fd59-9f09-4213-b87c-cecd3ee46efb",
   "metadata": {},
   "outputs": [],
   "source": [
    "raw_dataset = pd.read_csv('../data/okcupid.csv') \n",
    "okcupid_profiles = raw_dataset.drop(columns=\"Unnamed: 0\") "
   ]
  },
  {
   "cell_type": "markdown",
   "id": "65d4c467-cc5c-4203-92d8-55d10a361a24",
   "metadata": {},
   "source": [
    "As we can see from the output below, almost every column contains object types, which we can not use to fit the Random Forest. \n",
    "We need to convert the objects into numbers, and we can do that using OrdinalEncoder from sklearn.\n",
    "We need to manage the missing data first tho"
   ]
  },
  {
   "cell_type": "code",
   "execution_count": 39,
   "id": "073298fb-c6a1-43a0-85e5-59d38733ed11",
   "metadata": {},
   "outputs": [
    {
     "data": {
      "text/plain": [
       "age              int64\n",
       "status          object\n",
       "sex             object\n",
       "orientation     object\n",
       "body_type       object\n",
       "diet            object\n",
       "drinks          object\n",
       "drugs           object\n",
       "education       object\n",
       "ethnicity       object\n",
       "height         float64\n",
       "income           int64\n",
       "job             object\n",
       "last_online     object\n",
       "location        object\n",
       "offspring       object\n",
       "pets            object\n",
       "religion        object\n",
       "sign            object\n",
       "smokes          object\n",
       "speaks          object\n",
       "dtype: object"
      ]
     },
     "execution_count": 39,
     "metadata": {},
     "output_type": "execute_result"
    }
   ],
   "source": [
    "okcupid_profiles.dtypes"
   ]
  },
  {
   "cell_type": "markdown",
   "id": "427cf366-1a4e-4501-bf04-f0acb204a953",
   "metadata": {},
   "source": [
    "## Reworking the dataset\n",
    "### Dropping columns"
   ]
  },
  {
   "cell_type": "markdown",
   "id": "8a5728e7-e98b-4b72-aeba-e27babe040cf",
   "metadata": {},
   "source": [
    "We noticed that for many labels, the value distribution is... a bit unusable. We have like 50000 occurences of a single value, and too few of the others.\n",
    "We decided to solve this by introducing some changes to the dataset."
   ]
  },
  {
   "cell_type": "markdown",
   "id": "55ec1071-e9af-4909-a17d-b6729c18b68e",
   "metadata": {},
   "source": [
    "We are going to drop the following columns:"
   ]
  },
  {
   "cell_type": "code",
   "execution_count": 40,
   "id": "e16af470-e1cd-4686-93a5-9ff2dc44ee29",
   "metadata": {},
   "outputs": [
    {
     "name": "stdout",
     "output_type": "stream",
     "text": [
      "age\n",
      "status\n",
      "sex\n",
      "orientation\n",
      "body_type\n",
      "diet\n",
      "drinks\n",
      "drugs\n",
      "education\n",
      "ethnicity\n",
      "height\n",
      "income\n",
      "job\n",
      "last_online\n",
      "location\n",
      "offspring\n",
      "pets\n",
      "religion\n",
      "sign\n",
      "smokes\n",
      "speaks\n"
     ]
    }
   ],
   "source": [
    "for element in okcupid_profiles.columns:\n",
    "    print(element)"
   ]
  },
  {
   "cell_type": "code",
   "execution_count": 41,
   "id": "1b65394b-7f9e-479d-a1ca-8391f180c965",
   "metadata": {},
   "outputs": [],
   "source": [
    "okcupid_profiles = okcupid_profiles.drop(columns = ['status', \n",
    "                                                     'orientation',\n",
    "                                                     'diet',\n",
    "                                                     'drinks',\n",
    "                                                     'drugs',\n",
    "                                                     'education',\n",
    "                                                     'ethnicity',\n",
    "                                                     'income',\n",
    "                                                     'last_online',\n",
    "                                                     'offspring',\n",
    "                                                     'pets',\n",
    "                                                     'smokes',\n",
    "                                                     'speaks'])"
   ]
  },
  {
   "cell_type": "markdown",
   "id": "fdc32379-d013-4ce0-8a46-2f8df356798c",
   "metadata": {},
   "source": [
    "Now we are left with:"
   ]
  },
  {
   "cell_type": "code",
   "execution_count": 42,
   "id": "3b9e5de2-107d-4aed-a9c1-94cb5530d834",
   "metadata": {},
   "outputs": [
    {
     "name": "stdout",
     "output_type": "stream",
     "text": [
      "age\n",
      "sex\n",
      "body_type\n",
      "height\n",
      "job\n",
      "location\n",
      "religion\n",
      "sign\n"
     ]
    }
   ],
   "source": [
    "for element in okcupid_profiles.columns:\n",
    "    print(element)"
   ]
  },
  {
   "cell_type": "markdown",
   "id": "4cf8c6fa-0297-4a8c-b341-46b8ef054a5a",
   "metadata": {},
   "source": [
    "### Handling 'religion'"
   ]
  },
  {
   "cell_type": "code",
   "execution_count": 43,
   "id": "dde0fcc8-0ba1-432e-b04f-6df37331ee52",
   "metadata": {},
   "outputs": [
    {
     "data": {
      "text/plain": [
       "20226"
      ]
     },
     "execution_count": 43,
     "metadata": {},
     "output_type": "execute_result"
    }
   ],
   "source": [
    "pd.isna(okcupid_profiles[\"religion\"]).sum()"
   ]
  },
  {
   "cell_type": "code",
   "execution_count": 44,
   "id": "f4090723-332c-403d-b923-cf3891dc615e",
   "metadata": {},
   "outputs": [
    {
     "data": {
      "text/plain": [
       "agnosticism                                   2724\n",
       "other                                         2691\n",
       "agnosticism but not too serious about it      2636\n",
       "agnosticism and laughing about it             2496\n",
       "catholicism but not too serious about it      2318\n",
       "atheism                                       2175\n",
       "other and laughing about it                   2119\n",
       "atheism and laughing about it                 2074\n",
       "christianity                                  1957\n",
       "christianity but not too serious about it     1952\n",
       "other but not too serious about it            1554\n",
       "judaism but not too serious about it          1517\n",
       "atheism but not too serious about it          1318\n",
       "catholicism                                   1064\n",
       "christianity and somewhat serious about it     927\n",
       "atheism and somewhat serious about it          848\n",
       "other and somewhat serious about it            846\n",
       "catholicism and laughing about it              726\n",
       "judaism and laughing about it                  681\n",
       "buddhism but not too serious about it          650\n",
       "agnosticism and somewhat serious about it      642\n",
       "judaism                                        612\n",
       "christianity and very serious about it         578\n",
       "atheism and very serious about it              570\n",
       "catholicism and somewhat serious about it      548\n",
       "other and very serious about it                533\n",
       "buddhism and laughing about it                 466\n",
       "buddhism                                       403\n",
       "christianity and laughing about it             373\n",
       "buddhism and somewhat serious about it         359\n",
       "agnosticism and very serious about it          314\n",
       "judaism and somewhat serious about it          266\n",
       "hinduism but not too serious about it          227\n",
       "hinduism                                       107\n",
       "catholicism and very serious about it          102\n",
       "buddhism and very serious about it              70\n",
       "hinduism and somewhat serious about it          58\n",
       "islam                                           48\n",
       "hinduism and laughing about it                  44\n",
       "islam but not too serious about it              40\n",
       "judaism and very serious about it               22\n",
       "islam and somewhat serious about it             22\n",
       "islam and laughing about it                     16\n",
       "hinduism and very serious about it              14\n",
       "islam and very serious about it                 13\n",
       "Name: religion, dtype: int64"
      ]
     },
     "execution_count": 44,
     "metadata": {},
     "output_type": "execute_result"
    }
   ],
   "source": [
    "okcupid_profiles['religion'].value_counts()"
   ]
  },
  {
   "cell_type": "markdown",
   "id": "22ab0ee8-f92a-4f85-8d5d-dc7cfe74ca9a",
   "metadata": {},
   "source": [
    "As we can see from the value count, the data is a bit too sparse. We are going to merge all the various religion occurences together."
   ]
  },
  {
   "cell_type": "code",
   "execution_count": 45,
   "id": "367239ed-c393-4c40-a2a4-96803ce89c58",
   "metadata": {},
   "outputs": [],
   "source": [
    "# in the religion column, find values containing the word \"christian\" and replace them with \"christian\"\n",
    "okcupid_profiles['religion'] = okcupid_profiles['religion'].str.replace('christianity but not too serious about it', 'christian')\n",
    "okcupid_profiles['religion'] = okcupid_profiles['religion'].str.replace('christianity and very serious about it', 'christian')\n",
    "okcupid_profiles['religion'] = okcupid_profiles['religion'].str.replace('christianity and somewhat serious about it', 'christian')\n",
    "okcupid_profiles['religion'] = okcupid_profiles['religion'].str.replace('christianity and laughing about it', 'christian')\n",
    "okcupid_profiles['religion'] = okcupid_profiles['religion'].str.replace('christianity and somewhat serious about it', 'christian')\n",
    "okcupid_profiles['religion'] = okcupid_profiles['religion'].str.replace('christianity and very serious about it', 'christian')\n",
    "okcupid_profiles['religion'] = okcupid_profiles['religion'].str.replace('christianity', 'christian')"
   ]
  },
  {
   "cell_type": "code",
   "execution_count": 46,
   "id": "6c9f36fc",
   "metadata": {},
   "outputs": [],
   "source": [
    "# in the religion column, find values containing the word \"agnosticism\" and replace them with \"agnostic\"\n",
    "okcupid_profiles['religion'] = okcupid_profiles['religion'].str.replace('agnosticism but not too serious about it', 'agnostic')\n",
    "okcupid_profiles['religion'] = okcupid_profiles['religion'].str.replace('agnosticism and very serious about it', 'agnostic')\n",
    "okcupid_profiles['religion'] = okcupid_profiles['religion'].str.replace('agnosticism and somewhat serious about it', 'agnostic')\n",
    "okcupid_profiles['religion'] = okcupid_profiles['religion'].str.replace('agnosticism and laughing about it', 'agnostic')\n",
    "okcupid_profiles['religion'] = okcupid_profiles['religion'].str.replace('agnosticism and somewhat serious about it', 'agnostic')\n",
    "okcupid_profiles['religion'] = okcupid_profiles['religion'].str.replace('agnosticism and very serious about it', 'agnostic')\n",
    "okcupid_profiles['religion'] = okcupid_profiles['religion'].str.replace('agnosticism', 'agnostic')"
   ]
  },
  {
   "cell_type": "code",
   "execution_count": 47,
   "id": "58349b35",
   "metadata": {},
   "outputs": [],
   "source": [
    "# in the religion column, find values containing the word \"atheism\" and replace them with \"atheist\"\n",
    "okcupid_profiles['religion'] = okcupid_profiles['religion'].str.replace('atheism but not too serious about it', 'atheist')\n",
    "okcupid_profiles['religion'] = okcupid_profiles['religion'].str.replace('atheism and very serious about it', 'atheist')\n",
    "okcupid_profiles['religion'] = okcupid_profiles['religion'].str.replace('atheism and somewhat serious about it', 'atheist')\n",
    "okcupid_profiles['religion'] = okcupid_profiles['religion'].str.replace('atheism and laughing about it', 'atheist')\n",
    "okcupid_profiles['religion'] = okcupid_profiles['religion'].str.replace('atheism and somewhat serious about it', 'atheist')\n",
    "okcupid_profiles['religion'] = okcupid_profiles['religion'].str.replace('atheism and very serious about it', 'atheist')\n",
    "okcupid_profiles['religion'] = okcupid_profiles['religion'].str.replace('atheism', 'atheist')"
   ]
  },
  {
   "cell_type": "code",
   "execution_count": 48,
   "id": "a40b9f97",
   "metadata": {},
   "outputs": [],
   "source": [
    "# in the religion column, find values containing the word \"catholicism\" and replace them with \"catholic\"\n",
    "okcupid_profiles['religion'] = okcupid_profiles['religion'].str.replace('catholicism but not too serious about it', 'catholic')\n",
    "okcupid_profiles['religion'] = okcupid_profiles['religion'].str.replace('catholicism and very serious about it', 'catholic')\n",
    "okcupid_profiles['religion'] = okcupid_profiles['religion'].str.replace('catholicism and somewhat serious about it', 'catholic')\n",
    "okcupid_profiles['religion'] = okcupid_profiles['religion'].str.replace('catholicism and laughing about it', 'catholic')\n",
    "okcupid_profiles['religion'] = okcupid_profiles['religion'].str.replace('catholicism and somewhat serious about it', 'catholic')\n",
    "okcupid_profiles['religion'] = okcupid_profiles['religion'].str.replace('catholicism and very serious about it', 'catholic')\n",
    "okcupid_profiles['religion'] = okcupid_profiles['religion'].str.replace('catholicism', 'catholic')"
   ]
  },
  {
   "cell_type": "code",
   "execution_count": 49,
   "id": "909ad023",
   "metadata": {},
   "outputs": [],
   "source": [
    "# in the religion column, find values containing the word \"judaism\" and replace them with \"jewish\"\n",
    "okcupid_profiles['religion'] = okcupid_profiles['religion'].str.replace('judaism but not too serious about it', 'jewish')\n",
    "okcupid_profiles['religion'] = okcupid_profiles['religion'].str.replace('judaism and very serious about it', 'jewish')\n",
    "okcupid_profiles['religion'] = okcupid_profiles['religion'].str.replace('judaism and somewhat serious about it', 'jewish')\n",
    "okcupid_profiles['religion'] = okcupid_profiles['religion'].str.replace('judaism and laughing about it', 'jewish')\n",
    "okcupid_profiles['religion'] = okcupid_profiles['religion'].str.replace('judaism and somewhat serious about it', 'jewish')\n",
    "okcupid_profiles['religion'] = okcupid_profiles['religion'].str.replace('judaism and very serious about it', 'jewish')\n",
    "okcupid_profiles['religion'] = okcupid_profiles['religion'].str.replace('judaism', 'jewish')"
   ]
  },
  {
   "cell_type": "code",
   "execution_count": 50,
   "id": "73f11cdb",
   "metadata": {},
   "outputs": [],
   "source": [
    "# in the religion column, find values containing the word \"buddhism\" and replace them with \"buddhist\"\n",
    "okcupid_profiles['religion'] = okcupid_profiles['religion'].str.replace('buddhism but not too serious about it', 'buddhist')\n",
    "okcupid_profiles['religion'] = okcupid_profiles['religion'].str.replace('buddhism and very serious about it', 'buddhist')\n",
    "okcupid_profiles['religion'] = okcupid_profiles['religion'].str.replace('buddhism and somewhat serious about it', 'buddhist')\n",
    "okcupid_profiles['religion'] = okcupid_profiles['religion'].str.replace('buddhism and laughing about it', 'buddhist')\n",
    "okcupid_profiles['religion'] = okcupid_profiles['religion'].str.replace('buddhism and somewhat serious about it', 'buddhist')\n",
    "okcupid_profiles['religion'] = okcupid_profiles['religion'].str.replace('buddhism and very serious about it', 'buddhist')\n",
    "okcupid_profiles['religion'] = okcupid_profiles['religion'].str.replace('buddhism', 'buddhist')"
   ]
  },
  {
   "cell_type": "code",
   "execution_count": 51,
   "id": "b36365bf",
   "metadata": {},
   "outputs": [],
   "source": [
    "# in the religion column, find values containing the word \"hinduism\" and replace them with \"hindu\"\n",
    "okcupid_profiles['religion'] = okcupid_profiles['religion'].str.replace('hinduism but not too serious about it', 'hindu')\n",
    "okcupid_profiles['religion'] = okcupid_profiles['religion'].str.replace('hinduism and very serious about it', 'hindu')\n",
    "okcupid_profiles['religion'] = okcupid_profiles['religion'].str.replace('hinduism and somewhat serious about it', 'hindu')\n",
    "okcupid_profiles['religion'] = okcupid_profiles['religion'].str.replace('hinduism and laughing about it', 'hindu')\n",
    "okcupid_profiles['religion'] = okcupid_profiles['religion'].str.replace('hinduism and somewhat serious about it', 'hindu')\n",
    "okcupid_profiles['religion'] = okcupid_profiles['religion'].str.replace('hinduism and very serious about it', 'hindu')\n",
    "okcupid_profiles['religion'] = okcupid_profiles['religion'].str.replace('hinduism', 'hindu')"
   ]
  },
  {
   "cell_type": "code",
   "execution_count": 52,
   "id": "b1fa68a5",
   "metadata": {},
   "outputs": [],
   "source": [
    "# in the religion column, find values containing the word \"islam\" and replace them with \"muslim\"\n",
    "okcupid_profiles['religion'] = okcupid_profiles['religion'].str.replace('islam but not too serious about it', 'muslim')\n",
    "okcupid_profiles['religion'] = okcupid_profiles['religion'].str.replace('islam and very serious about it', 'muslim')\n",
    "okcupid_profiles['religion'] = okcupid_profiles['religion'].str.replace('islam and somewhat serious about it', 'muslim')\n",
    "okcupid_profiles['religion'] = okcupid_profiles['religion'].str.replace('islam and laughing about it', 'muslim')\n",
    "okcupid_profiles['religion'] = okcupid_profiles['religion'].str.replace('islam and somewhat serious about it', 'muslim')\n",
    "okcupid_profiles['religion'] = okcupid_profiles['religion'].str.replace('islam and very serious about it', 'muslim')\n",
    "okcupid_profiles['religion'] = okcupid_profiles['religion'].str.replace('islam', 'muslim')"
   ]
  },
  {
   "cell_type": "code",
   "execution_count": 53,
   "id": "89bd41df",
   "metadata": {},
   "outputs": [],
   "source": [
    "# in the religion column, find values containing the word \"other\" and replace them with \"other\"\n",
    "okcupid_profiles['religion'] = okcupid_profiles['religion'].str.replace('other but not too serious about it', 'other')\n",
    "okcupid_profiles['religion'] = okcupid_profiles['religion'].str.replace('other and very serious about it', 'other')\n",
    "okcupid_profiles['religion'] = okcupid_profiles['religion'].str.replace('other and somewhat serious about it', 'other')\n",
    "okcupid_profiles['religion'] = okcupid_profiles['religion'].str.replace('other and laughing about it', 'other')\n",
    "okcupid_profiles['religion'] = okcupid_profiles['religion'].str.replace('other and somewhat serious about it', 'other')\n",
    "okcupid_profiles['religion'] = okcupid_profiles['religion'].str.replace('other and very serious about it', 'other')\n",
    "okcupid_profiles['religion'] = okcupid_profiles['religion'].str.replace('other', 'other')"
   ]
  },
  {
   "cell_type": "code",
   "execution_count": 54,
   "id": "9e9a8788",
   "metadata": {},
   "outputs": [
    {
     "name": "stdout",
     "output_type": "stream",
     "text": [
      "agnostic     8812\n",
      "other        7743\n",
      "atheist      6985\n",
      "christian    5787\n",
      "catholic     4758\n",
      "jewish       3098\n",
      "buddhist     1948\n",
      "hindu         450\n",
      "muslim        139\n",
      "Name: religion, dtype: int64\n",
      "Missing values:  20226\n"
     ]
    }
   ],
   "source": [
    "print(okcupid_profiles['religion'].value_counts())\n",
    "print(\"Missing values: \", okcupid_profiles['religion'].isnull().sum())"
   ]
  },
  {
   "cell_type": "markdown",
   "id": "5b4ef039",
   "metadata": {},
   "source": [
    "At this point, we noticed that we have too many missing values, since we are also considering the 'other' as basically missing. So we are just going to have to convert the religion attribute to a boolean."
   ]
  },
  {
   "cell_type": "code",
   "execution_count": 55,
   "id": "ea47207f",
   "metadata": {},
   "outputs": [],
   "source": [
    "\"\"\"for the religion column, convert the missing data into a boolean false, \n",
    "convert the 'other' values into boolean false, and the rest boolean true\n",
    "\"\"\"\n",
    "okcupid_profiles['religion'] = okcupid_profiles['religion'].fillna(False)\n",
    "okcupid_profiles['religion'] = okcupid_profiles['religion'].replace('other', False)\n",
    "okcupid_profiles['religion'] = okcupid_profiles['religion'].replace('agnostic', True)\n",
    "okcupid_profiles['religion'] = okcupid_profiles['religion'].replace('atheist', True)\n",
    "okcupid_profiles['religion'] = okcupid_profiles['religion'].replace('christian', True)\n",
    "okcupid_profiles['religion'] = okcupid_profiles['religion'].replace('catholic', True)\n",
    "okcupid_profiles['religion'] = okcupid_profiles['religion'].replace('jewish', True)\n",
    "okcupid_profiles['religion'] = okcupid_profiles['religion'].replace('buddhist', True)\n",
    "okcupid_profiles['religion'] = okcupid_profiles['religion'].replace('hindu', True)\n",
    "okcupid_profiles['religion'] = okcupid_profiles['religion'].replace('muslim', True)\n"
   ]
  },
  {
   "cell_type": "code",
   "execution_count": 56,
   "id": "085cd96f",
   "metadata": {},
   "outputs": [],
   "source": [
    "okcupid_profiles.rename(columns = {'religion': 'religious'}, inplace=True)"
   ]
  },
  {
   "cell_type": "code",
   "execution_count": 57,
   "id": "c2301561",
   "metadata": {},
   "outputs": [
    {
     "data": {
      "text/plain": [
       "True     31977\n",
       "False    27969\n",
       "Name: religious, dtype: int64"
      ]
     },
     "execution_count": 57,
     "metadata": {},
     "output_type": "execute_result"
    }
   ],
   "source": [
    "okcupid_profiles['religious'].value_counts()"
   ]
  },
  {
   "cell_type": "markdown",
   "id": "32b78dbf",
   "metadata": {},
   "source": [
    "### Handling 'sign'"
   ]
  },
  {
   "cell_type": "code",
   "execution_count": 58,
   "id": "4f6719b9",
   "metadata": {},
   "outputs": [
    {
     "data": {
      "text/plain": [
       "11056"
      ]
     },
     "execution_count": 58,
     "metadata": {},
     "output_type": "execute_result"
    }
   ],
   "source": [
    "pd.isna(okcupid_profiles[\"sign\"]).sum()"
   ]
  },
  {
   "cell_type": "code",
   "execution_count": 61,
   "id": "105a3cee",
   "metadata": {},
   "outputs": [
    {
     "data": {
      "text/plain": [
       "gemini and it&rsquo;s fun to think about         1782\n",
       "scorpio and it&rsquo;s fun to think about        1772\n",
       "leo and it&rsquo;s fun to think about            1692\n",
       "libra and it&rsquo;s fun to think about          1649\n",
       "taurus and it&rsquo;s fun to think about         1640\n",
       "cancer and it&rsquo;s fun to think about         1597\n",
       "pisces and it&rsquo;s fun to think about         1592\n",
       "sagittarius and it&rsquo;s fun to think about    1583\n",
       "virgo and it&rsquo;s fun to think about          1574\n",
       "aries and it&rsquo;s fun to think about          1573\n",
       "aquarius and it&rsquo;s fun to think about       1503\n",
       "virgo but it doesn&rsquo;t matter                1497\n",
       "leo but it doesn&rsquo;t matter                  1457\n",
       "cancer but it doesn&rsquo;t matter               1454\n",
       "gemini but it doesn&rsquo;t matter               1453\n",
       "taurus but it doesn&rsquo;t matter               1450\n",
       "libra but it doesn&rsquo;t matter                1408\n",
       "aquarius but it doesn&rsquo;t matter             1408\n",
       "capricorn and it&rsquo;s fun to think about      1376\n",
       "sagittarius but it doesn&rsquo;t matter          1375\n",
       "aries but it doesn&rsquo;t matter                1373\n",
       "capricorn but it doesn&rsquo;t matter            1319\n",
       "pisces but it doesn&rsquo;t matter               1300\n",
       "scorpio but it doesn&rsquo;t matter              1264\n",
       "leo                                              1159\n",
       "libra                                            1098\n",
       "cancer                                           1092\n",
       "virgo                                            1029\n",
       "scorpio                                          1020\n",
       "gemini                                           1013\n",
       "taurus                                           1001\n",
       "aries                                             996\n",
       "pisces                                            992\n",
       "aquarius                                          954\n",
       "sagittarius                                       937\n",
       "capricorn                                         833\n",
       "scorpio and it matters a lot                       78\n",
       "leo and it matters a lot                           66\n",
       "cancer and it matters a lot                        63\n",
       "aquarius and it matters a lot                      63\n",
       "pisces and it matters a lot                        62\n",
       "gemini and it matters a lot                        62\n",
       "libra and it matters a lot                         52\n",
       "taurus and it matters a lot                        49\n",
       "aries and it matters a lot                         47\n",
       "sagittarius and it matters a lot                   47\n",
       "capricorn and it matters a lot                     45\n",
       "virgo and it matters a lot                         41\n",
       "Name: sign, dtype: int64"
      ]
     },
     "execution_count": 61,
     "metadata": {},
     "output_type": "execute_result"
    }
   ],
   "source": [
    "okcupid_profiles['sign'].value_counts()"
   ]
  },
  {
   "cell_type": "code",
   "execution_count": 65,
   "id": "6dc14589-0257-4e6f-98f6-a02353ee950d",
   "metadata": {},
   "outputs": [
    {
     "data": {
      "text/plain": [
       "gemini                                           2528\n",
       "christian                                        1782\n",
       "scorpio and it&rsquo;s fun to think about        1772\n",
       "leo and it&rsquo;s fun to think about            1692\n",
       "libra and it&rsquo;s fun to think about          1649\n",
       "taurus and it&rsquo;s fun to think about         1640\n",
       "cancer and it&rsquo;s fun to think about         1597\n",
       "pisces and it&rsquo;s fun to think about         1592\n",
       "sagittarius and it&rsquo;s fun to think about    1583\n",
       "virgo and it&rsquo;s fun to think about          1574\n",
       "aries and it&rsquo;s fun to think about          1573\n",
       "aquarius and it&rsquo;s fun to think about       1503\n",
       "virgo but it doesn&rsquo;t matter                1497\n",
       "leo but it doesn&rsquo;t matter                  1457\n",
       "cancer but it doesn&rsquo;t matter               1454\n",
       "taurus but it doesn&rsquo;t matter               1450\n",
       "libra but it doesn&rsquo;t matter                1408\n",
       "aquarius but it doesn&rsquo;t matter             1408\n",
       "capricorn and it&rsquo;s fun to think about      1376\n",
       "sagittarius but it doesn&rsquo;t matter          1375\n",
       "aries but it doesn&rsquo;t matter                1373\n",
       "capricorn but it doesn&rsquo;t matter            1319\n",
       "pisces but it doesn&rsquo;t matter               1300\n",
       "scorpio but it doesn&rsquo;t matter              1264\n",
       "leo                                              1159\n",
       "libra                                            1098\n",
       "cancer                                           1092\n",
       "virgo                                            1029\n",
       "scorpio                                          1020\n",
       "taurus                                           1001\n",
       "aries                                             996\n",
       "pisces                                            992\n",
       "aquarius                                          954\n",
       "sagittarius                                       937\n",
       "capricorn                                         833\n",
       "scorpio and it matters a lot                       78\n",
       "leo and it matters a lot                           66\n",
       "aquarius and it matters a lot                      63\n",
       "cancer and it matters a lot                        63\n",
       "pisces and it matters a lot                        62\n",
       "libra and it matters a lot                         52\n",
       "taurus and it matters a lot                        49\n",
       "aries and it matters a lot                         47\n",
       "sagittarius and it matters a lot                   47\n",
       "capricorn and it matters a lot                     45\n",
       "virgo and it matters a lot                         41\n",
       "Name: sign, dtype: int64"
      ]
     },
     "execution_count": 65,
     "metadata": {},
     "output_type": "execute_result"
    }
   ],
   "source": [
    "# in the religion column, find values containing the word \"christian\" and replace them with \"christian\"\n",
    "okcupid_profiles['sign'] = okcupid_profiles['sign'].str.replace('gemini and it&rsquo;s fun to think about', 'gemini')\n",
    "okcupid_profiles['sign'] = okcupid_profiles['sign'].str.replace('gemini but it doesn&rsquo;t matter', 'gemini')\n",
    "okcupid_profiles['sign'] = okcupid_profiles['sign'].str.replace('gemini and it matters a lot', 'gemini')"
   ]
  },
  {
   "cell_type": "code",
   "execution_count": 66,
   "id": "8b77f576-a2ad-40eb-872f-0336d11ed5d8",
   "metadata": {},
   "outputs": [],
   "source": [
    "okcupid_profiles['sign'] = okcupid_profiles['sign'].str.replace('scorpio and it&rsquo;s fun to think about', 'scorpio')\n",
    "okcupid_profiles['sign'] = okcupid_profiles['sign'].str.replace('scorpio but it doesn&rsquo;t matter', 'scorpio')\n",
    "okcupid_profiles['sign'] = okcupid_profiles['sign'].str.replace('scorpio and it matters a lot', 'scorpio')"
   ]
  },
  {
   "cell_type": "code",
   "execution_count": 67,
   "id": "ba82d159-e0ae-4e96-b3f1-1dec8351ab2d",
   "metadata": {},
   "outputs": [],
   "source": [
    "okcupid_profiles['sign'] = okcupid_profiles['sign'].str.replace('leo and it&rsquo;s fun to think about', 'leo')\n",
    "okcupid_profiles['sign'] = okcupid_profiles['sign'].str.replace('leo but it doesn&rsquo;t matter', 'leo')\n",
    "okcupid_profiles['sign'] = okcupid_profiles['sign'].str.replace('leo and it matters a lot', 'leo')"
   ]
  },
  {
   "cell_type": "code",
   "execution_count": 68,
   "id": "444a7c2a-ed0d-4b9b-9f7e-7b59c96870b1",
   "metadata": {},
   "outputs": [],
   "source": [
    "okcupid_profiles['sign'] = okcupid_profiles['sign'].str.replace('libra and it&rsquo;s fun to think about', 'libra')\n",
    "okcupid_profiles['sign'] = okcupid_profiles['sign'].str.replace('libra but it doesn&rsquo;t matter', 'libra')\n",
    "okcupid_profiles['sign'] = okcupid_profiles['sign'].str.replace('libra and it matters a lot', 'libra')"
   ]
  },
  {
   "cell_type": "code",
   "execution_count": 69,
   "id": "b31a2125-293f-4743-8d29-0ab304f4872c",
   "metadata": {},
   "outputs": [],
   "source": [
    "okcupid_profiles['sign'] = okcupid_profiles['sign'].str.replace('taurus and it&rsquo;s fun to think about', 'taurus')\n",
    "okcupid_profiles['sign'] = okcupid_profiles['sign'].str.replace('taurus but it doesn&rsquo;t matter', 'taurus')\n",
    "okcupid_profiles['sign'] = okcupid_profiles['sign'].str.replace('taurus and it matters a lot', 'taurus')"
   ]
  },
  {
   "cell_type": "code",
   "execution_count": 70,
   "id": "04059535-0054-4e82-bcdd-944e4dc1d956",
   "metadata": {},
   "outputs": [],
   "source": [
    "okcupid_profiles['sign'] = okcupid_profiles['sign'].str.replace('cancer and it&rsquo;s fun to think about', 'cancer')\n",
    "okcupid_profiles['sign'] = okcupid_profiles['sign'].str.replace('cancer but it doesn&rsquo;t matter', 'cancer')\n",
    "okcupid_profiles['sign'] = okcupid_profiles['sign'].str.replace('cancer and it matters a lot', 'cancer')"
   ]
  },
  {
   "cell_type": "code",
   "execution_count": 71,
   "id": "b15cd788-f249-41b4-9c87-1bd3e50087e2",
   "metadata": {},
   "outputs": [],
   "source": [
    "okcupid_profiles['sign'] = okcupid_profiles['sign'].str.replace('pisces and it&rsquo;s fun to think about', 'pisces')\n",
    "okcupid_profiles['sign'] = okcupid_profiles['sign'].str.replace('pisces but it doesn&rsquo;t matter', 'pisces')\n",
    "okcupid_profiles['sign'] = okcupid_profiles['sign'].str.replace('pisces and it matters a lot', 'pisces')"
   ]
  },
  {
   "cell_type": "code",
   "execution_count": 72,
   "id": "aea84b47-3f27-4675-ae21-c06010378316",
   "metadata": {},
   "outputs": [],
   "source": [
    "okcupid_profiles['sign'] = okcupid_profiles['sign'].str.replace('sagittarius and it&rsquo;s fun to think about', 'sagittarius')\n",
    "okcupid_profiles['sign'] = okcupid_profiles['sign'].str.replace('sagittarius but it doesn&rsquo;t matter', 'sagittarius')\n",
    "okcupid_profiles['sign'] = okcupid_profiles['sign'].str.replace('sagittarius and it matters a lot', 'sagittarius')"
   ]
  },
  {
   "cell_type": "code",
   "execution_count": 73,
   "id": "5b2327ab-a299-4765-a4e9-190c1245aab9",
   "metadata": {},
   "outputs": [],
   "source": [
    "okcupid_profiles['sign'] = okcupid_profiles['sign'].str.replace('virgo and it&rsquo;s fun to think about', 'virgo')\n",
    "okcupid_profiles['sign'] = okcupid_profiles['sign'].str.replace('virgo but it doesn&rsquo;t matter', 'virgo')\n",
    "okcupid_profiles['sign'] = okcupid_profiles['sign'].str.replace('virgo and it matters a lot', 'virgo')"
   ]
  },
  {
   "cell_type": "code",
   "execution_count": 74,
   "id": "1e07ed99-4765-4476-ba18-5e51c054e616",
   "metadata": {},
   "outputs": [],
   "source": [
    "okcupid_profiles['sign'] = okcupid_profiles['sign'].str.replace('aries and it&rsquo;s fun to think about', 'aries')\n",
    "okcupid_profiles['sign'] = okcupid_profiles['sign'].str.replace('aries but it doesn&rsquo;t matter', 'aries')\n",
    "okcupid_profiles['sign'] = okcupid_profiles['sign'].str.replace('aries and it matters a lot', 'aries')"
   ]
  },
  {
   "cell_type": "code",
   "execution_count": 75,
   "id": "b7531aa8-881f-4e05-b0d4-e7a048e001e5",
   "metadata": {},
   "outputs": [],
   "source": [
    "okcupid_profiles['sign'] = okcupid_profiles['sign'].str.replace('aquarius and it&rsquo;s fun to think about', 'aquarius')\n",
    "okcupid_profiles['sign'] = okcupid_profiles['sign'].str.replace('aquarius but it doesn&rsquo;t matter', 'aquarius')\n",
    "okcupid_profiles['sign'] = okcupid_profiles['sign'].str.replace('aquarius and it matters a lot', 'aquarius')"
   ]
  },
  {
   "cell_type": "code",
   "execution_count": 78,
   "id": "53a1c428-43f2-43db-b5fe-4d2432a6d827",
   "metadata": {},
   "outputs": [],
   "source": [
    "okcupid_profiles['sign'] = okcupid_profiles['sign'].str.replace('capricorn and it&rsquo;s fun to think about', 'capricorn')\n",
    "okcupid_profiles['sign'] = okcupid_profiles['sign'].str.replace('capricorn but it doesn&rsquo;t matter', 'capricorn')\n",
    "okcupid_profiles['sign'] = okcupid_profiles['sign'].str.replace('capricorn and it matters a lot', 'capricorn')"
   ]
  },
  {
   "cell_type": "code",
   "execution_count": 79,
   "id": "87692795-d212-4f6d-9269-58e35ac48ec1",
   "metadata": {},
   "outputs": [
    {
     "data": {
      "text/plain": [
       "leo            4374\n",
       "libra          4207\n",
       "cancer         4206\n",
       "virgo          4141\n",
       "taurus         4140\n",
       "scorpio        4134\n",
       "aries          3989\n",
       "pisces         3946\n",
       "sagittarius    3942\n",
       "aquarius       3928\n",
       "capricorn      3573\n",
       "gemini         2528\n",
       "christian      1782\n",
       "Name: sign, dtype: int64"
      ]
     },
     "execution_count": 79,
     "metadata": {},
     "output_type": "execute_result"
    }
   ],
   "source": [
    "okcupid_profiles['sign'].value_counts()"
   ]
  },
  {
   "cell_type": "markdown",
   "id": "7371434c",
   "metadata": {},
   "source": [
    "### Handling 'location'  "
   ]
  },
  {
   "cell_type": "markdown",
   "id": "b1cc30eb",
   "metadata": {},
   "source": [
    "Now the religious column is a boolean"
   ]
  },
  {
   "cell_type": "markdown",
   "id": "8ee110c9-cab5-4154-9903-85e601ddda60",
   "metadata": {},
   "source": [
    "## Filling the missing data"
   ]
  },
  {
   "cell_type": "markdown",
   "id": "51f29f39-6b52-4a4d-baf6-f4ba67363e7f",
   "metadata": {},
   "source": [
    "The columns containing missing data are the following:"
   ]
  },
  {
   "cell_type": "code",
   "execution_count": null,
   "id": "458dbf3c-ec1d-4691-9015-fb3936236f16",
   "metadata": {},
   "outputs": [],
   "source": [
    "print(okcupid_profiles.isna().sum())"
   ]
  },
  {
   "cell_type": "markdown",
   "id": "77875259-de46-4755-a990-e529723b522b",
   "metadata": {},
   "source": [
    "Comparing the missing data output with the dtype output, we can easily see how, except for height, all the missing data are categorical strings."
   ]
  },
  {
   "cell_type": "markdown",
   "id": "2c41db78-103a-4075-bbe9-3704117302b5",
   "metadata": {},
   "source": [
    "Since there are only three rows with missing values for height, instead of replacing the NaN with something like 0 or -1, or the average height, we think it's better to just drop them, since it is such a small number"
   ]
  },
  {
   "cell_type": "code",
   "execution_count": null,
   "id": "5be7b146-71d0-4ce9-a6fd-1f455bb3b74d",
   "metadata": {},
   "outputs": [],
   "source": [
    "okcupid_profiles = okcupid_profiles.dropna(how = 'any', subset = 'height') "
   ]
  },
  {
   "cell_type": "markdown",
   "id": "c55366f9-62d4-4ba0-bf7c-4b093818201e",
   "metadata": {},
   "source": [
    "For all the others attributes, we will just replace the missing values with the 'missing' string."
   ]
  },
  {
   "cell_type": "code",
   "execution_count": null,
   "id": "ef23a9be-a675-4b6a-977d-297c14404bb8",
   "metadata": {},
   "outputs": [],
   "source": [
    "okcupid_profiles = okcupid_profiles.fillna(value = 'missing')"
   ]
  },
  {
   "cell_type": "markdown",
   "id": "6d927cac-64c4-4fd7-a7e5-a7b4bdeb2bde",
   "metadata": {},
   "source": [
    "And now all the columns contain something"
   ]
  },
  {
   "cell_type": "code",
   "execution_count": null,
   "id": "62280f8e-e9cb-46b0-ad46-46ed11916dce",
   "metadata": {},
   "outputs": [],
   "source": [
    "print(okcupid_profiles.isna().sum())"
   ]
  },
  {
   "cell_type": "markdown",
   "id": "2ddd4d27-a424-4a88-ad72-7bd8d979f413",
   "metadata": {},
   "source": [
    "## Encoding the data"
   ]
  },
  {
   "cell_type": "code",
   "execution_count": null,
   "id": "34495192-fd7b-4933-9c7a-bbf6b9da279d",
   "metadata": {},
   "outputs": [],
   "source": [
    "enc = OrdinalEncoder()\n",
    "enc.fit(okcupid_profiles)"
   ]
  },
  {
   "cell_type": "code",
   "execution_count": null,
   "id": "65f55bab-c255-4efe-87f9-a60239d438cf",
   "metadata": {},
   "outputs": [],
   "source": [
    "encoded_data = enc.transform(okcupid_profiles)"
   ]
  },
  {
   "cell_type": "markdown",
   "id": "5bebb657-e028-454b-ba3d-304162f7b03c",
   "metadata": {},
   "source": [
    "Now we have a Numpy array with the encoded data, so no more objects, but only numbers."
   ]
  },
  {
   "cell_type": "code",
   "execution_count": null,
   "id": "5ee7f3d8-2be1-4e23-b159-28006469f9ea",
   "metadata": {},
   "outputs": [],
   "source": [
    "encoded_data.dtype"
   ]
  },
  {
   "cell_type": "markdown",
   "id": "e7614a2f-07ab-4355-bf61-6b3d7ae054d0",
   "metadata": {},
   "source": [
    "# Random Forest"
   ]
  },
  {
   "cell_type": "markdown",
   "id": "658a125c-205f-44dc-b307-017e1ee77943",
   "metadata": {},
   "source": [
    "## Education prediction model"
   ]
  },
  {
   "cell_type": "code",
   "execution_count": null,
   "id": "b2982d5a-75b7-400d-8fb0-4a7021cd6e2d",
   "metadata": {},
   "outputs": [],
   "source": [
    "# remember that now we have a Numpy array\n",
    "\n",
    "y = encoded_data[:,6] # This should pick the education column\n",
    "\n",
    "X = encoded_data[:, [1,2,3,4,5,7,8,15,16]] # Pick income and job\n",
    "# X = np.delete(encoded_data, 11, axis = 1) # This should remove the income colum\n",
    "\n",
    "# test_size = 0.3   means 70% training set | 30% test set\n",
    "X_train, X_test, y_train, y_test = train_test_split(X, \n",
    "                                                    y, \n",
    "                                                    test_size = 0.3, \n",
    "                                                    random_state = 42)"
   ]
  },
  {
   "cell_type": "code",
   "execution_count": null,
   "id": "987945c3-2308-433b-adeb-e2aa0c5ba2e0",
   "metadata": {},
   "outputs": [],
   "source": [
    "# n_estimators is the number of trees in the forest\n",
    "rfc = RandomForestClassifier(n_estimators = 50)\n",
    "rfc.fit(X_train, y_train)\n",
    "rfc_prediction = rfc.predict(X_test)"
   ]
  },
  {
   "cell_type": "code",
   "execution_count": null,
   "id": "9f1c6234-ad81-4abf-8656-7a208476cd69",
   "metadata": {
    "tags": []
   },
   "outputs": [],
   "source": [
    "print(\"Random Forest Classification report\")\n",
    "print(classification_report(y_test, rfc_prediction))\n",
    "print(\"Random Forest Confusion Matrix\")\n",
    "print(confusion_matrix(y_test, rfc_prediction))"
   ]
  },
  {
   "cell_type": "markdown",
   "id": "07a0d8e6-88a1-438a-8bd2-4c71066a6f2e",
   "metadata": {},
   "source": [
    "Let's now plot a proper confusion matrix"
   ]
  },
  {
   "cell_type": "code",
   "execution_count": null,
   "id": "fcf95da3-1503-47e3-bad3-9589f12b24cb",
   "metadata": {},
   "outputs": [],
   "source": [
    "# Get and reshape confusion matrix data\n",
    "matrix = confusion_matrix(y_test, rfc_prediction)\n",
    "\n",
    "matrix = matrix.astype('float') / matrix.sum(axis=1)[:, np.newaxis] # makes number into %\n",
    "#matrix = matrix.astype('float')\n",
    "\n",
    "# Build the plot\n",
    "plt.figure(figsize = (15, 10))\n",
    "sns.set(font_scale = 1.4)\n",
    "sns.heatmap(matrix, \n",
    "            annot = True, \n",
    "            annot_kws = {'size':5},\n",
    "            cmap = plt.cm.Blues, \n",
    "            linewidths = 0.2)\n",
    "\n",
    "# Add labels to the plot\n",
    "# class_names = np.array(okcupid_profiles[\"income\"].unique())\n",
    "# class_names = [-1, 80000, 20000, 40000, 30000, 50000, 60000, 1000000, 150000, 100000, 500000, 70000, 250000]\n",
    "class_names = []\n",
    "\n",
    "tick_marks = np.arange(len(class_names))\n",
    "tick_marks2 = tick_marks + 0.5\n",
    "\n",
    "plt.xticks(tick_marks, class_names, rotation=90)\n",
    "plt.yticks(tick_marks2, class_names, rotation=0)\n",
    "\n",
    "plt.xlabel('Predicted label')\n",
    "plt.ylabel('True label')\n",
    "\n",
    "plt.title('Confusion Matrix for Education')\n",
    "plt.show()"
   ]
  },
  {
   "cell_type": "code",
   "execution_count": null,
   "id": "82f7033f-ef5e-4f77-b9e5-1fa72152a5e8",
   "metadata": {},
   "outputs": [],
   "source": []
  }
 ],
 "metadata": {
  "kernelspec": {
   "display_name": "Python 3",
   "language": "python",
   "name": "python3"
  },
  "language_info": {
   "codemirror_mode": {
    "name": "ipython",
    "version": 3
   },
   "file_extension": ".py",
   "mimetype": "text/x-python",
   "name": "python",
   "nbconvert_exporter": "python",
   "pygments_lexer": "ipython3",
   "version": "3.9.13"
  },
  "vscode": {
   "interpreter": {
    "hash": "d9a4a7f0ea62cd438d89489c840561e0e6cea021717d38a8907a4a248bffb184"
   }
  }
 },
 "nbformat": 4,
 "nbformat_minor": 5
}
