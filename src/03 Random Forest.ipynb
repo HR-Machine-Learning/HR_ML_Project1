{
 "cells": [
  {
   "cell_type": "markdown",
   "id": "ea55942a-50da-4d33-863e-fc5ad7bebd0b",
   "metadata": {},
   "source": [
    "age\n",
    "sex\n",
    "body_type (should combine some values)\n",
    "height (drop too high and too low)\n",
    "job\n",
    "location (transform into a boolean livels_in_sanfrancisco)\n",
    "religion (\"add prefer not to say to missing data\")\n",
    "sign (\"add prefer not to say to missing data\")"
   ]
  },
  {
   "cell_type": "code",
   "execution_count": 324,
   "id": "dc92f211-fb66-4dcf-ab52-f21c956ed8f0",
   "metadata": {},
   "outputs": [],
   "source": [
    "import pandas as pd\n",
    "import numpy as np\n",
    "import seaborn as sns\n",
    "import matplotlib.pyplot as plt\n",
    "from sklearn.ensemble import RandomForestClassifier\n",
    "from sklearn.model_selection import train_test_split\n",
    "from sklearn.metrics import classification_report\n",
    "from sklearn.metrics import confusion_matrix\n",
    "from sklearn.preprocessing import OrdinalEncoder"
   ]
  },
  {
   "cell_type": "markdown",
   "id": "7846a4c6-d313-4549-a250-b8ea5ebf14ac",
   "metadata": {},
   "source": [
    "# Preprocessing the data and training the model"
   ]
  },
  {
   "cell_type": "code",
   "execution_count": 325,
   "id": "78f4fd59-9f09-4213-b87c-cecd3ee46efb",
   "metadata": {},
   "outputs": [],
   "source": [
    "raw_dataset = pd.read_csv('../data/okcupid.csv') \n",
    "okcupid_profiles = raw_dataset.drop(columns=\"Unnamed: 0\") "
   ]
  },
  {
   "cell_type": "markdown",
   "id": "65d4c467-cc5c-4203-92d8-55d10a361a24",
   "metadata": {},
   "source": [
    "As we can see from the output below, almost every column contains object types, which we can not use to fit the Random Forest. \n",
    "We need to convert the objects into numbers, and we can do that using OrdinalEncoder from sklearn.\n",
    "We need to manage the missing data first tho"
   ]
  },
  {
   "cell_type": "code",
   "execution_count": 326,
   "id": "073298fb-c6a1-43a0-85e5-59d38733ed11",
   "metadata": {},
   "outputs": [
    {
     "data": {
      "text/plain": [
       "age              int64\n",
       "status          object\n",
       "sex             object\n",
       "orientation     object\n",
       "body_type       object\n",
       "diet            object\n",
       "drinks          object\n",
       "drugs           object\n",
       "education       object\n",
       "ethnicity       object\n",
       "height         float64\n",
       "income           int64\n",
       "job             object\n",
       "last_online     object\n",
       "location        object\n",
       "offspring       object\n",
       "pets            object\n",
       "religion        object\n",
       "sign            object\n",
       "smokes          object\n",
       "speaks          object\n",
       "dtype: object"
      ]
     },
     "execution_count": 326,
     "metadata": {},
     "output_type": "execute_result"
    }
   ],
   "source": [
    "okcupid_profiles.dtypes"
   ]
  },
  {
   "cell_type": "code",
   "execution_count": 327,
   "id": "14e5da6b-a972-43d9-bd53-6b721c3babd7",
   "metadata": {},
   "outputs": [
    {
     "data": {
      "text/plain": [
       "graduated from college/university    23959\n",
       "graduated from masters program        8961\n",
       "working on college/university         5712\n",
       "working on masters program            1683\n",
       "graduated from two-year college       1531\n",
       "graduated from high school            1428\n",
       "graduated from ph.d program           1272\n",
       "graduated from law school             1122\n",
       "working on two-year college           1074\n",
       "dropped out of college/university      995\n",
       "working on ph.d program                983\n",
       "college/university                     801\n",
       "graduated from space camp              657\n",
       "dropped out of space camp              523\n",
       "graduated from med school              446\n",
       "working on space camp                  445\n",
       "working on law school                  269\n",
       "two-year college                       222\n",
       "working on med school                  212\n",
       "dropped out of two-year college        191\n",
       "dropped out of masters program         140\n",
       "masters program                        136\n",
       "dropped out of ph.d program            127\n",
       "dropped out of high school             102\n",
       "high school                             96\n",
       "working on high school                  87\n",
       "space camp                              58\n",
       "ph.d program                            26\n",
       "law school                              19\n",
       "dropped out of law school               18\n",
       "dropped out of med school               12\n",
       "med school                              11\n",
       "Name: education, dtype: int64"
      ]
     },
     "execution_count": 327,
     "metadata": {},
     "output_type": "execute_result"
    }
   ],
   "source": [
    "okcupid_profiles['education'].value_counts()"
   ]
  },
  {
   "cell_type": "markdown",
   "id": "8ee110c9-cab5-4154-9903-85e601ddda60",
   "metadata": {},
   "source": [
    "## Filling the missing data"
   ]
  },
  {
   "cell_type": "markdown",
   "id": "51f29f39-6b52-4a4d-baf6-f4ba67363e7f",
   "metadata": {},
   "source": [
    "The columns containing missing data are the following:"
   ]
  },
  {
   "cell_type": "code",
   "execution_count": 328,
   "id": "458dbf3c-ec1d-4691-9015-fb3936236f16",
   "metadata": {},
   "outputs": [
    {
     "name": "stdout",
     "output_type": "stream",
     "text": [
      "age                0\n",
      "status             0\n",
      "sex                0\n",
      "orientation        0\n",
      "body_type       5296\n",
      "diet           24395\n",
      "drinks          2985\n",
      "drugs          14080\n",
      "education       6628\n",
      "ethnicity       5680\n",
      "height             3\n",
      "income             0\n",
      "job             8198\n",
      "last_online        0\n",
      "location           0\n",
      "offspring      35561\n",
      "pets           19921\n",
      "religion       20226\n",
      "sign           11056\n",
      "smokes          5512\n",
      "speaks            50\n",
      "dtype: int64\n"
     ]
    }
   ],
   "source": [
    "print(okcupid_profiles.isna().sum())"
   ]
  },
  {
   "cell_type": "markdown",
   "id": "77875259-de46-4755-a990-e529723b522b",
   "metadata": {},
   "source": [
    "Comparing the missing data output with the dtype output, we can easily see how, except for height, all the missing data are categorical strings."
   ]
  },
  {
   "cell_type": "markdown",
   "id": "2c41db78-103a-4075-bbe9-3704117302b5",
   "metadata": {},
   "source": [
    "Since there are only three rows with missing values for height, instead of replacing the NaN with something like 0 or -1, or the average height, we think it's better to just drop them, since it is such a small number"
   ]
  },
  {
   "cell_type": "code",
   "execution_count": 329,
   "id": "5be7b146-71d0-4ce9-a6fd-1f455bb3b74d",
   "metadata": {},
   "outputs": [],
   "source": [
    "okcupid_profiles = okcupid_profiles.dropna(how = 'any', subset = 'height') "
   ]
  },
  {
   "cell_type": "markdown",
   "id": "c55366f9-62d4-4ba0-bf7c-4b093818201e",
   "metadata": {},
   "source": [
    "For all the others attributes, we will just replace the missing values with the 'missing' string."
   ]
  },
  {
   "cell_type": "code",
   "execution_count": 330,
   "id": "ef23a9be-a675-4b6a-977d-297c14404bb8",
   "metadata": {},
   "outputs": [],
   "source": [
    "okcupid_profiles = okcupid_profiles.fillna(value = 'missing')"
   ]
  },
  {
   "cell_type": "markdown",
   "id": "6d927cac-64c4-4fd7-a7e5-a7b4bdeb2bde",
   "metadata": {},
   "source": [
    "And now all the columns contain something"
   ]
  },
  {
   "cell_type": "code",
   "execution_count": 331,
   "id": "62280f8e-e9cb-46b0-ad46-46ed11916dce",
   "metadata": {},
   "outputs": [
    {
     "name": "stdout",
     "output_type": "stream",
     "text": [
      "age            0\n",
      "status         0\n",
      "sex            0\n",
      "orientation    0\n",
      "body_type      0\n",
      "diet           0\n",
      "drinks         0\n",
      "drugs          0\n",
      "education      0\n",
      "ethnicity      0\n",
      "height         0\n",
      "income         0\n",
      "job            0\n",
      "last_online    0\n",
      "location       0\n",
      "offspring      0\n",
      "pets           0\n",
      "religion       0\n",
      "sign           0\n",
      "smokes         0\n",
      "speaks         0\n",
      "dtype: int64\n"
     ]
    }
   ],
   "source": [
    "print(okcupid_profiles.isna().sum())"
   ]
  },
  {
   "cell_type": "markdown",
   "id": "2ddd4d27-a424-4a88-ad72-7bd8d979f413",
   "metadata": {},
   "source": [
    "## Encoding the data"
   ]
  },
  {
   "cell_type": "code",
   "execution_count": 332,
   "id": "34495192-fd7b-4933-9c7a-bbf6b9da279d",
   "metadata": {},
   "outputs": [
    {
     "data": {
      "text/html": [
       "<style>#sk-container-id-20 {color: black;background-color: white;}#sk-container-id-20 pre{padding: 0;}#sk-container-id-20 div.sk-toggleable {background-color: white;}#sk-container-id-20 label.sk-toggleable__label {cursor: pointer;display: block;width: 100%;margin-bottom: 0;padding: 0.3em;box-sizing: border-box;text-align: center;}#sk-container-id-20 label.sk-toggleable__label-arrow:before {content: \"▸\";float: left;margin-right: 0.25em;color: #696969;}#sk-container-id-20 label.sk-toggleable__label-arrow:hover:before {color: black;}#sk-container-id-20 div.sk-estimator:hover label.sk-toggleable__label-arrow:before {color: black;}#sk-container-id-20 div.sk-toggleable__content {max-height: 0;max-width: 0;overflow: hidden;text-align: left;background-color: #f0f8ff;}#sk-container-id-20 div.sk-toggleable__content pre {margin: 0.2em;color: black;border-radius: 0.25em;background-color: #f0f8ff;}#sk-container-id-20 input.sk-toggleable__control:checked~div.sk-toggleable__content {max-height: 200px;max-width: 100%;overflow: auto;}#sk-container-id-20 input.sk-toggleable__control:checked~label.sk-toggleable__label-arrow:before {content: \"▾\";}#sk-container-id-20 div.sk-estimator input.sk-toggleable__control:checked~label.sk-toggleable__label {background-color: #d4ebff;}#sk-container-id-20 div.sk-label input.sk-toggleable__control:checked~label.sk-toggleable__label {background-color: #d4ebff;}#sk-container-id-20 input.sk-hidden--visually {border: 0;clip: rect(1px 1px 1px 1px);clip: rect(1px, 1px, 1px, 1px);height: 1px;margin: -1px;overflow: hidden;padding: 0;position: absolute;width: 1px;}#sk-container-id-20 div.sk-estimator {font-family: monospace;background-color: #f0f8ff;border: 1px dotted black;border-radius: 0.25em;box-sizing: border-box;margin-bottom: 0.5em;}#sk-container-id-20 div.sk-estimator:hover {background-color: #d4ebff;}#sk-container-id-20 div.sk-parallel-item::after {content: \"\";width: 100%;border-bottom: 1px solid gray;flex-grow: 1;}#sk-container-id-20 div.sk-label:hover label.sk-toggleable__label {background-color: #d4ebff;}#sk-container-id-20 div.sk-serial::before {content: \"\";position: absolute;border-left: 1px solid gray;box-sizing: border-box;top: 0;bottom: 0;left: 50%;z-index: 0;}#sk-container-id-20 div.sk-serial {display: flex;flex-direction: column;align-items: center;background-color: white;padding-right: 0.2em;padding-left: 0.2em;position: relative;}#sk-container-id-20 div.sk-item {position: relative;z-index: 1;}#sk-container-id-20 div.sk-parallel {display: flex;align-items: stretch;justify-content: center;background-color: white;position: relative;}#sk-container-id-20 div.sk-item::before, #sk-container-id-20 div.sk-parallel-item::before {content: \"\";position: absolute;border-left: 1px solid gray;box-sizing: border-box;top: 0;bottom: 0;left: 50%;z-index: -1;}#sk-container-id-20 div.sk-parallel-item {display: flex;flex-direction: column;z-index: 1;position: relative;background-color: white;}#sk-container-id-20 div.sk-parallel-item:first-child::after {align-self: flex-end;width: 50%;}#sk-container-id-20 div.sk-parallel-item:last-child::after {align-self: flex-start;width: 50%;}#sk-container-id-20 div.sk-parallel-item:only-child::after {width: 0;}#sk-container-id-20 div.sk-dashed-wrapped {border: 1px dashed gray;margin: 0 0.4em 0.5em 0.4em;box-sizing: border-box;padding-bottom: 0.4em;background-color: white;}#sk-container-id-20 div.sk-label label {font-family: monospace;font-weight: bold;display: inline-block;line-height: 1.2em;}#sk-container-id-20 div.sk-label-container {text-align: center;}#sk-container-id-20 div.sk-container {/* jupyter's `normalize.less` sets `[hidden] { display: none; }` but bootstrap.min.css set `[hidden] { display: none !important; }` so we also need the `!important` here to be able to override the default hidden behavior on the sphinx rendered scikit-learn.org. See: https://github.com/scikit-learn/scikit-learn/issues/21755 */display: inline-block !important;position: relative;}#sk-container-id-20 div.sk-text-repr-fallback {display: none;}</style><div id=\"sk-container-id-20\" class=\"sk-top-container\"><div class=\"sk-text-repr-fallback\"><pre>OrdinalEncoder()</pre><b>In a Jupyter environment, please rerun this cell to show the HTML representation or trust the notebook. <br />On GitHub, the HTML representation is unable to render, please try loading this page with nbviewer.org.</b></div><div class=\"sk-container\" hidden><div class=\"sk-item\"><div class=\"sk-estimator sk-toggleable\"><input class=\"sk-toggleable__control sk-hidden--visually\" id=\"sk-estimator-id-20\" type=\"checkbox\" checked><label for=\"sk-estimator-id-20\" class=\"sk-toggleable__label sk-toggleable__label-arrow\">OrdinalEncoder</label><div class=\"sk-toggleable__content\"><pre>OrdinalEncoder()</pre></div></div></div></div></div>"
      ],
      "text/plain": [
       "OrdinalEncoder()"
      ]
     },
     "execution_count": 332,
     "metadata": {},
     "output_type": "execute_result"
    }
   ],
   "source": [
    "enc = OrdinalEncoder()\n",
    "enc.fit(okcupid_profiles)"
   ]
  },
  {
   "cell_type": "code",
   "execution_count": 333,
   "id": "65f55bab-c255-4efe-87f9-a60239d438cf",
   "metadata": {},
   "outputs": [],
   "source": [
    "encoded_data = enc.transform(okcupid_profiles)"
   ]
  },
  {
   "cell_type": "markdown",
   "id": "5bebb657-e028-454b-ba3d-304162f7b03c",
   "metadata": {},
   "source": [
    "Now we have a Numpy array with the encoded data, so no more objects, but only numbers."
   ]
  },
  {
   "cell_type": "code",
   "execution_count": 334,
   "id": "5ee7f3d8-2be1-4e23-b159-28006469f9ea",
   "metadata": {},
   "outputs": [
    {
     "data": {
      "text/plain": [
       "dtype('float64')"
      ]
     },
     "execution_count": 334,
     "metadata": {},
     "output_type": "execute_result"
    }
   ],
   "source": [
    "encoded_data.dtype"
   ]
  },
  {
   "cell_type": "markdown",
   "id": "e7614a2f-07ab-4355-bf61-6b3d7ae054d0",
   "metadata": {},
   "source": [
    "# Random Forest"
   ]
  },
  {
   "cell_type": "markdown",
   "id": "658a125c-205f-44dc-b307-017e1ee77943",
   "metadata": {},
   "source": [
    "## Education prediction model"
   ]
  },
  {
   "cell_type": "code",
   "execution_count": 335,
   "id": "b2982d5a-75b7-400d-8fb0-4a7021cd6e2d",
   "metadata": {},
   "outputs": [],
   "source": [
    "# remember that now we have a Numpy array\n",
    "\n",
    "y = encoded_data[:,6] # This should pick the education column\n",
    "\n",
    "X = encoded_data[:, [1,2,3,4,5,7,8,15,16]] # Pick income and job\n",
    "# X = np.delete(encoded_data, 11, axis = 1) # This should remove the income colum\n",
    "\n",
    "# test_size = 0.3   means 70% training set | 30% test set\n",
    "X_train, X_test, y_train, y_test = train_test_split(X, \n",
    "                                                    y, \n",
    "                                                    test_size = 0.3, \n",
    "                                                    random_state = 42)"
   ]
  },
  {
   "cell_type": "code",
   "execution_count": 336,
   "id": "987945c3-2308-433b-adeb-e2aa0c5ba2e0",
   "metadata": {},
   "outputs": [],
   "source": [
    "# n_estimators is the number of trees in the forest\n",
    "rfc = RandomForestClassifier(n_estimators = 50)\n",
    "rfc.fit(X_train, y_train)\n",
    "rfc_prediction = rfc.predict(X_test)"
   ]
  },
  {
   "cell_type": "code",
   "execution_count": 337,
   "id": "9f1c6234-ad81-4abf-8656-7a208476cd69",
   "metadata": {
    "tags": []
   },
   "outputs": [
    {
     "name": "stdout",
     "output_type": "stream",
     "text": [
      "Random Forest Classification report\n",
      "              precision    recall  f1-score   support\n",
      "\n",
      "         0.0       0.06      0.01      0.02        97\n",
      "         1.0       0.33      0.15      0.20       920\n",
      "         2.0       0.18      0.05      0.08       975\n",
      "         3.0       0.18      0.06      0.09      1582\n",
      "         4.0       0.13      0.04      0.07      1740\n",
      "         5.0       0.71      0.91      0.79     12512\n",
      "         6.0       0.05      0.01      0.02       157\n",
      "\n",
      "    accuracy                           0.65     17983\n",
      "   macro avg       0.23      0.18      0.18     17983\n",
      "weighted avg       0.55      0.65      0.58     17983\n",
      "\n",
      "Random Forest Confusion Matrix\n",
      "[[    1     1     1     5     2    86     1]\n",
      " [    2   135     4    12    25   742     0]\n",
      " [    0    17    52    19    49   836     2]\n",
      " [    3    24    20    95    42  1392     6]\n",
      " [    1    24    38    46    78  1550     3]\n",
      " [    8   199   168   337   404 11373    23]\n",
      " [    2     6     3     8     5   131     2]]\n"
     ]
    }
   ],
   "source": [
    "print(\"Random Forest Classification report\")\n",
    "print(classification_report(y_test, rfc_prediction))\n",
    "print(\"Random Forest Confusion Matrix\")\n",
    "print(confusion_matrix(y_test, rfc_prediction))"
   ]
  },
  {
   "cell_type": "markdown",
   "id": "07a0d8e6-88a1-438a-8bd2-4c71066a6f2e",
   "metadata": {},
   "source": [
    "Let's now plot a proper confusion matrix"
   ]
  },
  {
   "cell_type": "code",
   "execution_count": 338,
   "id": "fcf95da3-1503-47e3-bad3-9589f12b24cb",
   "metadata": {},
   "outputs": [
    {
     "data": {
      "image/png": "[encoded data removed]",
      "text/plain": [
       "<Figure size 1500x1000 with 2 Axes>"
      ]
     },
     "metadata": {},
     "output_type": "display_data"
    }
   ],
   "source": [
    "# Get and reshape confusion matrix data\n",
    "matrix = confusion_matrix(y_test, rfc_prediction)\n",
    "\n",
    "matrix = matrix.astype('float') / matrix.sum(axis=1)[:, np.newaxis] # makes number into %\n",
    "#matrix = matrix.astype('float')\n",
    "\n",
    "# Build the plot\n",
    "plt.figure(figsize = (15, 10))\n",
    "sns.set(font_scale = 1.4)\n",
    "sns.heatmap(matrix, \n",
    "            annot = True, \n",
    "            annot_kws = {'size':5},\n",
    "            cmap = plt.cm.Blues, \n",
    "            linewidths = 0.2)\n",
    "\n",
    "# Add labels to the plot\n",
    "# class_names = np.array(okcupid_profiles[\"income\"].unique())\n",
    "# class_names = [-1, 80000, 20000, 40000, 30000, 50000, 60000, 1000000, 150000, 100000, 500000, 70000, 250000]\n",
    "class_names = []\n",
    "\n",
    "tick_marks = np.arange(len(class_names))\n",
    "tick_marks2 = tick_marks + 0.5\n",
    "\n",
    "plt.xticks(tick_marks, class_names, rotation=90)\n",
    "plt.yticks(tick_marks2, class_names, rotation=0)\n",
    "\n",
    "plt.xlabel('Predicted label')\n",
    "plt.ylabel('True label')\n",
    "\n",
    "plt.title('Confusion Matrix for Education')\n",
    "plt.show()"
   ]
  },
  {
   "cell_type": "code",
   "execution_count": null,
   "id": "82f7033f-ef5e-4f77-b9e5-1fa72152a5e8",
   "metadata": {},
   "outputs": [],
   "source": []
  }
 ],
 "metadata": {
  "kernelspec": {
   "display_name": "Python 3 (ipykernel)",
   "language": "python",
   "name": "python3"
  },
  "language_info": {
   "codemirror_mode": {
    "name": "ipython",
    "version": 3
   },
   "file_extension": ".py",
   "mimetype": "text/x-python",
   "name": "python",
   "nbconvert_exporter": "python",
   "pygments_lexer": "ipython3",
   "version": "3.10.7"
  }
 },
 "nbformat": 4,
 "nbformat_minor": 5
}
