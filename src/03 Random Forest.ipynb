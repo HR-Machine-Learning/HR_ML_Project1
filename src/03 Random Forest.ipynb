{
 "cells": [
  {
   "cell_type": "markdown",
   "id": "ea55942a-50da-4d33-863e-fc5ad7bebd0b",
   "metadata": {},
   "source": [
    "age\n",
    "sex\n",
    "body_type (should combine some values)\n",
    "height (drop too high and too low)\n",
    "job\n",
    "location (transform into a boolean livels_in_sanfrancisco)\n",
    "sign (\"add prefer not to say to missing data\")"
   ]
  },
  {
   "cell_type": "code",
   "execution_count": null,
   "id": "dc92f211-fb66-4dcf-ab52-f21c956ed8f0",
   "metadata": {},
   "outputs": [],
   "source": [
    "import pandas as pd\n",
    "import numpy as np\n",
    "import seaborn as sns\n",
    "import matplotlib.pyplot as plt\n",
    "from sklearn.ensemble import RandomForestClassifier\n",
    "from sklearn.model_selection import train_test_split\n",
    "from sklearn.metrics import classification_report\n",
    "from sklearn.metrics import confusion_matrix\n",
    "from sklearn.preprocessing import OrdinalEncoder"
   ]
  },
  {
   "cell_type": "markdown",
   "id": "7846a4c6-d313-4549-a250-b8ea5ebf14ac",
   "metadata": {},
   "source": [
    "# Preprocessing the data and training the model"
   ]
  },
  {
   "cell_type": "code",
   "execution_count": null,
   "id": "78f4fd59-9f09-4213-b87c-cecd3ee46efb",
   "metadata": {},
   "outputs": [],
   "source": [
    "raw_dataset = pd.read_csv('../data/okcupid.csv') \n",
    "okcupid_profiles = raw_dataset.drop(columns=\"Unnamed: 0\") "
   ]
  },
  {
   "cell_type": "markdown",
   "id": "65d4c467-cc5c-4203-92d8-55d10a361a24",
   "metadata": {},
   "source": [
    "As we can see from the output below, almost every column contains object types, which we can not use to fit the Random Forest. \n",
    "We need to convert the objects into numbers, and we can do that using OrdinalEncoder from sklearn.\n",
    "We need to manage the missing data first tho"
   ]
  },
  {
   "cell_type": "code",
   "execution_count": null,
   "id": "073298fb-c6a1-43a0-85e5-59d38733ed11",
   "metadata": {},
   "outputs": [],
   "source": [
    "okcupid_profiles.dtypes"
   ]
  },
  {
   "cell_type": "markdown",
   "id": "427cf366-1a4e-4501-bf04-f0acb204a953",
   "metadata": {},
   "source": [
    "## Reworking the dataset\n",
    "### Dropping columns"
   ]
  },
  {
   "cell_type": "markdown",
   "id": "8a5728e7-e98b-4b72-aeba-e27babe040cf",
   "metadata": {},
   "source": [
    "We noticed that for many labels, the value distribution is... a bit unusable. We have like 50000 occurences of a single value, and too few of the others.\n",
    "We decided to solve this by introducing some changes to the dataset."
   ]
  },
  {
   "cell_type": "markdown",
   "id": "55ec1071-e9af-4909-a17d-b6729c18b68e",
   "metadata": {},
   "source": [
    "We are going to drop the following columns:"
   ]
  },
  {
   "cell_type": "code",
   "execution_count": null,
   "id": "e16af470-e1cd-4686-93a5-9ff2dc44ee29",
   "metadata": {},
   "outputs": [],
   "source": [
    "for element in okcupid_profiles.columns:\n",
    "    print(element)"
   ]
  },
  {
   "cell_type": "code",
   "execution_count": null,
   "id": "1b65394b-7f9e-479d-a1ca-8391f180c965",
   "metadata": {},
   "outputs": [],
   "source": [
    "okcupid_profiles = okcupid_profiles.drop(columns = ['status', \n",
    "                                                     'orientation',\n",
    "                                                     'diet',\n",
    "                                                     'drinks',\n",
    "                                                     'drugs',\n",
    "                                                     'education',\n",
    "                                                     'ethnicity',\n",
    "                                                     'income',\n",
    "                                                     'last_online',\n",
    "                                                     'offspring',\n",
    "                                                     'pets',\n",
    "                                                     'smokes',\n",
    "                                                     'speaks'])"
   ]
  },
  {
   "cell_type": "markdown",
   "id": "fdc32379-d013-4ce0-8a46-2f8df356798c",
   "metadata": {},
   "source": [
    "Now we are left with:"
   ]
  },
  {
   "cell_type": "code",
   "execution_count": null,
   "id": "3b9e5de2-107d-4aed-a9c1-94cb5530d834",
   "metadata": {},
   "outputs": [],
   "source": [
    "for element in okcupid_profiles.columns:\n",
    "    print(element)"
   ]
  },
  {
   "cell_type": "markdown",
   "id": "4cf8c6fa-0297-4a8c-b341-46b8ef054a5a",
   "metadata": {},
   "source": [
    "### Handling 'religion'"
   ]
  },
  {
   "cell_type": "code",
   "execution_count": null,
   "id": "dde0fcc8-0ba1-432e-b04f-6df37331ee52",
   "metadata": {},
   "outputs": [],
   "source": [
    "pd.isna(okcupid_profiles[\"religion\"]).sum()"
   ]
  },
  {
   "cell_type": "code",
   "execution_count": null,
   "id": "f4090723-332c-403d-b923-cf3891dc615e",
   "metadata": {},
   "outputs": [],
   "source": [
    "okcupid_profiles['religion'].value_counts()"
   ]
  },
  {
   "cell_type": "markdown",
   "id": "22ab0ee8-f92a-4f85-8d5d-dc7cfe74ca9a",
   "metadata": {},
   "source": [
    "As we can see from the value count, the data is a bit too sparse. We are going to merge all the various religion occurences together."
   ]
  },
  {
   "cell_type": "code",
   "execution_count": null,
   "id": "367239ed-c393-4c40-a2a4-96803ce89c58",
   "metadata": {},
   "outputs": [],
   "source": [
    "# in the religion column, find values containing the word \"christian\" and replace them with \"christian\"\n",
    "okcupid_profiles['religion'] = okcupid_profiles['religion'].str.replace('christianity but not too serious about it', 'christian')\n",
    "okcupid_profiles['religion'] = okcupid_profiles['religion'].str.replace('christianity and very serious about it', 'christian')\n",
    "okcupid_profiles['religion'] = okcupid_profiles['religion'].str.replace('christianity and somewhat serious about it', 'christian')\n",
    "okcupid_profiles['religion'] = okcupid_profiles['religion'].str.replace('christianity and laughing about it', 'christian')\n",
    "okcupid_profiles['religion'] = okcupid_profiles['religion'].str.replace('christianity and somewhat serious about it', 'christian')\n",
    "okcupid_profiles['religion'] = okcupid_profiles['religion'].str.replace('christianity and very serious about it', 'christian')\n",
    "okcupid_profiles['religion'] = okcupid_profiles['religion'].str.replace('christianity', 'christian')"
   ]
  },
  {
   "cell_type": "code",
   "execution_count": null,
   "id": "6c9f36fc",
   "metadata": {},
   "outputs": [],
   "source": [
    "# in the religion column, find values containing the word \"agnosticism\" and replace them with \"agnostic\"\n",
    "okcupid_profiles['religion'] = okcupid_profiles['religion'].str.replace('agnosticism but not too serious about it', 'agnostic')\n",
    "okcupid_profiles['religion'] = okcupid_profiles['religion'].str.replace('agnosticism and very serious about it', 'agnostic')\n",
    "okcupid_profiles['religion'] = okcupid_profiles['religion'].str.replace('agnosticism and somewhat serious about it', 'agnostic')\n",
    "okcupid_profiles['religion'] = okcupid_profiles['religion'].str.replace('agnosticism and laughing about it', 'agnostic')\n",
    "okcupid_profiles['religion'] = okcupid_profiles['religion'].str.replace('agnosticism and somewhat serious about it', 'agnostic')\n",
    "okcupid_profiles['religion'] = okcupid_profiles['religion'].str.replace('agnosticism and very serious about it', 'agnostic')\n",
    "okcupid_profiles['religion'] = okcupid_profiles['religion'].str.replace('agnosticism', 'agnostic')"
   ]
  },
  {
   "cell_type": "code",
   "execution_count": null,
   "id": "58349b35",
   "metadata": {},
   "outputs": [],
   "source": [
    "# in the religion column, find values containing the word \"atheism\" and replace them with \"atheist\"\n",
    "okcupid_profiles['religion'] = okcupid_profiles['religion'].str.replace('atheism but not too serious about it', 'atheist')\n",
    "okcupid_profiles['religion'] = okcupid_profiles['religion'].str.replace('atheism and very serious about it', 'atheist')\n",
    "okcupid_profiles['religion'] = okcupid_profiles['religion'].str.replace('atheism and somewhat serious about it', 'atheist')\n",
    "okcupid_profiles['religion'] = okcupid_profiles['religion'].str.replace('atheism and laughing about it', 'atheist')\n",
    "okcupid_profiles['religion'] = okcupid_profiles['religion'].str.replace('atheism and somewhat serious about it', 'atheist')\n",
    "okcupid_profiles['religion'] = okcupid_profiles['religion'].str.replace('atheism and very serious about it', 'atheist')\n",
    "okcupid_profiles['religion'] = okcupid_profiles['religion'].str.replace('atheism', 'atheist')"
   ]
  },
  {
   "cell_type": "code",
   "execution_count": null,
   "id": "a40b9f97",
   "metadata": {},
   "outputs": [],
   "source": [
    "# in the religion column, find values containing the word \"catholicism\" and replace them with \"catholic\"\n",
    "okcupid_profiles['religion'] = okcupid_profiles['religion'].str.replace('catholicism but not too serious about it', 'catholic')\n",
    "okcupid_profiles['religion'] = okcupid_profiles['religion'].str.replace('catholicism and very serious about it', 'catholic')\n",
    "okcupid_profiles['religion'] = okcupid_profiles['religion'].str.replace('catholicism and somewhat serious about it', 'catholic')\n",
    "okcupid_profiles['religion'] = okcupid_profiles['religion'].str.replace('catholicism and laughing about it', 'catholic')\n",
    "okcupid_profiles['religion'] = okcupid_profiles['religion'].str.replace('catholicism and somewhat serious about it', 'catholic')\n",
    "okcupid_profiles['religion'] = okcupid_profiles['religion'].str.replace('catholicism and very serious about it', 'catholic')\n",
    "okcupid_profiles['religion'] = okcupid_profiles['religion'].str.replace('catholicism', 'catholic')"
   ]
  },
  {
   "cell_type": "code",
   "execution_count": null,
   "id": "909ad023",
   "metadata": {},
   "outputs": [],
   "source": [
    "# in the religion column, find values containing the word \"judaism\" and replace them with \"jewish\"\n",
    "okcupid_profiles['religion'] = okcupid_profiles['religion'].str.replace('judaism but not too serious about it', 'jewish')\n",
    "okcupid_profiles['religion'] = okcupid_profiles['religion'].str.replace('judaism and very serious about it', 'jewish')\n",
    "okcupid_profiles['religion'] = okcupid_profiles['religion'].str.replace('judaism and somewhat serious about it', 'jewish')\n",
    "okcupid_profiles['religion'] = okcupid_profiles['religion'].str.replace('judaism and laughing about it', 'jewish')\n",
    "okcupid_profiles['religion'] = okcupid_profiles['religion'].str.replace('judaism and somewhat serious about it', 'jewish')\n",
    "okcupid_profiles['religion'] = okcupid_profiles['religion'].str.replace('judaism and very serious about it', 'jewish')\n",
    "okcupid_profiles['religion'] = okcupid_profiles['religion'].str.replace('judaism', 'jewish')"
   ]
  },
  {
   "cell_type": "code",
   "execution_count": null,
   "id": "73f11cdb",
   "metadata": {},
   "outputs": [],
   "source": [
    "# in the religion column, find values containing the word \"buddhism\" and replace them with \"buddhist\"\n",
    "okcupid_profiles['religion'] = okcupid_profiles['religion'].str.replace('buddhism but not too serious about it', 'buddhist')\n",
    "okcupid_profiles['religion'] = okcupid_profiles['religion'].str.replace('buddhism and very serious about it', 'buddhist')\n",
    "okcupid_profiles['religion'] = okcupid_profiles['religion'].str.replace('buddhism and somewhat serious about it', 'buddhist')\n",
    "okcupid_profiles['religion'] = okcupid_profiles['religion'].str.replace('buddhism and laughing about it', 'buddhist')\n",
    "okcupid_profiles['religion'] = okcupid_profiles['religion'].str.replace('buddhism and somewhat serious about it', 'buddhist')\n",
    "okcupid_profiles['religion'] = okcupid_profiles['religion'].str.replace('buddhism and very serious about it', 'buddhist')\n",
    "okcupid_profiles['religion'] = okcupid_profiles['religion'].str.replace('buddhism', 'buddhist')"
   ]
  },
  {
   "cell_type": "code",
   "execution_count": null,
   "id": "b36365bf",
   "metadata": {},
   "outputs": [],
   "source": [
    "# in the religion column, find values containing the word \"hinduism\" and replace them with \"hindu\"\n",
    "okcupid_profiles['religion'] = okcupid_profiles['religion'].str.replace('hinduism but not too serious about it', 'hindu')\n",
    "okcupid_profiles['religion'] = okcupid_profiles['religion'].str.replace('hinduism and very serious about it', 'hindu')\n",
    "okcupid_profiles['religion'] = okcupid_profiles['religion'].str.replace('hinduism and somewhat serious about it', 'hindu')\n",
    "okcupid_profiles['religion'] = okcupid_profiles['religion'].str.replace('hinduism and laughing about it', 'hindu')\n",
    "okcupid_profiles['religion'] = okcupid_profiles['religion'].str.replace('hinduism and somewhat serious about it', 'hindu')\n",
    "okcupid_profiles['religion'] = okcupid_profiles['religion'].str.replace('hinduism and very serious about it', 'hindu')\n",
    "okcupid_profiles['religion'] = okcupid_profiles['religion'].str.replace('hinduism', 'hindu')"
   ]
  },
  {
   "cell_type": "code",
   "execution_count": null,
   "id": "b1fa68a5",
   "metadata": {},
   "outputs": [],
   "source": [
    "# in the religion column, find values containing the word \"islam\" and replace them with \"muslim\"\n",
    "okcupid_profiles['religion'] = okcupid_profiles['religion'].str.replace('islam but not too serious about it', 'muslim')\n",
    "okcupid_profiles['religion'] = okcupid_profiles['religion'].str.replace('islam and very serious about it', 'muslim')\n",
    "okcupid_profiles['religion'] = okcupid_profiles['religion'].str.replace('islam and somewhat serious about it', 'muslim')\n",
    "okcupid_profiles['religion'] = okcupid_profiles['religion'].str.replace('islam and laughing about it', 'muslim')\n",
    "okcupid_profiles['religion'] = okcupid_profiles['religion'].str.replace('islam and somewhat serious about it', 'muslim')\n",
    "okcupid_profiles['religion'] = okcupid_profiles['religion'].str.replace('islam and very serious about it', 'muslim')\n",
    "okcupid_profiles['religion'] = okcupid_profiles['religion'].str.replace('islam', 'muslim')"
   ]
  },
  {
   "cell_type": "code",
   "execution_count": null,
   "id": "89bd41df",
   "metadata": {},
   "outputs": [],
   "source": [
    "# in the religion column, find values containing the word \"other\" and replace them with \"other\"\n",
    "okcupid_profiles['religion'] = okcupid_profiles['religion'].str.replace('other but not too serious about it', 'other')\n",
    "okcupid_profiles['religion'] = okcupid_profiles['religion'].str.replace('other and very serious about it', 'other')\n",
    "okcupid_profiles['religion'] = okcupid_profiles['religion'].str.replace('other and somewhat serious about it', 'other')\n",
    "okcupid_profiles['religion'] = okcupid_profiles['religion'].str.replace('other and laughing about it', 'other')\n",
    "okcupid_profiles['religion'] = okcupid_profiles['religion'].str.replace('other and somewhat serious about it', 'other')\n",
    "okcupid_profiles['religion'] = okcupid_profiles['religion'].str.replace('other and very serious about it', 'other')\n",
    "okcupid_profiles['religion'] = okcupid_profiles['religion'].str.replace('other', 'other')"
   ]
  },
  {
   "cell_type": "code",
   "execution_count": null,
   "id": "9e9a8788",
   "metadata": {},
   "outputs": [],
   "source": [
    "print(okcupid_profiles['religion'].value_counts())\n",
    "print(\"Missing values: \", okcupid_profiles['religion'].isnull().sum())"
   ]
  },
  {
   "cell_type": "markdown",
   "id": "5b4ef039",
   "metadata": {},
   "source": [
    "At this point, we noticed that we have too many missing values, since we are also considering the 'other' as basically missing. So we are just going to have to convert the religion attribute to a boolean."
   ]
  },
  {
   "cell_type": "code",
   "execution_count": null,
   "id": "ea47207f",
   "metadata": {},
   "outputs": [],
   "source": [
    "\"\"\"for the religion column, convert the missing data into a boolean false, \n",
    "convert the 'other' values into boolean false, and the rest boolean true\n",
    "\"\"\"\n",
    "okcupid_profiles['religion'] = okcupid_profiles['religion'].fillna(False)\n",
    "okcupid_profiles['religion'] = okcupid_profiles['religion'].replace('other', False)\n",
    "okcupid_profiles['religion'] = okcupid_profiles['religion'].replace('agnostic', True)\n",
    "okcupid_profiles['religion'] = okcupid_profiles['religion'].replace('atheist', True)\n",
    "okcupid_profiles['religion'] = okcupid_profiles['religion'].replace('christian', True)\n",
    "okcupid_profiles['religion'] = okcupid_profiles['religion'].replace('catholic', True)\n",
    "okcupid_profiles['religion'] = okcupid_profiles['religion'].replace('jewish', True)\n",
    "okcupid_profiles['religion'] = okcupid_profiles['religion'].replace('buddhist', True)\n",
    "okcupid_profiles['religion'] = okcupid_profiles['religion'].replace('hindu', True)\n",
    "okcupid_profiles['religion'] = okcupid_profiles['religion'].replace('muslim', True)\n"
   ]
  },
  {
   "cell_type": "code",
   "execution_count": null,
   "id": "085cd96f",
   "metadata": {},
   "outputs": [],
   "source": [
    "okcupid_profiles.rename(columns = {'religion': 'religious'}, inplace=True)"
   ]
  },
  {
   "cell_type": "code",
   "execution_count": null,
   "id": "2fc92fff",
   "metadata": {},
   "outputs": [],
   "source": [
    "okcupid_profiles['religious'].value_counts()"
   ]
  },
  {
   "cell_type": "markdown",
   "id": "32b78dbf",
   "metadata": {},
   "source": [
    "### Handling 'sign'"
   ]
  },
  {
   "cell_type": "markdown",
   "id": "7371434c",
   "metadata": {},
   "source": [
    "### Handling 'location'  "
   ]
  },
  {
   "cell_type": "code",
   "execution_count": null,
   "id": "58efb522",
   "metadata": {},
   "outputs": [],
   "source": [
    "okcupid_profiles['location'].value_counts()"
   ]
  },
  {
   "cell_type": "code",
   "execution_count": null,
   "id": "03f7d664",
   "metadata": {},
   "outputs": [],
   "source": [
    "okcupid_profiles['location'] = okcupid_profiles['location'].fillna(False)\n",
    "okcupid_profiles['location'] = (okcupid_profiles['location'] == 'san francisco, california')\n",
    "okcupid_profiles.rename(columns = {'religion': 'lives_in_san_francisco'}, inplace=True)"
   ]
  },
  {
   "cell_type": "code",
   "execution_count": null,
   "id": "d283f570",
   "metadata": {},
   "outputs": [],
   "source": [
    "okcupid_profiles['lives_in_san_francisco'].value_counts()"
   ]
  },
  {
   "cell_type": "markdown",
   "id": "b1cc30eb",
   "metadata": {},
   "source": [
    "Now the religious column is a boolean"
   ]
  },
  {
   "cell_type": "markdown",
   "id": "8ee110c9-cab5-4154-9903-85e601ddda60",
   "metadata": {},
   "source": [
    "## Filling the missing data"
   ]
  },
  {
   "cell_type": "markdown",
   "id": "51f29f39-6b52-4a4d-baf6-f4ba67363e7f",
   "metadata": {},
   "source": [
    "The columns containing missing data are the following:"
   ]
  },
  {
   "cell_type": "code",
   "execution_count": null,
   "id": "458dbf3c-ec1d-4691-9015-fb3936236f16",
   "metadata": {},
   "outputs": [],
   "source": [
    "print(okcupid_profiles.isna().sum())"
   ]
  },
  {
   "cell_type": "markdown",
   "id": "77875259-de46-4755-a990-e529723b522b",
   "metadata": {},
   "source": [
    "Comparing the missing data output with the dtype output, we can easily see how, except for height, all the missing data are categorical strings."
   ]
  },
  {
   "cell_type": "markdown",
   "id": "2c41db78-103a-4075-bbe9-3704117302b5",
   "metadata": {},
   "source": [
    "Since there are only three rows with missing values for height, instead of replacing the NaN with something like 0 or -1, or the average height, we think it's better to just drop them, since it is such a small number"
   ]
  },
  {
   "cell_type": "code",
   "execution_count": null,
   "id": "5be7b146-71d0-4ce9-a6fd-1f455bb3b74d",
   "metadata": {},
   "outputs": [],
   "source": [
    "okcupid_profiles = okcupid_profiles.dropna(how = 'any', subset = 'height') "
   ]
  },
  {
   "cell_type": "markdown",
   "id": "c55366f9-62d4-4ba0-bf7c-4b093818201e",
   "metadata": {},
   "source": [
    "For all the others attributes, we will just replace the missing values with the 'missing' string."
   ]
  },
  {
   "cell_type": "code",
   "execution_count": null,
   "id": "ef23a9be-a675-4b6a-977d-297c14404bb8",
   "metadata": {},
   "outputs": [],
   "source": [
    "okcupid_profiles = okcupid_profiles.fillna(value = 'missing')"
   ]
  },
  {
   "cell_type": "markdown",
   "id": "6d927cac-64c4-4fd7-a7e5-a7b4bdeb2bde",
   "metadata": {},
   "source": [
    "And now all the columns contain something"
   ]
  },
  {
   "cell_type": "code",
   "execution_count": null,
   "id": "62280f8e-e9cb-46b0-ad46-46ed11916dce",
   "metadata": {},
   "outputs": [],
   "source": [
    "print(okcupid_profiles.isna().sum())"
   ]
  },
  {
   "cell_type": "markdown",
   "id": "2ddd4d27-a424-4a88-ad72-7bd8d979f413",
   "metadata": {},
   "source": [
    "## Encoding the data"
   ]
  },
  {
   "cell_type": "code",
   "execution_count": null,
   "id": "34495192-fd7b-4933-9c7a-bbf6b9da279d",
   "metadata": {},
   "outputs": [],
   "source": [
    "enc = OrdinalEncoder()\n",
    "enc.fit(okcupid_profiles)"
   ]
  },
  {
   "cell_type": "code",
   "execution_count": null,
   "id": "65f55bab-c255-4efe-87f9-a60239d438cf",
   "metadata": {},
   "outputs": [],
   "source": [
    "encoded_data = enc.transform(okcupid_profiles)"
   ]
  },
  {
   "cell_type": "markdown",
   "id": "5bebb657-e028-454b-ba3d-304162f7b03c",
   "metadata": {},
   "source": [
    "Now we have a Numpy array with the encoded data, so no more objects, but only numbers."
   ]
  },
  {
   "cell_type": "code",
   "execution_count": null,
   "id": "5ee7f3d8-2be1-4e23-b159-28006469f9ea",
   "metadata": {},
   "outputs": [],
   "source": [
    "encoded_data.dtype"
   ]
  },
  {
   "cell_type": "markdown",
   "id": "e7614a2f-07ab-4355-bf61-6b3d7ae054d0",
   "metadata": {},
   "source": [
    "# Random Forest"
   ]
  },
  {
   "cell_type": "markdown",
   "id": "658a125c-205f-44dc-b307-017e1ee77943",
   "metadata": {},
   "source": [
    "## Education prediction model"
   ]
  },
  {
   "cell_type": "code",
   "execution_count": null,
   "id": "b2982d5a-75b7-400d-8fb0-4a7021cd6e2d",
   "metadata": {},
   "outputs": [],
   "source": [
    "# remember that now we have a Numpy array\n",
    "\n",
    "y = encoded_data[:,6] # This should pick the education column\n",
    "\n",
    "X = encoded_data[:, [1,2,3,4,5,7,8,15,16]] # Pick income and job\n",
    "# X = np.delete(encoded_data, 11, axis = 1) # This should remove the income colum\n",
    "\n",
    "# test_size = 0.3   means 70% training set | 30% test set\n",
    "X_train, X_test, y_train, y_test = train_test_split(X, \n",
    "                                                    y, \n",
    "                                                    test_size = 0.3, \n",
    "                                                    random_state = 42)"
   ]
  },
  {
   "cell_type": "code",
   "execution_count": null,
   "id": "987945c3-2308-433b-adeb-e2aa0c5ba2e0",
   "metadata": {},
   "outputs": [],
   "source": [
    "# n_estimators is the number of trees in the forest\n",
    "rfc = RandomForestClassifier(n_estimators = 50)\n",
    "rfc.fit(X_train, y_train)\n",
    "rfc_prediction = rfc.predict(X_test)"
   ]
  },
  {
   "cell_type": "code",
   "execution_count": null,
   "id": "9f1c6234-ad81-4abf-8656-7a208476cd69",
   "metadata": {
    "tags": []
   },
   "outputs": [],
   "source": [
    "print(\"Random Forest Classification report\")\n",
    "print(classification_report(y_test, rfc_prediction))\n",
    "print(\"Random Forest Confusion Matrix\")\n",
    "print(confusion_matrix(y_test, rfc_prediction))"
   ]
  },
  {
   "cell_type": "markdown",
   "id": "07a0d8e6-88a1-438a-8bd2-4c71066a6f2e",
   "metadata": {},
   "source": [
    "Let's now plot a proper confusion matrix"
   ]
  },
  {
   "cell_type": "code",
   "execution_count": null,
   "id": "fcf95da3-1503-47e3-bad3-9589f12b24cb",
   "metadata": {},
   "outputs": [],
   "source": [
    "# Get and reshape confusion matrix data\n",
    "matrix = confusion_matrix(y_test, rfc_prediction)\n",
    "\n",
    "matrix = matrix.astype('float') / matrix.sum(axis=1)[:, np.newaxis] # makes number into %\n",
    "#matrix = matrix.astype('float')\n",
    "\n",
    "# Build the plot\n",
    "plt.figure(figsize = (15, 10))\n",
    "sns.set(font_scale = 1.4)\n",
    "sns.heatmap(matrix, \n",
    "            annot = True, \n",
    "            annot_kws = {'size':5},\n",
    "            cmap = plt.cm.Blues, \n",
    "            linewidths = 0.2)\n",
    "\n",
    "# Add labels to the plot\n",
    "# class_names = np.array(okcupid_profiles[\"income\"].unique())\n",
    "# class_names = [-1, 80000, 20000, 40000, 30000, 50000, 60000, 1000000, 150000, 100000, 500000, 70000, 250000]\n",
    "class_names = []\n",
    "\n",
    "tick_marks = np.arange(len(class_names))\n",
    "tick_marks2 = tick_marks + 0.5\n",
    "\n",
    "plt.xticks(tick_marks, class_names, rotation=90)\n",
    "plt.yticks(tick_marks2, class_names, rotation=0)\n",
    "\n",
    "plt.xlabel('Predicted label')\n",
    "plt.ylabel('True label')\n",
    "\n",
    "plt.title('Confusion Matrix for Education')\n",
    "plt.show()"
   ]
  },
  {
   "cell_type": "code",
   "execution_count": null,
   "id": "82f7033f-ef5e-4f77-b9e5-1fa72152a5e8",
   "metadata": {},
   "outputs": [],
   "source": [
    "df['code'] = df['code'].replace(['1.0'],'red')"
   ]
  }
 ],
 "metadata": {
  "kernelspec": {
   "display_name": "Python 3 (ipykernel)",
   "language": "python",
   "name": "python3"
  },
  "language_info": {
   "codemirror_mode": {
    "name": "ipython",
    "version": 3
   },
   "file_extension": ".py",
   "mimetype": "text/x-python",
   "name": "python",
   "nbconvert_exporter": "python",
   "pygments_lexer": "ipython3",
   "version": "3.10.7"
  },
  "vscode": {
   "interpreter": {
    "hash": "36256a4fbe7866700fff6f16c1287744c2a9f89f9a869b0e3477ce7104b0a1a7"
   }
  }
 },
 "nbformat": 4,
 "nbformat_minor": 5
}
