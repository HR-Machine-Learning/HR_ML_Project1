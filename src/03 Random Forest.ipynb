{
 "cells": [
  {
   "cell_type": "markdown",
   "id": "ea55942a-50da-4d33-863e-fc5ad7bebd0b",
   "metadata": {},
   "source": [
    "TODO: this are the four labels we want to predict\n",
    "\n",
    "EDUCATION\n",
    "income\n",
    "job\n",
    "\n",
    "BODY TYPE\n",
    "diet\n",
    "sex\n",
    "drinks\n",
    "height\n",
    "\n",
    "LOCATION\n",
    "income\n",
    "job\n",
    "status\n",
    "offspring\n",
    "pets\n",
    "\n",
    "INCOME\n",
    "diet\n",
    "smokes\n",
    "drinks\n",
    "drugs"
   ]
  },
  {
   "cell_type": "code",
   "execution_count": 46,
   "id": "dc92f211-fb66-4dcf-ab52-f21c956ed8f0",
   "metadata": {},
   "outputs": [],
   "source": [
    "import pandas as pd\n",
    "import numpy as np\n",
    "from sklearn.ensemble import RandomForestClassifier\n",
    "from sklearn.model_selection import train_test_split\n",
    "from sklearn.metrics import classification_report\n",
    "from sklearn.metrics import confusion_matrix\n",
    "from sklearn.preprocessing import OrdinalEncoder"
   ]
  },
  {
   "cell_type": "markdown",
   "id": "7846a4c6-d313-4549-a250-b8ea5ebf14ac",
   "metadata": {},
   "source": [
    "# Preprocessing the data and training the model"
   ]
  },
  {
   "cell_type": "code",
   "execution_count": 47,
   "id": "78f4fd59-9f09-4213-b87c-cecd3ee46efb",
   "metadata": {},
   "outputs": [],
   "source": [
    "raw_dataset = pd.read_csv('../data/okcupid.csv') \n",
    "okcupid_profiles = raw_dataset.drop(columns=\"Unnamed: 0\") "
   ]
  },
  {
   "cell_type": "markdown",
   "id": "65d4c467-cc5c-4203-92d8-55d10a361a24",
   "metadata": {},
   "source": [
    "As we can see from the output below, almost every column contains object types, which we can not use to fit the Random Forest. \n",
    "We need to convert the objects into numbers, and we can do that using OrdinalEncoder from sklearn.\n",
    "We need to manage the missing data first tho"
   ]
  },
  {
   "cell_type": "code",
   "execution_count": 48,
   "id": "073298fb-c6a1-43a0-85e5-59d38733ed11",
   "metadata": {},
   "outputs": [
    {
     "data": {
      "text/plain": [
       "age              int64\n",
       "status          object\n",
       "sex             object\n",
       "orientation     object\n",
       "body_type       object\n",
       "diet            object\n",
       "drinks          object\n",
       "drugs           object\n",
       "education       object\n",
       "ethnicity       object\n",
       "height         float64\n",
       "income           int64\n",
       "job             object\n",
       "last_online     object\n",
       "location        object\n",
       "offspring       object\n",
       "pets            object\n",
       "religion        object\n",
       "sign            object\n",
       "smokes          object\n",
       "speaks          object\n",
       "dtype: object"
      ]
     },
     "execution_count": 48,
     "metadata": {},
     "output_type": "execute_result"
    }
   ],
   "source": [
    "okcupid_profiles.dtypes"
   ]
  },
  {
   "cell_type": "markdown",
   "id": "8ee110c9-cab5-4154-9903-85e601ddda60",
   "metadata": {},
   "source": [
    "## Filling the missing data"
   ]
  },
  {
   "cell_type": "markdown",
   "id": "51f29f39-6b52-4a4d-baf6-f4ba67363e7f",
   "metadata": {},
   "source": [
    "The columns containing missing data are the following:"
   ]
  },
  {
   "cell_type": "code",
   "execution_count": 49,
   "id": "458dbf3c-ec1d-4691-9015-fb3936236f16",
   "metadata": {},
   "outputs": [
    {
     "name": "stdout",
     "output_type": "stream",
     "text": [
      "age                0\n",
      "status             0\n",
      "sex                0\n",
      "orientation        0\n",
      "body_type       5296\n",
      "diet           24395\n",
      "drinks          2985\n",
      "drugs          14080\n",
      "education       6628\n",
      "ethnicity       5680\n",
      "height             3\n",
      "income             0\n",
      "job             8198\n",
      "last_online        0\n",
      "location           0\n",
      "offspring      35561\n",
      "pets           19921\n",
      "religion       20226\n",
      "sign           11056\n",
      "smokes          5512\n",
      "speaks            50\n",
      "dtype: int64\n"
     ]
    }
   ],
   "source": [
    "print(okcupid_profiles.isna().sum())"
   ]
  },
  {
   "cell_type": "markdown",
   "id": "77875259-de46-4755-a990-e529723b522b",
   "metadata": {},
   "source": [
    "Comparing the missing data output with the dtype output, we can easily see how, except for height, all the missing data are categorical strings."
   ]
  },
  {
   "cell_type": "markdown",
   "id": "2c41db78-103a-4075-bbe9-3704117302b5",
   "metadata": {},
   "source": [
    "Since there are only three rows with missing values for height, instead of replacing the NaN with something like 0 or -1, or the average height, we think it's better to just drop them, since it is such a small number"
   ]
  },
  {
   "cell_type": "code",
   "execution_count": 50,
   "id": "5be7b146-71d0-4ce9-a6fd-1f455bb3b74d",
   "metadata": {},
   "outputs": [],
   "source": [
    "okcupid_profiles = okcupid_profiles.dropna(how = 'any', subset = 'height') "
   ]
  },
  {
   "cell_type": "markdown",
   "id": "c55366f9-62d4-4ba0-bf7c-4b093818201e",
   "metadata": {},
   "source": [
    "For all the others attributes, we will just replace the missing values with the 'missing' string."
   ]
  },
  {
   "cell_type": "code",
   "execution_count": 51,
   "id": "ef23a9be-a675-4b6a-977d-297c14404bb8",
   "metadata": {},
   "outputs": [],
   "source": [
    "okcupid_profiles = okcupid_profiles.fillna(value = 'missing')"
   ]
  },
  {
   "cell_type": "markdown",
   "id": "6d927cac-64c4-4fd7-a7e5-a7b4bdeb2bde",
   "metadata": {},
   "source": [
    "And now all the columns contain something"
   ]
  },
  {
   "cell_type": "code",
   "execution_count": 52,
   "id": "62280f8e-e9cb-46b0-ad46-46ed11916dce",
   "metadata": {},
   "outputs": [
    {
     "name": "stdout",
     "output_type": "stream",
     "text": [
      "age            0\n",
      "status         0\n",
      "sex            0\n",
      "orientation    0\n",
      "body_type      0\n",
      "diet           0\n",
      "drinks         0\n",
      "drugs          0\n",
      "education      0\n",
      "ethnicity      0\n",
      "height         0\n",
      "income         0\n",
      "job            0\n",
      "last_online    0\n",
      "location       0\n",
      "offspring      0\n",
      "pets           0\n",
      "religion       0\n",
      "sign           0\n",
      "smokes         0\n",
      "speaks         0\n",
      "dtype: int64\n"
     ]
    }
   ],
   "source": [
    "print(okcupid_profiles.isna().sum())"
   ]
  },
  {
   "cell_type": "markdown",
   "id": "2ddd4d27-a424-4a88-ad72-7bd8d979f413",
   "metadata": {},
   "source": [
    "## Encoding the data"
   ]
  },
  {
   "cell_type": "code",
   "execution_count": 53,
   "id": "34495192-fd7b-4933-9c7a-bbf6b9da279d",
   "metadata": {},
   "outputs": [
    {
     "data": {
      "text/html": [
       "<style>#sk-container-id-4 {color: black;background-color: white;}#sk-container-id-4 pre{padding: 0;}#sk-container-id-4 div.sk-toggleable {background-color: white;}#sk-container-id-4 label.sk-toggleable__label {cursor: pointer;display: block;width: 100%;margin-bottom: 0;padding: 0.3em;box-sizing: border-box;text-align: center;}#sk-container-id-4 label.sk-toggleable__label-arrow:before {content: \"▸\";float: left;margin-right: 0.25em;color: #696969;}#sk-container-id-4 label.sk-toggleable__label-arrow:hover:before {color: black;}#sk-container-id-4 div.sk-estimator:hover label.sk-toggleable__label-arrow:before {color: black;}#sk-container-id-4 div.sk-toggleable__content {max-height: 0;max-width: 0;overflow: hidden;text-align: left;background-color: #f0f8ff;}#sk-container-id-4 div.sk-toggleable__content pre {margin: 0.2em;color: black;border-radius: 0.25em;background-color: #f0f8ff;}#sk-container-id-4 input.sk-toggleable__control:checked~div.sk-toggleable__content {max-height: 200px;max-width: 100%;overflow: auto;}#sk-container-id-4 input.sk-toggleable__control:checked~label.sk-toggleable__label-arrow:before {content: \"▾\";}#sk-container-id-4 div.sk-estimator input.sk-toggleable__control:checked~label.sk-toggleable__label {background-color: #d4ebff;}#sk-container-id-4 div.sk-label input.sk-toggleable__control:checked~label.sk-toggleable__label {background-color: #d4ebff;}#sk-container-id-4 input.sk-hidden--visually {border: 0;clip: rect(1px 1px 1px 1px);clip: rect(1px, 1px, 1px, 1px);height: 1px;margin: -1px;overflow: hidden;padding: 0;position: absolute;width: 1px;}#sk-container-id-4 div.sk-estimator {font-family: monospace;background-color: #f0f8ff;border: 1px dotted black;border-radius: 0.25em;box-sizing: border-box;margin-bottom: 0.5em;}#sk-container-id-4 div.sk-estimator:hover {background-color: #d4ebff;}#sk-container-id-4 div.sk-parallel-item::after {content: \"\";width: 100%;border-bottom: 1px solid gray;flex-grow: 1;}#sk-container-id-4 div.sk-label:hover label.sk-toggleable__label {background-color: #d4ebff;}#sk-container-id-4 div.sk-serial::before {content: \"\";position: absolute;border-left: 1px solid gray;box-sizing: border-box;top: 0;bottom: 0;left: 50%;z-index: 0;}#sk-container-id-4 div.sk-serial {display: flex;flex-direction: column;align-items: center;background-color: white;padding-right: 0.2em;padding-left: 0.2em;position: relative;}#sk-container-id-4 div.sk-item {position: relative;z-index: 1;}#sk-container-id-4 div.sk-parallel {display: flex;align-items: stretch;justify-content: center;background-color: white;position: relative;}#sk-container-id-4 div.sk-item::before, #sk-container-id-4 div.sk-parallel-item::before {content: \"\";position: absolute;border-left: 1px solid gray;box-sizing: border-box;top: 0;bottom: 0;left: 50%;z-index: -1;}#sk-container-id-4 div.sk-parallel-item {display: flex;flex-direction: column;z-index: 1;position: relative;background-color: white;}#sk-container-id-4 div.sk-parallel-item:first-child::after {align-self: flex-end;width: 50%;}#sk-container-id-4 div.sk-parallel-item:last-child::after {align-self: flex-start;width: 50%;}#sk-container-id-4 div.sk-parallel-item:only-child::after {width: 0;}#sk-container-id-4 div.sk-dashed-wrapped {border: 1px dashed gray;margin: 0 0.4em 0.5em 0.4em;box-sizing: border-box;padding-bottom: 0.4em;background-color: white;}#sk-container-id-4 div.sk-label label {font-family: monospace;font-weight: bold;display: inline-block;line-height: 1.2em;}#sk-container-id-4 div.sk-label-container {text-align: center;}#sk-container-id-4 div.sk-container {/* jupyter's `normalize.less` sets `[hidden] { display: none; }` but bootstrap.min.css set `[hidden] { display: none !important; }` so we also need the `!important` here to be able to override the default hidden behavior on the sphinx rendered scikit-learn.org. See: https://github.com/scikit-learn/scikit-learn/issues/21755 */display: inline-block !important;position: relative;}#sk-container-id-4 div.sk-text-repr-fallback {display: none;}</style><div id=\"sk-container-id-4\" class=\"sk-top-container\"><div class=\"sk-text-repr-fallback\"><pre>OrdinalEncoder()</pre><b>In a Jupyter environment, please rerun this cell to show the HTML representation or trust the notebook. <br />On GitHub, the HTML representation is unable to render, please try loading this page with nbviewer.org.</b></div><div class=\"sk-container\" hidden><div class=\"sk-item\"><div class=\"sk-estimator sk-toggleable\"><input class=\"sk-toggleable__control sk-hidden--visually\" id=\"sk-estimator-id-4\" type=\"checkbox\" checked><label for=\"sk-estimator-id-4\" class=\"sk-toggleable__label sk-toggleable__label-arrow\">OrdinalEncoder</label><div class=\"sk-toggleable__content\"><pre>OrdinalEncoder()</pre></div></div></div></div></div>"
      ],
      "text/plain": [
       "OrdinalEncoder()"
      ]
     },
     "execution_count": 53,
     "metadata": {},
     "output_type": "execute_result"
    }
   ],
   "source": [
    "enc = OrdinalEncoder()\n",
    "enc.fit(okcupid_profiles)"
   ]
  },
  {
   "cell_type": "code",
   "execution_count": 54,
   "id": "65f55bab-c255-4efe-87f9-a60239d438cf",
   "metadata": {},
   "outputs": [],
   "source": [
    "encoded_data = enc.transform(okcupid_profiles)"
   ]
  },
  {
   "cell_type": "markdown",
   "id": "5bebb657-e028-454b-ba3d-304162f7b03c",
   "metadata": {},
   "source": [
    "Now we have a Numpy array with the encoded data, so no more objects, but only numbers."
   ]
  },
  {
   "cell_type": "code",
   "execution_count": 55,
   "id": "5ee7f3d8-2be1-4e23-b159-28006469f9ea",
   "metadata": {},
   "outputs": [
    {
     "data": {
      "text/plain": [
       "dtype('float64')"
      ]
     },
     "execution_count": 55,
     "metadata": {},
     "output_type": "execute_result"
    }
   ],
   "source": [
    "encoded_data.dtype"
   ]
  },
  {
   "cell_type": "markdown",
   "id": "e7614a2f-07ab-4355-bf61-6b3d7ae054d0",
   "metadata": {},
   "source": [
    "# Random Forest"
   ]
  },
  {
   "cell_type": "markdown",
   "id": "658a125c-205f-44dc-b307-017e1ee77943",
   "metadata": {},
   "source": [
    "## Income prediction model"
   ]
  },
  {
   "cell_type": "code",
   "execution_count": 56,
   "id": "b2982d5a-75b7-400d-8fb0-4a7021cd6e2d",
   "metadata": {},
   "outputs": [],
   "source": [
    "# remember that now we have a Numpy array\n",
    "\n",
    "y = encoded_data[:,11] # This should pick the income column\n",
    "X = np.delete(encoded_data, 11, axis = 1) # This should remove the income colum\n",
    "\n",
    "# test_size = 0.3   means 70% training set | 30% test set\n",
    "X_train, X_test, y_train, y_test = train_test_split(X, \n",
    "                                                    y, \n",
    "                                                    test_size = 0.3, \n",
    "                                                    random_state = 42)"
   ]
  },
  {
   "cell_type": "code",
   "execution_count": 57,
   "id": "987945c3-2308-433b-adeb-e2aa0c5ba2e0",
   "metadata": {},
   "outputs": [],
   "source": [
    "# n_estimators is the number of trees in the forest\n",
    "rfc = RandomForestClassifier(n_estimators = 50)\n",
    "rfc.fit(X_train, y_train)\n",
    "rfc_prediction = rfc.predict(X_test)"
   ]
  },
  {
   "cell_type": "code",
   "execution_count": 58,
   "id": "9f1c6234-ad81-4abf-8656-7a208476cd69",
   "metadata": {},
   "outputs": [
    {
     "name": "stdout",
     "output_type": "stream",
     "text": [
      "Random Forest Classification report\n",
      "              precision    recall  f1-score   support\n",
      "\n",
      "         0.0       0.81      1.00      0.89     14491\n",
      "         1.0       0.30      0.01      0.02       904\n",
      "         2.0       0.00      0.00      0.00       332\n",
      "         3.0       0.00      0.00      0.00       313\n",
      "         4.0       0.00      0.00      0.00       299\n",
      "         5.0       0.00      0.00      0.00       221\n",
      "         6.0       0.00      0.00      0.00       213\n",
      "         7.0       0.00      0.00      0.00       324\n",
      "         8.0       0.00      0.00      0.00       469\n",
      "         9.0       0.00      0.00      0.00       199\n",
      "        10.0       0.00      0.00      0.00        36\n",
      "        11.0       0.00      0.00      0.00        15\n",
      "        12.0       0.00      0.00      0.00       167\n",
      "\n",
      "    accuracy                           0.81     17983\n",
      "   macro avg       0.09      0.08      0.07     17983\n",
      "weighted avg       0.66      0.81      0.72     17983\n",
      "\n",
      "Random Forest Confusion Matrix\n",
      "[[14477    14     0     0     0     0     0     0     0     0     0     0\n",
      "      0]\n",
      " [  897     7     0     0     0     0     0     0     0     0     0     0\n",
      "      0]\n",
      " [  331     1     0     0     0     0     0     0     0     0     0     0\n",
      "      0]\n",
      " [  313     0     0     0     0     0     0     0     0     0     0     0\n",
      "      0]\n",
      " [  299     0     0     0     0     0     0     0     0     0     0     0\n",
      "      0]\n",
      " [  221     0     0     0     0     0     0     0     0     0     0     0\n",
      "      0]\n",
      " [  213     0     0     0     0     0     0     0     0     0     0     0\n",
      "      0]\n",
      " [  323     1     0     0     0     0     0     0     0     0     0     0\n",
      "      0]\n",
      " [  469     0     0     0     0     0     0     0     0     0     0     0\n",
      "      0]\n",
      " [  199     0     0     0     0     0     0     0     0     0     0     0\n",
      "      0]\n",
      " [   36     0     0     0     0     0     0     0     0     0     0     0\n",
      "      0]\n",
      " [   15     0     0     0     0     0     0     0     0     0     0     0\n",
      "      0]\n",
      " [  167     0     0     0     0     0     0     0     0     0     0     0\n",
      "      0]]\n"
     ]
    },
    {
     "name": "stderr",
     "output_type": "stream",
     "text": [
      "C:\\Users\\meloncrush\\Documents\\python_projects\\HR_ML_Project1\\proj1VENV\\lib\\site-packages\\sklearn\\metrics\\_classification.py:1334: UndefinedMetricWarning: Precision and F-score are ill-defined and being set to 0.0 in labels with no predicted samples. Use `zero_division` parameter to control this behavior.\n",
      "  _warn_prf(average, modifier, msg_start, len(result))\n",
      "C:\\Users\\meloncrush\\Documents\\python_projects\\HR_ML_Project1\\proj1VENV\\lib\\site-packages\\sklearn\\metrics\\_classification.py:1334: UndefinedMetricWarning: Precision and F-score are ill-defined and being set to 0.0 in labels with no predicted samples. Use `zero_division` parameter to control this behavior.\n",
      "  _warn_prf(average, modifier, msg_start, len(result))\n",
      "C:\\Users\\meloncrush\\Documents\\python_projects\\HR_ML_Project1\\proj1VENV\\lib\\site-packages\\sklearn\\metrics\\_classification.py:1334: UndefinedMetricWarning: Precision and F-score are ill-defined and being set to 0.0 in labels with no predicted samples. Use `zero_division` parameter to control this behavior.\n",
      "  _warn_prf(average, modifier, msg_start, len(result))\n"
     ]
    }
   ],
   "source": [
    "print(\"Random Forest Classification report\")\n",
    "print(classification_report(y_test, rfc_prediction))\n",
    "print(\"Random Forest Confusion Matrix\")\n",
    "print(confusion_matrix(y_test, rfc_prediction))"
   ]
  },
  {
   "cell_type": "markdown",
   "id": "07a0d8e6-88a1-438a-8bd2-4c71066a6f2e",
   "metadata": {},
   "source": [
    "We can also get back to having string values using the inverse_transform() function"
   ]
  },
  {
   "cell_type": "code",
   "execution_count": 59,
   "id": "2e83fdb0-5334-4045-a155-4e6032f33393",
   "metadata": {},
   "outputs": [],
   "source": [
    "nparray_inverted = enc.inverse_transform(df_transformed)"
   ]
  },
  {
   "cell_type": "code",
   "execution_count": 60,
   "id": "f5c60994-c570-44ba-8c3b-b744b5c026e1",
   "metadata": {},
   "outputs": [],
   "source": [
    "okcupid_profiles = pd.DataFrame(nparray_inverted, columns = okcupid_profiles.columns)"
   ]
  },
  {
   "cell_type": "code",
   "execution_count": 61,
   "id": "378977dd-1696-4cc2-b9f1-ecb0e179be1d",
   "metadata": {},
   "outputs": [
    {
     "data": {
      "text/html": [
       "<div>\n",
       "<style scoped>\n",
       "    .dataframe tbody tr th:only-of-type {\n",
       "        vertical-align: middle;\n",
       "    }\n",
       "\n",
       "    .dataframe tbody tr th {\n",
       "        vertical-align: top;\n",
       "    }\n",
       "\n",
       "    .dataframe thead th {\n",
       "        text-align: right;\n",
       "    }\n",
       "</style>\n",
       "<table border=\"1\" class=\"dataframe\">\n",
       "  <thead>\n",
       "    <tr style=\"text-align: right;\">\n",
       "      <th></th>\n",
       "      <th>age</th>\n",
       "      <th>status</th>\n",
       "      <th>sex</th>\n",
       "      <th>orientation</th>\n",
       "      <th>body_type</th>\n",
       "      <th>diet</th>\n",
       "      <th>drinks</th>\n",
       "      <th>drugs</th>\n",
       "      <th>education</th>\n",
       "      <th>ethnicity</th>\n",
       "      <th>...</th>\n",
       "      <th>income</th>\n",
       "      <th>job</th>\n",
       "      <th>last_online</th>\n",
       "      <th>location</th>\n",
       "      <th>offspring</th>\n",
       "      <th>pets</th>\n",
       "      <th>religion</th>\n",
       "      <th>sign</th>\n",
       "      <th>smokes</th>\n",
       "      <th>speaks</th>\n",
       "    </tr>\n",
       "  </thead>\n",
       "  <tbody>\n",
       "    <tr>\n",
       "      <th>0</th>\n",
       "      <td>22</td>\n",
       "      <td>single</td>\n",
       "      <td>m</td>\n",
       "      <td>straight</td>\n",
       "      <td>a little extra</td>\n",
       "      <td>strictly anything</td>\n",
       "      <td>socially</td>\n",
       "      <td>never</td>\n",
       "      <td>working on college/university</td>\n",
       "      <td>asian, white</td>\n",
       "      <td>...</td>\n",
       "      <td>-1</td>\n",
       "      <td>transportation</td>\n",
       "      <td>2012-06-28-20-30</td>\n",
       "      <td>south san francisco, california</td>\n",
       "      <td>doesn't have kids, but might want them</td>\n",
       "      <td>likes dogs and likes cats</td>\n",
       "      <td>agnosticism and very serious about it</td>\n",
       "      <td>gemini</td>\n",
       "      <td>sometimes</td>\n",
       "      <td>english</td>\n",
       "    </tr>\n",
       "    <tr>\n",
       "      <th>1</th>\n",
       "      <td>35</td>\n",
       "      <td>single</td>\n",
       "      <td>m</td>\n",
       "      <td>straight</td>\n",
       "      <td>average</td>\n",
       "      <td>mostly other</td>\n",
       "      <td>often</td>\n",
       "      <td>sometimes</td>\n",
       "      <td>working on space camp</td>\n",
       "      <td>white</td>\n",
       "      <td>...</td>\n",
       "      <td>80000</td>\n",
       "      <td>hospitality / travel</td>\n",
       "      <td>2012-06-29-21-41</td>\n",
       "      <td>oakland, california</td>\n",
       "      <td>doesn't have kids, but might want them</td>\n",
       "      <td>likes dogs and likes cats</td>\n",
       "      <td>agnosticism but not too serious about it</td>\n",
       "      <td>cancer</td>\n",
       "      <td>no</td>\n",
       "      <td>english (fluently), spanish (poorly), french (...</td>\n",
       "    </tr>\n",
       "    <tr>\n",
       "      <th>2</th>\n",
       "      <td>38</td>\n",
       "      <td>available</td>\n",
       "      <td>m</td>\n",
       "      <td>straight</td>\n",
       "      <td>thin</td>\n",
       "      <td>anything</td>\n",
       "      <td>socially</td>\n",
       "      <td>missing</td>\n",
       "      <td>graduated from masters program</td>\n",
       "      <td>missing</td>\n",
       "      <td>...</td>\n",
       "      <td>-1</td>\n",
       "      <td>missing</td>\n",
       "      <td>2012-06-27-09-10</td>\n",
       "      <td>san francisco, california</td>\n",
       "      <td>missing</td>\n",
       "      <td>has cats</td>\n",
       "      <td>missing</td>\n",
       "      <td>pisces but it doesn&amp;rsquo;t matter</td>\n",
       "      <td>no</td>\n",
       "      <td>english, french, c++</td>\n",
       "    </tr>\n",
       "    <tr>\n",
       "      <th>3</th>\n",
       "      <td>23</td>\n",
       "      <td>single</td>\n",
       "      <td>m</td>\n",
       "      <td>straight</td>\n",
       "      <td>thin</td>\n",
       "      <td>vegetarian</td>\n",
       "      <td>socially</td>\n",
       "      <td>missing</td>\n",
       "      <td>working on college/university</td>\n",
       "      <td>white</td>\n",
       "      <td>...</td>\n",
       "      <td>20000</td>\n",
       "      <td>student</td>\n",
       "      <td>2012-06-28-14-22</td>\n",
       "      <td>berkeley, california</td>\n",
       "      <td>doesn't want kids</td>\n",
       "      <td>likes cats</td>\n",
       "      <td>missing</td>\n",
       "      <td>pisces</td>\n",
       "      <td>no</td>\n",
       "      <td>english, german (poorly)</td>\n",
       "    </tr>\n",
       "    <tr>\n",
       "      <th>4</th>\n",
       "      <td>29</td>\n",
       "      <td>single</td>\n",
       "      <td>m</td>\n",
       "      <td>straight</td>\n",
       "      <td>athletic</td>\n",
       "      <td>missing</td>\n",
       "      <td>socially</td>\n",
       "      <td>never</td>\n",
       "      <td>graduated from college/university</td>\n",
       "      <td>asian, black, other</td>\n",
       "      <td>...</td>\n",
       "      <td>-1</td>\n",
       "      <td>artistic / musical / writer</td>\n",
       "      <td>2012-06-27-21-26</td>\n",
       "      <td>san francisco, california</td>\n",
       "      <td>missing</td>\n",
       "      <td>likes dogs and likes cats</td>\n",
       "      <td>missing</td>\n",
       "      <td>aquarius</td>\n",
       "      <td>no</td>\n",
       "      <td>english</td>\n",
       "    </tr>\n",
       "  </tbody>\n",
       "</table>\n",
       "<p>5 rows × 21 columns</p>\n",
       "</div>"
      ],
      "text/plain": [
       "  age     status sex orientation       body_type               diet    drinks  \\\n",
       "0  22     single   m    straight  a little extra  strictly anything  socially   \n",
       "1  35     single   m    straight         average       mostly other     often   \n",
       "2  38  available   m    straight            thin           anything  socially   \n",
       "3  23     single   m    straight            thin         vegetarian  socially   \n",
       "4  29     single   m    straight        athletic            missing  socially   \n",
       "\n",
       "       drugs                          education            ethnicity  ...  \\\n",
       "0      never      working on college/university         asian, white  ...   \n",
       "1  sometimes              working on space camp                white  ...   \n",
       "2    missing     graduated from masters program              missing  ...   \n",
       "3    missing      working on college/university                white  ...   \n",
       "4      never  graduated from college/university  asian, black, other  ...   \n",
       "\n",
       "  income                          job       last_online  \\\n",
       "0     -1               transportation  2012-06-28-20-30   \n",
       "1  80000         hospitality / travel  2012-06-29-21-41   \n",
       "2     -1                      missing  2012-06-27-09-10   \n",
       "3  20000                      student  2012-06-28-14-22   \n",
       "4     -1  artistic / musical / writer  2012-06-27-21-26   \n",
       "\n",
       "                          location                               offspring  \\\n",
       "0  south san francisco, california  doesn't have kids, but might want them   \n",
       "1              oakland, california  doesn't have kids, but might want them   \n",
       "2        san francisco, california                                 missing   \n",
       "3             berkeley, california                       doesn't want kids   \n",
       "4        san francisco, california                                 missing   \n",
       "\n",
       "                        pets                                  religion  \\\n",
       "0  likes dogs and likes cats     agnosticism and very serious about it   \n",
       "1  likes dogs and likes cats  agnosticism but not too serious about it   \n",
       "2                   has cats                                   missing   \n",
       "3                 likes cats                                   missing   \n",
       "4  likes dogs and likes cats                                   missing   \n",
       "\n",
       "                                 sign     smokes  \\\n",
       "0                              gemini  sometimes   \n",
       "1                              cancer         no   \n",
       "2  pisces but it doesn&rsquo;t matter         no   \n",
       "3                              pisces         no   \n",
       "4                            aquarius         no   \n",
       "\n",
       "                                              speaks  \n",
       "0                                            english  \n",
       "1  english (fluently), spanish (poorly), french (...  \n",
       "2                               english, french, c++  \n",
       "3                           english, german (poorly)  \n",
       "4                                            english  \n",
       "\n",
       "[5 rows x 21 columns]"
      ]
     },
     "execution_count": 61,
     "metadata": {},
     "output_type": "execute_result"
    }
   ],
   "source": [
    "okcupid_profiles.head()"
   ]
  },
  {
   "cell_type": "code",
   "execution_count": null,
   "id": "d1927108-3a20-4fa1-88da-781684474f60",
   "metadata": {},
   "outputs": [],
   "source": []
  }
 ],
 "metadata": {
  "kernelspec": {
   "display_name": "Python 3 (ipykernel)",
   "language": "python",
   "name": "python3"
  },
  "language_info": {
   "codemirror_mode": {
    "name": "ipython",
    "version": 3
   },
   "file_extension": ".py",
   "mimetype": "text/x-python",
   "name": "python",
   "nbconvert_exporter": "python",
   "pygments_lexer": "ipython3",
   "version": "3.10.7"
  }
 },
 "nbformat": 4,
 "nbformat_minor": 5
}
