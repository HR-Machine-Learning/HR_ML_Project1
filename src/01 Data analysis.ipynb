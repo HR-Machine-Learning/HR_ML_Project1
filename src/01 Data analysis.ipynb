{
 "cells": [
  {
   "cell_type": "code",
   "execution_count": 2,
   "id": "fe13c888-2d05-4dd6-a2ac-f414c7836fd7",
   "metadata": {},
   "outputs": [],
   "source": [
    "import pandas as pd\n",
    "import numpy as np\n",
    "import seaborn as sns\n",
    "import matplotlib.pyplot as plt # TODO: Why inline? \n",
    "%matplotlib inline "
   ]
  },
  {
   "cell_type": "code",
   "execution_count": 14,
   "id": "8db4f11e-22d0-4708-bcbf-88e2dc4a644a",
   "metadata": {},
   "outputs": [],
   "source": [
    "raw_dataset = pd.read_csv('../data/okcupid.csv') # The original dataset also had essays, we already deleted them\n",
    "\n",
    "okcupid_profiles = raw_dataset.drop(columns=\"Unnamed: 0\") # This column has been introduced by mistake when we removed the essays "
   ]
  },
  {
   "cell_type": "markdown",
   "id": "30201f85-2363-42d0-9617-fd617f7a51e2",
   "metadata": {},
   "source": [
    "## Basic Data-checking"
   ]
  },
  {
   "cell_type": "code",
   "execution_count": 30,
   "id": "853061a3-312f-4a3e-b8b6-81eb1582e536",
   "metadata": {},
   "outputs": [
    {
     "name": "stdout",
     "output_type": "stream",
     "text": [
      "The shape of the dataset is:  (59946, 21)\n",
      "Total rows:  59946  Total columns:  21 \n",
      "\n",
      "<class 'pandas.core.frame.DataFrame'>\n",
      "RangeIndex: 59946 entries, 0 to 59945\n",
      "Data columns (total 21 columns):\n",
      " #   Column       Non-Null Count  Dtype  \n",
      "---  ------       --------------  -----  \n",
      " 0   age          59946 non-null  int64  \n",
      " 1   status       59946 non-null  object \n",
      " 2   sex          59946 non-null  object \n",
      " 3   orientation  59946 non-null  object \n",
      " 4   body_type    54650 non-null  object \n",
      " 5   diet         35551 non-null  object \n",
      " 6   drinks       56961 non-null  object \n",
      " 7   drugs        45866 non-null  object \n",
      " 8   education    53318 non-null  object \n",
      " 9   ethnicity    54266 non-null  object \n",
      " 10  height       59943 non-null  float64\n",
      " 11  income       59946 non-null  int64  \n",
      " 12  job          51748 non-null  object \n",
      " 13  last_online  59946 non-null  object \n",
      " 14  location     59946 non-null  object \n",
      " 15  offspring    24385 non-null  object \n",
      " 16  pets         40025 non-null  object \n",
      " 17  religion     39720 non-null  object \n",
      " 18  sign         48890 non-null  object \n",
      " 19  smokes       54434 non-null  object \n",
      " 20  speaks       59896 non-null  object \n",
      "dtypes: float64(1), int64(2), object(18)\n",
      "memory usage: 9.6+ MB\n",
      "None \n",
      "\n",
      "\n",
      "                age        height          income\n",
      "count  59946.000000  59943.000000    59946.000000\n",
      "mean      32.340290     68.295281    20033.222534\n",
      "std        9.452779      3.994803    97346.192104\n",
      "min       18.000000      1.000000       -1.000000\n",
      "25%       26.000000     66.000000       -1.000000\n",
      "50%       30.000000     68.000000       -1.000000\n",
      "75%       37.000000     71.000000       -1.000000\n",
      "max      110.000000     95.000000  1000000.000000\n"
     ]
    }
   ],
   "source": [
    "print(\"The shape of the dataset is: \", okcupid_profiles.shape)\n",
    "\n",
    "total_nrows = okcupid_profiles.shape[0]\n",
    "total_ncols = okcupid_profiles.shape[1]\n",
    "print('Total rows: ', total_nrows, ' Total columns: ', total_ncols, '\\n')\n",
    "\n",
    "print(okcupid_profiles.info(), \"\\n\\n\")\n",
    "\n",
    "print(okcupid_profiles.describe())"
   ]
  },
  {
   "cell_type": "markdown",
   "id": "9e8d1791-cae5-4e5b-98fc-d66212033d76",
   "metadata": {},
   "source": [
    "## Missing data"
   ]
  },
  {
   "cell_type": "code",
   "execution_count": 34,
   "id": "8a40bc9f-bbea-4861-9c4d-efb5eade018d",
   "metadata": {},
   "outputs": [
    {
     "data": {
      "text/html": [
       "<div>\n",
       "<style scoped>\n",
       "    .dataframe tbody tr th:only-of-type {\n",
       "        vertical-align: middle;\n",
       "    }\n",
       "\n",
       "    .dataframe tbody tr th {\n",
       "        vertical-align: top;\n",
       "    }\n",
       "\n",
       "    .dataframe thead th {\n",
       "        text-align: right;\n",
       "    }\n",
       "</style>\n",
       "<table border=\"1\" class=\"dataframe\">\n",
       "  <thead>\n",
       "    <tr style=\"text-align: right;\">\n",
       "      <th></th>\n",
       "      <th>Count</th>\n",
       "      <th>Percent</th>\n",
       "    </tr>\n",
       "  </thead>\n",
       "  <tbody>\n",
       "    <tr>\n",
       "      <th>offspring</th>\n",
       "      <td>35561</td>\n",
       "      <td>59.3%</td>\n",
       "    </tr>\n",
       "    <tr>\n",
       "      <th>diet</th>\n",
       "      <td>24395</td>\n",
       "      <td>40.7%</td>\n",
       "    </tr>\n",
       "    <tr>\n",
       "      <th>religion</th>\n",
       "      <td>20226</td>\n",
       "      <td>33.7%</td>\n",
       "    </tr>\n",
       "    <tr>\n",
       "      <th>pets</th>\n",
       "      <td>19921</td>\n",
       "      <td>33.2%</td>\n",
       "    </tr>\n",
       "    <tr>\n",
       "      <th>drugs</th>\n",
       "      <td>14080</td>\n",
       "      <td>23.5%</td>\n",
       "    </tr>\n",
       "    <tr>\n",
       "      <th>sign</th>\n",
       "      <td>11056</td>\n",
       "      <td>18.4%</td>\n",
       "    </tr>\n",
       "    <tr>\n",
       "      <th>job</th>\n",
       "      <td>8198</td>\n",
       "      <td>13.7%</td>\n",
       "    </tr>\n",
       "    <tr>\n",
       "      <th>education</th>\n",
       "      <td>6628</td>\n",
       "      <td>11.1%</td>\n",
       "    </tr>\n",
       "    <tr>\n",
       "      <th>ethnicity</th>\n",
       "      <td>5680</td>\n",
       "      <td>9.5%</td>\n",
       "    </tr>\n",
       "    <tr>\n",
       "      <th>smokes</th>\n",
       "      <td>5512</td>\n",
       "      <td>9.2%</td>\n",
       "    </tr>\n",
       "    <tr>\n",
       "      <th>body_type</th>\n",
       "      <td>5296</td>\n",
       "      <td>8.8%</td>\n",
       "    </tr>\n",
       "  </tbody>\n",
       "</table>\n",
       "</div>"
      ],
      "text/plain": [
       "           Count  Percent\n",
       "offspring  35561    59.3%\n",
       "diet       24395    40.7%\n",
       "religion   20226    33.7%\n",
       "pets       19921    33.2%\n",
       "drugs      14080    23.5%\n",
       "sign       11056    18.4%\n",
       "job         8198    13.7%\n",
       "education   6628    11.1%\n",
       "ethnicity   5680     9.5%\n",
       "smokes      5512     9.2%\n",
       "body_type   5296     8.8%"
      ]
     },
     "execution_count": 34,
     "metadata": {},
     "output_type": "execute_result"
    }
   ],
   "source": [
    "total_count = okcupid_profiles.isna().count()\n",
    "count_na = okcupid_profiles.isna().sum().sort_values(ascending = False)\n",
    "pct_na =(okcupid_profiles.isna().sum()/total_count).sort_values(ascending = False)\n",
    "\n",
    "pd.options.display.float_format = '{:.1%}'.format\n",
    "\n",
    "missing_data = pd.concat([count_na, pct_na], axis=1, keys=['Count', 'Percent'])\n",
    "# Only show columns with more than 5% missing data\n",
    "missing_data[missing_data['Percent']>=0.05].head(20)"
   ]
  },
  {
   "cell_type": "code",
   "execution_count": 74,
   "id": "dca4b0cc-e958-486d-9bf1-d6627a10cf5e",
   "metadata": {},
   "outputs": [
    {
     "data": {
      "text/plain": [
       "Text(0.5, 1.0, 'body_type count')"
      ]
     },
     "execution_count": 74,
     "metadata": {},
     "output_type": "execute_result"
    },
    {
     "data": {
      "image/png": "[encoded data removed]",
      "text/plain": [
       "<Figure size 1200x500 with 1 Axes>"
      ]
     },
     "metadata": {},
     "output_type": "display_data"
    }
   ],
   "source": [
    "plt.figure(figsize=(12, 5))\n",
    "\n",
    "okcupid_profiles.isna().sum().plot(kind=\"bar\")\n",
    "\n",
    "plt.xticks(rotation=50) # rotates the labels in the x axis\n",
    "\n",
    "plt.title('body_type count')"
   ]
  },
  {
   "cell_type": "markdown",
   "id": "7718a9eb-3af2-452d-8754-8fe657083d2a",
   "metadata": {},
   "source": [
    "## Add title"
   ]
  },
  {
   "cell_type": "code",
   "execution_count": 47,
   "id": "120baa8b-f69d-4209-aca9-6331b3ab244a",
   "metadata": {},
   "outputs": [
    {
     "data": {
      "text/html": [
       "<div>\n",
       "<style scoped>\n",
       "    .dataframe tbody tr th:only-of-type {\n",
       "        vertical-align: middle;\n",
       "    }\n",
       "\n",
       "    .dataframe tbody tr th {\n",
       "        vertical-align: top;\n",
       "    }\n",
       "\n",
       "    .dataframe thead th {\n",
       "        text-align: right;\n",
       "    }\n",
       "</style>\n",
       "<table border=\"1\" class=\"dataframe\">\n",
       "  <thead>\n",
       "    <tr style=\"text-align: right;\">\n",
       "      <th></th>\n",
       "      <th>age</th>\n",
       "      <th>status</th>\n",
       "      <th>orientation</th>\n",
       "      <th>body_type</th>\n",
       "      <th>diet</th>\n",
       "      <th>drinks</th>\n",
       "      <th>drugs</th>\n",
       "      <th>education</th>\n",
       "      <th>ethnicity</th>\n",
       "      <th>height</th>\n",
       "      <th>income</th>\n",
       "      <th>job</th>\n",
       "      <th>last_online</th>\n",
       "      <th>location</th>\n",
       "      <th>offspring</th>\n",
       "      <th>pets</th>\n",
       "      <th>religion</th>\n",
       "      <th>sign</th>\n",
       "      <th>smokes</th>\n",
       "      <th>speaks</th>\n",
       "    </tr>\n",
       "    <tr>\n",
       "      <th>sex</th>\n",
       "      <th></th>\n",
       "      <th></th>\n",
       "      <th></th>\n",
       "      <th></th>\n",
       "      <th></th>\n",
       "      <th></th>\n",
       "      <th></th>\n",
       "      <th></th>\n",
       "      <th></th>\n",
       "      <th></th>\n",
       "      <th></th>\n",
       "      <th></th>\n",
       "      <th></th>\n",
       "      <th></th>\n",
       "      <th></th>\n",
       "      <th></th>\n",
       "      <th></th>\n",
       "      <th></th>\n",
       "      <th></th>\n",
       "      <th></th>\n",
       "    </tr>\n",
       "  </thead>\n",
       "  <tbody>\n",
       "    <tr>\n",
       "      <th>f</th>\n",
       "      <td>24117</td>\n",
       "      <td>24117</td>\n",
       "      <td>24117</td>\n",
       "      <td>21414</td>\n",
       "      <td>14204</td>\n",
       "      <td>23005</td>\n",
       "      <td>18652</td>\n",
       "      <td>21730</td>\n",
       "      <td>21702</td>\n",
       "      <td>24116</td>\n",
       "      <td>24117</td>\n",
       "      <td>20461</td>\n",
       "      <td>24117</td>\n",
       "      <td>24117</td>\n",
       "      <td>10892</td>\n",
       "      <td>17219</td>\n",
       "      <td>15871</td>\n",
       "      <td>20394</td>\n",
       "      <td>22065</td>\n",
       "      <td>24102</td>\n",
       "    </tr>\n",
       "    <tr>\n",
       "      <th>m</th>\n",
       "      <td>35829</td>\n",
       "      <td>35829</td>\n",
       "      <td>35829</td>\n",
       "      <td>33236</td>\n",
       "      <td>21347</td>\n",
       "      <td>33956</td>\n",
       "      <td>27214</td>\n",
       "      <td>31588</td>\n",
       "      <td>32564</td>\n",
       "      <td>35827</td>\n",
       "      <td>35829</td>\n",
       "      <td>31287</td>\n",
       "      <td>35829</td>\n",
       "      <td>35829</td>\n",
       "      <td>13493</td>\n",
       "      <td>22806</td>\n",
       "      <td>23849</td>\n",
       "      <td>28496</td>\n",
       "      <td>32369</td>\n",
       "      <td>35794</td>\n",
       "    </tr>\n",
       "  </tbody>\n",
       "</table>\n",
       "</div>"
      ],
      "text/plain": [
       "       age  status  orientation  body_type   diet  drinks  drugs  education  \\\n",
       "sex                                                                           \n",
       "f    24117   24117        24117      21414  14204   23005  18652      21730   \n",
       "m    35829   35829        35829      33236  21347   33956  27214      31588   \n",
       "\n",
       "     ethnicity  height  income    job  last_online  location  offspring  \\\n",
       "sex                                                                       \n",
       "f        21702   24116   24117  20461        24117     24117      10892   \n",
       "m        32564   35827   35829  31287        35829     35829      13493   \n",
       "\n",
       "      pets  religion   sign  smokes  speaks  \n",
       "sex                                          \n",
       "f    17219     15871  20394   22065   24102  \n",
       "m    22806     23849  28496   32369   35794  "
      ]
     },
     "execution_count": 47,
     "metadata": {},
     "output_type": "execute_result"
    }
   ],
   "source": [
    "okcupid_profiles.groupby('sex').count()"
   ]
  },
  {
   "cell_type": "code",
   "execution_count": 51,
   "id": "99636c82-5370-4ce1-8557-0b4c8e6205f7",
   "metadata": {},
   "outputs": [
    {
     "name": "stdout",
     "output_type": "stream",
     "text": [
      "Number of users divided by sex: \n",
      "m    35829\n",
      "f    24117\n",
      "Name: sex, dtype: int64 \n",
      "\n",
      "Number of users divided by ethnicity: \n",
      "white               32831\n",
      "asian                6134\n",
      "hispanic / latin     2823\n",
      "black                2008\n",
      "other                1706\n",
      "Name: ethnicity, dtype: int64\n"
     ]
    }
   ],
   "source": [
    "print(\"Number of users divided by sex: \")\n",
    "print(okcupid_profiles['sex'].value_counts(), \"\\n\")\n",
    "\n",
    "print(\"Number of users divided by ethnicity: \")\n",
    "print(okcupid_profiles['ethnicity'].value_counts().sort_values(ascending=False)[:5])"
   ]
  },
  {
   "cell_type": "code",
   "execution_count": 58,
   "id": "59a92a75-9797-462a-b638-63b64f602a86",
   "metadata": {},
   "outputs": [
    {
     "name": "stdout",
     "output_type": "stream",
     "text": [
      "body_type:\n",
      "['fit', nan, 'rather not say', 'a little extra', 'full figured', 'curvy', 'skinny', 'used up', 'average', 'thin', 'jacked', 'overweight', 'athletic']\n",
      "\n",
      "diet:\n",
      "['halal', 'strictly vegan', 'strictly anything', 'mostly vegetarian', 'anything', 'mostly kosher', 'mostly other', 'mostly halal', 'mostly anything', 'other', 'strictly halal', nan, 'strictly other', 'vegetarian', 'mostly vegan', 'vegan', 'strictly vegetarian', 'strictly kosher', 'kosher']\n",
      "\n",
      "Religion:\n",
      "['islam', 'hinduism but not too serious about it', 'hinduism and somewhat serious about it', 'other and somewhat serious about it', 'judaism but not too serious about it', 'buddhism but not too serious about it', 'catholicism', 'agnosticism but not too serious about it', 'judaism and very serious about it', 'buddhism', 'catholicism and very serious about it', 'christianity', 'islam but not too serious about it', 'agnosticism and somewhat serious about it', 'christianity and very serious about it', 'christianity but not too serious about it', 'atheism but not too serious about it', 'christianity and laughing about it', 'islam and very serious about it', 'islam and laughing about it', 'christianity and somewhat serious about it', 'other and very serious about it', 'buddhism and laughing about it', 'judaism and laughing about it', 'hinduism', 'buddhism and somewhat serious about it', 'atheism and somewhat serious about it', 'hinduism and very serious about it', 'other', 'judaism', 'buddhism and very serious about it', nan, 'other but not too serious about it', 'atheism and very serious about it', 'other and laughing about it', 'judaism and somewhat serious about it', 'atheism and laughing about it', 'catholicism and laughing about it', 'islam and somewhat serious about it', 'catholicism but not too serious about it', 'atheism', 'catholicism and somewhat serious about it', 'agnosticism and very serious about it', 'agnosticism', 'agnosticism and laughing about it', 'hinduism and laughing about it']\n"
     ]
    }
   ],
   "source": [
    "# Unique values\n",
    "print('body_type:')\n",
    "print(list(set(okcupid_profiles['body_type'])))\n",
    "\n",
    "print()\n",
    "print('diet:')\n",
    "print(list(set(okcupid_profiles['diet'])))\n",
    "\n",
    "print()\n",
    "print('Religion:')\n",
    "print(list(set(okcupid_profiles['religion'])))"
   ]
  },
  {
   "cell_type": "markdown",
   "id": "e99fdd39-178f-474a-9d69-0475d5e0aebc",
   "metadata": {},
   "source": [
    "## Data visualization by groups"
   ]
  },
  {
   "cell_type": "code",
   "execution_count": 64,
   "id": "0188fc67-264a-41b5-a95d-eaf99db1e1dc",
   "metadata": {},
   "outputs": [],
   "source": [
    "# sns.countplot(x = 'age', data = okcupid_profiles)"
   ]
  },
  {
   "cell_type": "code",
   "execution_count": 71,
   "id": "9a3c3b20-4dd7-44c0-b662-ca4a327e347c",
   "metadata": {},
   "outputs": [
    {
     "data": {
      "text/plain": [
       "<Figure size 1500x700 with 0 Axes>"
      ]
     },
     "metadata": {},
     "output_type": "display_data"
    },
    {
     "data": {
      "image/png": "[encoded data removed]",
      "text/plain": [
       "<Figure size 1063.5x500 with 1 Axes>"
      ]
     },
     "metadata": {},
     "output_type": "display_data"
    }
   ],
   "source": [
    "# sns.countplot(y = 'age', data = my_data)\n",
    "plt.figure(figsize=(15, 7))\n",
    "\n",
    "sns.catplot(x = 'age', \n",
    "            data = okcupid_profiles, \n",
    "            kind = 'count', \n",
    "            palette = 'pastel', \n",
    "            hue = 'sex', \n",
    "            height = 5, # make the plot 5 units high\n",
    "            aspect = 2)\n",
    "\n",
    "plt.xticks(rotation = 25)\n",
    "\n",
    "plt.title('Age distribution')\n",
    "\n",
    "plt.show()"
   ]
  },
  {
   "cell_type": "code",
   "execution_count": null,
   "id": "525ad482-71f5-45dd-beeb-5ff81b757f9c",
   "metadata": {},
   "outputs": [],
   "source": []
  },
  {
   "cell_type": "code",
   "execution_count": null,
   "id": "a5d14047-dd8e-43e0-a9eb-df4deb43ad43",
   "metadata": {},
   "outputs": [],
   "source": []
  },
  {
   "cell_type": "code",
   "execution_count": null,
   "id": "71dbe301-a438-4f63-9b25-caec87446bae",
   "metadata": {},
   "outputs": [],
   "source": []
  },
  {
   "cell_type": "code",
   "execution_count": null,
   "id": "96084b3a-31ec-44a5-a55e-9b5d2f86a47b",
   "metadata": {},
   "outputs": [],
   "source": []
  },
  {
   "cell_type": "markdown",
   "id": "97ba6281-61e3-4d7e-994e-88cdc84ea102",
   "metadata": {
    "tags": []
   },
   "source": [
    "# Melon experiments with Pandas"
   ]
  },
  {
   "cell_type": "code",
   "execution_count": null,
   "id": "1fdaa136-c502-4681-9bc1-f6e5fae128ba",
   "metadata": {},
   "outputs": [],
   "source": [
    "dataframe.head()"
   ]
  },
  {
   "cell_type": "code",
   "execution_count": null,
   "id": "559a79e5-ad62-48df-bd02-e2cf06deecc4",
   "metadata": {},
   "outputs": [],
   "source": [
    "dataframe.tail()"
   ]
  },
  {
   "cell_type": "code",
   "execution_count": null,
   "id": "168d8894-2f77-4021-94ca-8a35a9cebcc1",
   "metadata": {},
   "outputs": [],
   "source": [
    "dataframe.index"
   ]
  },
  {
   "cell_type": "code",
   "execution_count": 39,
   "id": "ab469a1b-3b46-4b4e-ae9b-274afe4e42fc",
   "metadata": {},
   "outputs": [
    {
     "data": {
      "text/plain": [
       "Index(['Unnamed: 0', 'age', 'status', 'sex', 'orientation', 'body_type',\n",
       "       'diet', 'drinks', 'drugs', 'education', 'ethnicity', 'height', 'income',\n",
       "       'job', 'last_online', 'location', 'offspring', 'pets', 'religion',\n",
       "       'sign', 'smokes', 'speaks'],\n",
       "      dtype='object')"
      ]
     },
     "execution_count": 39,
     "metadata": {},
     "output_type": "execute_result"
    }
   ],
   "source": [
    "dataframe.columns"
   ]
  },
  {
   "cell_type": "code",
   "execution_count": null,
   "id": "d97fd5f9-210a-4ef9-ba35-f38e6f12c9e4",
   "metadata": {},
   "outputs": [],
   "source": [
    "dataframe.sort_values(by = \"income\")"
   ]
  },
  {
   "cell_type": "code",
   "execution_count": null,
   "id": "5d5e7e49-531b-4de1-88aa-1e33de71f317",
   "metadata": {},
   "outputs": [],
   "source": [
    "dataframe[\"diet\"]"
   ]
  },
  {
   "cell_type": "code",
   "execution_count": null,
   "id": "a39d791b-957c-4127-a34c-315ad2c7a677",
   "metadata": {},
   "outputs": [],
   "source": [
    "dataframe.loc[69:420, 'drugs':'height']"
   ]
  },
  {
   "cell_type": "code",
   "execution_count": null,
   "id": "3d22137f-94b5-4da7-9b7b-6b5c44c13c34",
   "metadata": {},
   "outputs": [],
   "source": [
    "dataframe.loc[69] # content of row 69"
   ]
  },
  {
   "cell_type": "code",
   "execution_count": null,
   "id": "ca126c84-bb73-4e73-896a-95e0ce7bd8a4",
   "metadata": {},
   "outputs": [],
   "source": [
    "dataframe[dataframe[\"income\"] > 20000]"
   ]
  },
  {
   "cell_type": "code",
   "execution_count": null,
   "id": "387e180c-fc0a-4dda-9a36-c1aa7955fb27",
   "metadata": {},
   "outputs": [],
   "source": [
    "dataframe[dataframe[\"diet\"].isin(['vegetarian', 'mostly vegetarian', 'strictly vegan', 'strictly vegetarian', 'mostly vegan', 'vegan'])]"
   ]
  },
  {
   "cell_type": "code",
   "execution_count": null,
   "id": "929ec9a2-f023-46be-aab2-c3ef4a905be4",
   "metadata": {},
   "outputs": [],
   "source": [
    "dataframe.head()\n",
    "for keys in dataframe.keys():\n",
    "    print(keys)"
   ]
  },
  {
   "cell_type": "code",
   "execution_count": null,
   "id": "9b199bd1-c70d-4857-aa78-8d750aa922b8",
   "metadata": {},
   "outputs": [],
   "source": [
    "dataframe = dataframe.drop(columns='Unnamed: 0')"
   ]
  },
  {
   "cell_type": "markdown",
   "id": "ab29c3fb-9e83-44f2-9842-b92661e3341e",
   "metadata": {
    "tags": []
   },
   "source": [
    "## Analysis of missing data from the dataset"
   ]
  },
  {
   "cell_type": "code",
   "execution_count": null,
   "id": "be062346-c5e6-47f9-a21c-909a95e508a3",
   "metadata": {},
   "outputs": [],
   "source": [
    "dataframe.isna().sum().plot(kind='bar')"
   ]
  },
  {
   "cell_type": "markdown",
   "id": "8e7cc38d-505d-47cb-add7-7b81ab54e846",
   "metadata": {},
   "source": [
    "This diagram shows the missing data for each attribute. Age, status, sex, orientation and location are probably mandatory if you want to register in the app, therefore there are no missing data points. 'last_online' is managed by the service itself, so there's no missing data aswell.\n",
    "\n",
    "What is interesting is the type of data that people omit most often. The 'offspring' parameter is the one that stands out the most from the rest. It describes whether or not the person has kids or plans of having them. "
   ]
  },
  {
   "cell_type": "markdown",
   "id": "f62323e6-120d-4772-87fa-485fcc101d6c",
   "metadata": {},
   "source": [
    "TODO: analyze the diet attribute. Group together vegetarian alike types, eat-all alike, and idk if there are other types rn. Put them together, and analyze how many are of them in % and draw some conclusions. We would use Aggregation and gather some points like this."
   ]
  },
  {
   "cell_type": "code",
   "execution_count": null,
   "id": "9e7efd4c-2077-4a6d-8602-3a72179fc32b",
   "metadata": {},
   "outputs": [],
   "source": [
    "sns.histplot(dataframe, y = 'diet')"
   ]
  },
  {
   "cell_type": "code",
   "execution_count": null,
   "id": "9103e256-9164-42a3-9b94-4733f69e4663",
   "metadata": {},
   "outputs": [],
   "source": [
    "# dataframe_na = dataframe.dropna()\n",
    "dataframe_na = dataframe.copy()"
   ]
  },
  {
   "cell_type": "code",
   "execution_count": null,
   "id": "9b2e0067-e91e-42f0-8af6-74679b148ef7",
   "metadata": {},
   "outputs": [],
   "source": [
    "dataframe_na.fillna('MISSING', inplace =True)"
   ]
  },
  {
   "cell_type": "code",
   "execution_count": null,
   "id": "1c5beb0d-c006-43de-aea7-9e4cbfa08d24",
   "metadata": {},
   "outputs": [],
   "source": [
    "dataframe_na['grouped_diet'] = dataframe_na['diet'].apply(lambda x : \"veg\" if (('vegetarian' or 'vegan') in x) \n",
    "                                                          else (\"other\" if (\"other\" in x) \n",
    "                                                                else (\"anything\" if ('anything' in x) \n",
    "                                                                      else (\"religious\" if (('halal' or 'kosher') in x) else 'missing' ))))"
   ]
  },
  {
   "cell_type": "code",
   "execution_count": null,
   "id": "2fb1410b-6b1a-4454-b1d9-eb64468cd3a1",
   "metadata": {},
   "outputs": [],
   "source": [
    "sns.histplot(dataframe_na, y = 'grouped_diet')"
   ]
  },
  {
   "cell_type": "code",
   "execution_count": null,
   "id": "5c767af3-6458-44fe-bccc-81eab0623914",
   "metadata": {},
   "outputs": [],
   "source": []
  }
 ],
 "metadata": {
  "kernelspec": {
   "display_name": "Python 3 (ipykernel)",
   "language": "python",
   "name": "python3"
  },
  "language_info": {
   "codemirror_mode": {
    "name": "ipython",
    "version": 3
   },
   "file_extension": ".py",
   "mimetype": "text/x-python",
   "name": "python",
   "nbconvert_exporter": "python",
   "pygments_lexer": "ipython3",
   "version": "3.10.4"
  },
  "vscode": {
   "interpreter": {
    "hash": "8081a34b375f07f1b64308f8b1331304684375fa3bcbe9bb11516f28525bb643"
   }
  }
 },
 "nbformat": 4,
 "nbformat_minor": 5
}
