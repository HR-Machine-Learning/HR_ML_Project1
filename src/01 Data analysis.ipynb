{
 "cells": [
  {
   "cell_type": "code",
   "execution_count": null,
   "id": "fe13c888-2d05-4dd6-a2ac-f414c7836fd7",
   "metadata": {},
   "outputs": [],
   "source": [
    "import pandas as pd\n",
    "import numpy as np\n",
    "import seaborn as sns\n",
    "import matplotlib as plt"
   ]
  },
  {
   "cell_type": "code",
   "execution_count": null,
   "id": "8db4f11e-22d0-4708-bcbf-88e2dc4a644a",
   "metadata": {},
   "outputs": [],
   "source": [
    "dataframe = pd.read_csv('../data/okcupid.csv')"
   ]
  },
  {
   "cell_type": "markdown",
   "id": "97ba6281-61e3-4d7e-994e-88cdc84ea102",
   "metadata": {},
   "source": [
    "# Melon experiments with Pandas"
   ]
  },
  {
   "cell_type": "code",
   "execution_count": null,
   "id": "1fdaa136-c502-4681-9bc1-f6e5fae128ba",
   "metadata": {},
   "outputs": [],
   "source": [
    "dataframe.head()"
   ]
  },
  {
   "cell_type": "code",
   "execution_count": null,
   "id": "559a79e5-ad62-48df-bd02-e2cf06deecc4",
   "metadata": {},
   "outputs": [],
   "source": [
    "dataframe.tail()"
   ]
  },
  {
   "cell_type": "code",
   "execution_count": null,
   "id": "168d8894-2f77-4021-94ca-8a35a9cebcc1",
   "metadata": {},
   "outputs": [],
   "source": [
    "dataframe.index"
   ]
  },
  {
   "cell_type": "code",
   "execution_count": 39,
   "id": "ab469a1b-3b46-4b4e-ae9b-274afe4e42fc",
   "metadata": {},
   "outputs": [
    {
     "data": {
      "text/plain": [
       "Index(['Unnamed: 0', 'age', 'status', 'sex', 'orientation', 'body_type',\n",
       "       'diet', 'drinks', 'drugs', 'education', 'ethnicity', 'height', 'income',\n",
       "       'job', 'last_online', 'location', 'offspring', 'pets', 'religion',\n",
       "       'sign', 'smokes', 'speaks'],\n",
       "      dtype='object')"
      ]
     },
     "execution_count": 39,
     "metadata": {},
     "output_type": "execute_result"
    }
   ],
   "source": [
    "dataframe.columns"
   ]
  },
  {
   "cell_type": "code",
   "execution_count": null,
   "id": "d97fd5f9-210a-4ef9-ba35-f38e6f12c9e4",
   "metadata": {},
   "outputs": [],
   "source": [
    "dataframe.sort_values(by = \"income\")"
   ]
  },
  {
   "cell_type": "code",
   "execution_count": null,
   "id": "5d5e7e49-531b-4de1-88aa-1e33de71f317",
   "metadata": {},
   "outputs": [],
   "source": [
    "dataframe[\"diet\"]"
   ]
  },
  {
   "cell_type": "code",
   "execution_count": null,
   "id": "a39d791b-957c-4127-a34c-315ad2c7a677",
   "metadata": {},
   "outputs": [],
   "source": [
    "dataframe.loc[69:420, 'drugs':'height']"
   ]
  },
  {
   "cell_type": "code",
   "execution_count": null,
   "id": "3d22137f-94b5-4da7-9b7b-6b5c44c13c34",
   "metadata": {},
   "outputs": [],
   "source": [
    "dataframe.loc[69] # content of row 69"
   ]
  },
  {
   "cell_type": "code",
   "execution_count": null,
   "id": "ca126c84-bb73-4e73-896a-95e0ce7bd8a4",
   "metadata": {},
   "outputs": [],
   "source": [
    "dataframe[dataframe[\"income\"] > 20000]"
   ]
  },
  {
   "cell_type": "code",
   "execution_count": null,
   "id": "387e180c-fc0a-4dda-9a36-c1aa7955fb27",
   "metadata": {},
   "outputs": [],
   "source": [
    "dataframe[dataframe[\"diet\"].isin(['vegetarian', 'mostly vegetarian', 'strictly vegan', 'strictly vegetarian', 'mostly vegan', 'vegan'])]"
   ]
  },
  {
   "cell_type": "code",
   "execution_count": null,
   "id": "929ec9a2-f023-46be-aab2-c3ef4a905be4",
   "metadata": {},
   "outputs": [],
   "source": [
    "dataframe.head()\n",
    "for keys in dataframe.keys():\n",
    "    print(keys)"
   ]
  },
  {
   "cell_type": "code",
   "execution_count": null,
   "id": "9b199bd1-c70d-4857-aa78-8d750aa922b8",
   "metadata": {},
   "outputs": [],
   "source": [
    "dataframe = dataframe.drop(columns='Unnamed: 0')"
   ]
  },
  {
   "cell_type": "markdown",
   "id": "ab29c3fb-9e83-44f2-9842-b92661e3341e",
   "metadata": {},
   "source": [
    "## Analysis of missing data from the dataset"
   ]
  },
  {
   "cell_type": "code",
   "execution_count": null,
   "id": "be062346-c5e6-47f9-a21c-909a95e508a3",
   "metadata": {},
   "outputs": [],
   "source": [
    "dataframe.isna().sum().plot(kind='bar')"
   ]
  },
  {
   "cell_type": "markdown",
   "id": "8e7cc38d-505d-47cb-add7-7b81ab54e846",
   "metadata": {},
   "source": [
    "This diagram shows the missing data for each attribute. Age, status, sex, orientation and location are probably mandatory if you want to register in the app, therefore there are no missing data points. 'last_online' is managed by the service itself, so there's no missing data aswell.\n",
    "\n",
    "What is interesting is the type of data that people omit most often. The 'offspring' parameter is the one that stands out the most from the rest. It describes whether or not the person has kids or plans of having them. "
   ]
  },
  {
   "cell_type": "markdown",
   "id": "f62323e6-120d-4772-87fa-485fcc101d6c",
   "metadata": {},
   "source": [
    "TODO: analyze the diet attribute. Group together vegetarian alike types, eat-all alike, and idk if there are other types rn. Put them together, and analyze how many are of them in % and draw some conclusions. We would use Aggregation and gather some points like this."
   ]
  },
  {
   "cell_type": "code",
   "execution_count": null,
   "id": "9e7efd4c-2077-4a6d-8602-3a72179fc32b",
   "metadata": {},
   "outputs": [],
   "source": [
    "sns.histplot(dataframe, y = 'diet')"
   ]
  },
  {
   "cell_type": "code",
   "execution_count": null,
   "id": "9103e256-9164-42a3-9b94-4733f69e4663",
   "metadata": {},
   "outputs": [],
   "source": [
    "# dataframe_na = dataframe.dropna()\n",
    "dataframe_na = dataframe.copy()"
   ]
  },
  {
   "cell_type": "code",
   "execution_count": null,
   "id": "9b2e0067-e91e-42f0-8af6-74679b148ef7",
   "metadata": {},
   "outputs": [],
   "source": [
    "dataframe_na.fillna('MISSING', inplace =True)"
   ]
  },
  {
   "cell_type": "code",
   "execution_count": null,
   "id": "1c5beb0d-c006-43de-aea7-9e4cbfa08d24",
   "metadata": {},
   "outputs": [],
   "source": [
    "dataframe_na['grouped_diet'] = dataframe_na['diet'].apply(lambda x : \"veg\" if (('vegetarian' or 'vegan') in x) \n",
    "                                                          else (\"other\" if (\"other\" in x) \n",
    "                                                                else (\"anything\" if ('anything' in x) \n",
    "                                                                      else (\"religious\" if (('halal' or 'kosher') in x) else 'missing' ))))"
   ]
  },
  {
   "cell_type": "code",
   "execution_count": null,
   "id": "2fb1410b-6b1a-4454-b1d9-eb64468cd3a1",
   "metadata": {},
   "outputs": [],
   "source": [
    "sns.histplot(dataframe_na, y = 'grouped_diet')"
   ]
  },
  {
   "cell_type": "code",
   "execution_count": null,
   "id": "5c767af3-6458-44fe-bccc-81eab0623914",
   "metadata": {},
   "outputs": [],
   "source": []
  }
 ],
 "metadata": {
  "kernelspec": {
   "display_name": "Python 3 (ipykernel)",
   "language": "python",
   "name": "python3"
  },
  "language_info": {
   "codemirror_mode": {
    "name": "ipython",
    "version": 3
   },
   "file_extension": ".py",
   "mimetype": "text/x-python",
   "name": "python",
   "nbconvert_exporter": "python",
   "pygments_lexer": "ipython3",
   "version": "3.10.4"
  },
  "vscode": {
   "interpreter": {
    "hash": "8081a34b375f07f1b64308f8b1331304684375fa3bcbe9bb11516f28525bb643"
   }
  }
 },
 "nbformat": 4,
 "nbformat_minor": 5
}
